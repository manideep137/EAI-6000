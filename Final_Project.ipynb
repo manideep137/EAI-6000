{
  "nbformat": 4,
  "nbformat_minor": 0,
  "metadata": {
    "colab": {
      "name": "Final_Project.ipynb",
      "provenance": [],
      "toc_visible": true,
      "include_colab_link": true
    },
    "kernelspec": {
      "name": "python3",
      "display_name": "Python 3"
    }
  },
  "cells": [
    {
      "cell_type": "markdown",
      "metadata": {
        "id": "view-in-github",
        "colab_type": "text"
      },
      "source": [
        "<a href=\"https://colab.research.google.com/github/manideep137/EAI-6000/blob/master/Final_Project.ipynb\" target=\"_parent\"><img src=\"https://colab.research.google.com/assets/colab-badge.svg\" alt=\"Open In Colab\"/></a>"
      ]
    },
    {
      "cell_type": "markdown",
      "metadata": {
        "id": "RgnQYpy-Fy75",
        "colab_type": "text"
      },
      "source": [
        "Group: 3 people\n",
        "1. Sasank Kumar Kantana\n",
        "2. Shabarinath Chandran\n",
        "3. Manideep Nama\n",
        "\n",
        "Date: 03/18/2020"
      ]
    },
    {
      "cell_type": "markdown",
      "metadata": {
        "id": "959EZuddGQzR",
        "colab_type": "text"
      },
      "source": [
        "Source of the Dataset:\n",
        "\n",
        "https://www.quandl.com/data/NSE/TATAGLOBAL-Tata-Global-Beverages-Limited"
      ]
    },
    {
      "cell_type": "markdown",
      "metadata": {
        "id": "1Dv7TfrfGihH",
        "colab_type": "text"
      },
      "source": [
        "Background Information of the Dataset:\n",
        "* We are going to deal with the Stock exchange data of a renowed Indian beverage company - Tata Global beverages limited (Now Tata Consumer Products).\n",
        "\n",
        "* Tata Consumer Products is a focused consumer products company uniting the food and beverage interests of the Tata Group under one umbrella. It is home to key brands such as Tata Tea, Tetley, Tata Salt and Tata Sampann. With a combined reach of over 200 million households in India, it has an unparalleled ability to leverage the Tata brand in consumer products.\n",
        "\n",
        "* In the Beverages business, Tata Consumer Products is the 2nd largest player in branded tea in the world with over 330 million servings everyday across the world. Our brands include Tata Tea, Tetley, Vitax, Eight O’Clock Coffee, Himalayan Natural Mineral Water, Tata Coffee Grand and Joekels.\n",
        "\n",
        "* Tata Consumer Products has grown through innovation, strategic alliances and acquisitions, and organic growth. The Company has a joint venture with Starbucks called Tata Starbucks Limited, to own and operate Starbucks cafés in India. Since the inauguration of the flagship store in Mumbai in October 2012, this 50:50 JV has expanded to 10 cities, with many more Starbucks stores planned across the country.\n",
        "\n",
        "* The Company also has a JV with PepsiCo in India, called NourishCo, which produces non-carbonated ready-to-drink beverages that focus on health and enhanced wellness. NourishCo produces and markets Tata Water Plus — India’s first nutrient water, and Tata Gluco Plus — an energizing, glucose-based flavoured drink. Himalayan water is also marketed and distributed through NourishCo."
      ]
    },
    {
      "cell_type": "markdown",
      "metadata": {
        "id": "X5habd8-JUdO",
        "colab_type": "text"
      },
      "source": [
        "Code for downloading the dataset to google drive and load directly to the notebook:"
      ]
    },
    {
      "cell_type": "code",
      "metadata": {
        "id": "NH7C8NeYRSKj",
        "colab_type": "code",
        "outputId": "4a0b901d-7d53-44a8-c45c-6f49c2e6d226",
        "colab": {
          "base_uri": "https://localhost:8080/",
          "height": 54
        }
      },
      "source": [
        "import pandas as pd\n",
        "from google.colab import drive\n",
        "drive.mount('/content/gdrive')"
      ],
      "execution_count": 0,
      "outputs": [
        {
          "output_type": "stream",
          "text": [
            "Drive already mounted at /content/gdrive; to attempt to forcibly remount, call drive.mount(\"/content/gdrive\", force_remount=True).\n"
          ],
          "name": "stdout"
        }
      ]
    },
    {
      "cell_type": "code",
      "metadata": {
        "id": "dLvDxmRjSaFz",
        "colab_type": "code",
        "outputId": "dff5a898-392f-4e43-d3f5-9eca7d9fb22d",
        "colab": {
          "base_uri": "https://localhost:8080/",
          "height": 153
        }
      },
      "source": [
        "import requests  \n",
        "\n",
        "file_url = \"https://www.quandl.com/api/v3/datasets/NSE/TATAGLOBAL.csv?api_key=no1QrXthvAm9S9sgdDrQ\"\n",
        "\n",
        "r = requests.get(file_url, stream = True)  \n",
        "\n",
        "with open(\"/content/gdrive/My Drive/NSETATAGLOBAL.csv\", \"wb\") as file:  \n",
        "\n",
        "    for block in r.iter_content(chunk_size = 1024): \n",
        "\n",
        "         if block:  \n",
        "\n",
        "             file.write(block)\n",
        "with open(\"/content/gdrive/My Drive/NSETATAGLOBAL.csv\", \"rb\") as f:\n",
        "  df=pd.read_csv(f)    \n",
        "  df.head()  \n",
        "print(df.head())      "
      ],
      "execution_count": 0,
      "outputs": [
        {
          "output_type": "stream",
          "text": [
            "         Date    Open    High  ...   Close  Total Trade Quantity  Turnover (Lacs)\n",
            "0  2019-01-04  210.60  214.90  ...  213.80             1213181.0          2583.05\n",
            "1  2019-01-03  214.95  215.35  ...  210.05             2096553.0          4433.50\n",
            "2  2019-01-02  219.00  220.35  ...  214.60             1081778.0          2340.31\n",
            "3  2019-01-01  219.95  221.05  ...  219.10              716275.0          1571.63\n",
            "4  2018-12-31  222.00  223.65  ...  219.40              965858.0          2131.09\n",
            "\n",
            "[5 rows x 8 columns]\n"
          ],
          "name": "stdout"
        }
      ]
    },
    {
      "cell_type": "markdown",
      "metadata": {
        "id": "y16FP98waXnq",
        "colab_type": "text"
      },
      "source": [
        "Project proposal:\n",
        "\n",
        "* Today the most happening and concerned topic is stock market. \n",
        "* Predicting how the stock market will perform is one of the most difficult things to do. There are so many factors involved in the prediction – physical factors vs. physhological, rational and irrational behaviour, etc. All these aspects combine to make share prices volatile and very difficult to predict with a high degree of accuracy.\n",
        "* Can we use machine learning as a game changer in this domain? Using features like the latest announcements about an organization, their quarterly revenue results, etc., machine learning techniques have the potential to unearth patterns and insights we didn’t see before, and these can be used to make unerringly accurate predictions.\n",
        "* In this project, we will work with historical data about the stock prices of a publicly listed company. We will implement a mix of machine learning algorithms to predict the future stock price of this company, starting with simple algorithms like averaging and linear regression, and then move on to advanced techniques like Auto ARIMA and LSTM."
      ]
    },
    {
      "cell_type": "markdown",
      "metadata": {
        "id": "Q0rVCu1kVUOY",
        "colab_type": "text"
      },
      "source": [
        "Proof of Concepts:\n",
        "\n",
        "Here by we are putting the sources that we have sighted to get the deep understanding of the models which we are willing to apply for the selected dataset. These consists of two simple models and two complex models. We aim to get the best possible results with maximum accuacry and check which model suits the above requirements.\n",
        "\n",
        "* Linear regression: https://towardsdatascience.com/introduction-to-machine-learning-algorithms-linear-regression-14c4e325882a\n",
        "* Logistic regression: https://towardsdatascience.com/understanding-logistic-regression-step-by-step-704a78be7e0a\n",
        "* KNN: https://www.analyticsvidhya.com/blog/2018/03/introduction-k-neighbours-algorithm-clustering/\n",
        "* Auto ARIMA: https://www.analyticsvidhya.com/blog/2018/08/auto-arima-time-series-modeling-python-r/\n",
        "* Prophet: https://medium.com/open-machine-learning-course/open-machine-learning-course-topic-9-part-3-predicting-the-future-with-facebook-prophet-3f3af145cdc\n",
        "* Long Short Term Memory (LSTM): https://towardsdatascience.com/illustrated-guide-to-lstms-and-gru-s-a-step-by-step-explanation-44e9eb85bf21"
      ]
    },
    {
      "cell_type": "code",
      "metadata": {
        "id": "2JhRhC5SWKK-",
        "colab_type": "code",
        "colab": {}
      },
      "source": [
        ""
      ],
      "execution_count": 0,
      "outputs": []
    }
  ]
}