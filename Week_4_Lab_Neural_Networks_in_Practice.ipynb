{
  "nbformat": 4,
  "nbformat_minor": 0,
  "metadata": {
    "anaconda-cloud": {},
    "colab": {
      "name": "Week_4_Lab_Neural_Networks_in_Practice.ipynb",
      "provenance": [],
      "collapsed_sections": [
        "PrxYLkMX9Ev3",
        "W9_hvA-lanwt",
        "ARqVvyMX9ExF"
      ],
      "toc_visible": true,
      "machine_shape": "hm",
      "include_colab_link": true
    },
    "kernelspec": {
      "display_name": "Python 3",
      "language": "python",
      "name": "python3"
    },
    "language_info": {
      "codemirror_mode": {
        "name": "ipython",
        "version": 3
      },
      "file_extension": ".py",
      "mimetype": "text/x-python",
      "name": "python",
      "nbconvert_exporter": "python",
      "pygments_lexer": "ipython3",
      "version": "3.7.0"
    }
  },
  "cells": [
    {
      "cell_type": "markdown",
      "metadata": {
        "id": "view-in-github",
        "colab_type": "text"
      },
      "source": [
        "<a href=\"https://colab.research.google.com/github/manideep137/EAI-6000/blob/master/Week_4_Lab_Neural_Networks_in_Practice.ipynb\" target=\"_parent\"><img src=\"https://colab.research.google.com/assets/colab-badge.svg\" alt=\"Open In Colab\"/></a>"
      ]
    },
    {
      "cell_type": "markdown",
      "metadata": {
        "colab_type": "text",
        "id": "jE7Q3E9i9Evd"
      },
      "source": [
        "# Week 4 Lab: Neural Networks in practice"
      ]
    },
    {
      "cell_type": "markdown",
      "metadata": {
        "id": "Kuk05DUMLKN-",
        "colab_type": "text"
      },
      "source": [
        "**I implemented code from chandras assignment,after understanding it.**"
      ]
    },
    {
      "cell_type": "code",
      "metadata": {
        "colab_type": "code",
        "hide_input": false,
        "id": "gWDjQyV59Evg",
        "outputId": "a3f0114c-d679-4d75-b7fb-3ae3b41584bb",
        "colab": {
          "base_uri": "https://localhost:8080/",
          "height": 95
        }
      },
      "source": [
        "# Global imports and settings\n",
        "\n",
        "from IPython.display import set_matplotlib_formats, display\n",
        "import pandas as pd\n",
        "import numpy as np\n",
        "import matplotlib.pyplot as plt\n",
        "from cycler import cycler\n",
        "import keras\n",
        "print(\"Using Keras\",keras.__version__)\n",
        "%matplotlib inline\n",
        "plt.rcParams['figure.dpi'] = 125 # Use 300 for PDF, 100 for slides\n"
      ],
      "execution_count": 1,
      "outputs": [
        {
          "output_type": "stream",
          "text": [
            "Using TensorFlow backend.\n"
          ],
          "name": "stderr"
        },
        {
          "output_type": "display_data",
          "data": {
            "text/html": [
              "<p style=\"color: red;\">\n",
              "The default version of TensorFlow in Colab will soon switch to TensorFlow 2.x.<br>\n",
              "We recommend you <a href=\"https://www.tensorflow.org/guide/migrate\" target=\"_blank\">upgrade</a> now \n",
              "or ensure your notebook will continue to use TensorFlow 1.x via the <code>%tensorflow_version 1.x</code> magic:\n",
              "<a href=\"https://colab.research.google.com/notebooks/tensorflow_version.ipynb\" target=\"_blank\">more info</a>.</p>\n"
            ],
            "text/plain": [
              "<IPython.core.display.HTML object>"
            ]
          },
          "metadata": {
            "tags": []
          }
        },
        {
          "output_type": "stream",
          "text": [
            "Using Keras 2.2.5\n"
          ],
          "name": "stdout"
        }
      ]
    },
    {
      "cell_type": "markdown",
      "metadata": {
        "cell_style": "center",
        "colab_type": "text",
        "id": "QJdIHypq9Evk"
      },
      "source": [
        "### Overview\n",
        "* Solving basic classification and regression problems\n",
        "* Handling textual data\n",
        "* Model selection (and overfitting)"
      ]
    },
    {
      "cell_type": "markdown",
      "metadata": {
        "colab_type": "text",
        "id": "njT6MasM9Evl"
      },
      "source": [
        "## Solving basic problems\n",
        "* Binary classification (of movie reviews)\n",
        "* Multiclass classification (of news topics)\n",
        "* Regression (of house prices)\n",
        "\n",
        "Examples from _Deep Learning with Python_, by _François Chollet_"
      ]
    },
    {
      "cell_type": "markdown",
      "metadata": {
        "colab_type": "text",
        "id": "xsUfzIi59Evn"
      },
      "source": [
        "### Binary classification\n",
        "* Dataset: 50,000 IMDB reviews, labeled positive (1) or negative (0)\n",
        "    - Included in Keras, with a 50/50 train-test split\n",
        "* Each row is one review, with only the 10,000 most frequent words retained\n",
        "* Each word is replaced by a _word index_ (word ID)"
      ]
    },
    {
      "cell_type": "code",
      "metadata": {
        "colab_type": "code",
        "hide_input": true,
        "id": "Mk42XDWZ9Evn",
        "outputId": "d4db19d5-a15d-42fe-e4ae-b7f2c8a469c6",
        "colab": {
          "base_uri": "https://localhost:8080/",
          "height": 115
        }
      },
      "source": [
        "from keras.datasets import imdb\n",
        "# Download IMDB data with 10000 most frequent words\n",
        "(train_data, train_labels), (test_data, test_labels) = imdb.load_data(num_words=10000)\n",
        "print(\"Encoded review: \", train_data[0][0:10])\n",
        "\n",
        "word_index = imdb.get_word_index()\n",
        "reverse_word_index = dict([(value, key) for (key, value) in word_index.items()])\n",
        "print(\"Original review: \", ' '.join([reverse_word_index.get(i - 3, '?') for i in train_data[0]][0:10]))"
      ],
      "execution_count": 2,
      "outputs": [
        {
          "output_type": "stream",
          "text": [
            "Downloading data from https://s3.amazonaws.com/text-datasets/imdb.npz\n",
            "17465344/17464789 [==============================] - 0s 0us/step\n",
            "Encoded review:  [1, 14, 22, 16, 43, 530, 973, 1622, 1385, 65]\n",
            "Downloading data from https://s3.amazonaws.com/text-datasets/imdb_word_index.json\n",
            "1646592/1641221 [==============================] - 0s 0us/step\n",
            "Original review:  ? this film was just brilliant casting location scenery story\n"
          ],
          "name": "stdout"
        }
      ]
    },
    {
      "cell_type": "markdown",
      "metadata": {
        "colab_type": "text",
        "id": "gbHSVzma9Evq"
      },
      "source": [
        "#### Preprocessing\n",
        "* We can't input lists of categorical value to a neural net, we need to create tensors\n",
        "* One-hot-encoding:\n",
        "    -  10000 features, '1.0' if the word occurs\n",
        "* Word embeddings (word2vec):\n",
        "    - Map each word to a dense vector that represents it (it's _embedding_)\n",
        "    - _Embedding_ layer: pre-trained layer that looks up the embedding in a dictionary \n",
        "    - Converts 2D tensor of word indices (zero-padded) to 3D tensor of embeddings\n",
        "* Let's do One-Hot-Encoding for now. We'll come back to _Embedding_ layers.\n",
        "* Also vectorize the labels: from 0/1 to float\n",
        "    - Binary classification works with one output node"
      ]
    },
    {
      "cell_type": "code",
      "metadata": {
        "colab_type": "code",
        "hide_input": true,
        "id": "nSzfO-XG9Evs",
        "colab": {}
      },
      "source": [
        "# Custom implementation of one-hot-encoding\n",
        "def vectorize_sequences(sequences, dimension=10000):\n",
        "    results = np.zeros((len(sequences), dimension))\n",
        "    for i, sequence in enumerate(sequences):\n",
        "        results[i, sequence] = 1.  # set specific indices of results[i] to 1s\n",
        "    return results\n",
        "x_train = vectorize_sequences(train_data)\n",
        "x_test = vectorize_sequences(test_data)\n",
        "y_train = np.asarray(train_labels).astype('float32')\n",
        "y_test = np.asarray(test_labels).astype('float32')"
      ],
      "execution_count": 0,
      "outputs": []
    },
    {
      "cell_type": "markdown",
      "metadata": {
        "colab_type": "text",
        "id": "4_JHofjQRme1"
      },
      "source": [
        "#### Understanding the format of IMDB dataset\n",
        "1. Train_data and test_data are an array of lists. What does the length of this array correspond to? What does the length of each list correspond to?\n",
        "2. What are the sizes of the vectorized x_train and x_test? What do the dimensions correspond to?\n",
        "3. What is the most common word in the first review in the training data? Hint: use the word index (see above)? \n",
        "4. Print the first review to verify. "
      ]
    },
    {
      "cell_type": "markdown",
      "metadata": {
        "id": "9JGbsCxSH27K",
        "colab_type": "text"
      },
      "source": [
        "1.The length of array is the number of reviews and the length of liss correspond to number of words in the review\n",
        "2.Thee size of x_train and x_test is 250000000 and the shapes are (25000,10000).25000 corresponds to the number of reviews and 10000 corresponds to  One-Hot-Encoded format of each review.\n",
        "3.\"the\" is the most common word in the first review\n"
      ]
    },
    {
      "cell_type": "code",
      "metadata": {
        "colab_type": "code",
        "id": "ceBrbGWxRLJK",
        "outputId": "40aaafd1-231f-4404-fe57-eeb67fa7a437",
        "colab": {
          "base_uri": "https://localhost:8080/",
          "height": 168
        }
      },
      "source": [
        "train_data\n"
      ],
      "execution_count": 4,
      "outputs": [
        {
          "output_type": "execute_result",
          "data": {
            "text/plain": [
              "array([list([1, 14, 22, 16, 43, 530, 973, 1622, 1385, 65, 458, 4468, 66, 3941, 4, 173, 36, 256, 5, 25, 100, 43, 838, 112, 50, 670, 2, 9, 35, 480, 284, 5, 150, 4, 172, 112, 167, 2, 336, 385, 39, 4, 172, 4536, 1111, 17, 546, 38, 13, 447, 4, 192, 50, 16, 6, 147, 2025, 19, 14, 22, 4, 1920, 4613, 469, 4, 22, 71, 87, 12, 16, 43, 530, 38, 76, 15, 13, 1247, 4, 22, 17, 515, 17, 12, 16, 626, 18, 2, 5, 62, 386, 12, 8, 316, 8, 106, 5, 4, 2223, 5244, 16, 480, 66, 3785, 33, 4, 130, 12, 16, 38, 619, 5, 25, 124, 51, 36, 135, 48, 25, 1415, 33, 6, 22, 12, 215, 28, 77, 52, 5, 14, 407, 16, 82, 2, 8, 4, 107, 117, 5952, 15, 256, 4, 2, 7, 3766, 5, 723, 36, 71, 43, 530, 476, 26, 400, 317, 46, 7, 4, 2, 1029, 13, 104, 88, 4, 381, 15, 297, 98, 32, 2071, 56, 26, 141, 6, 194, 7486, 18, 4, 226, 22, 21, 134, 476, 26, 480, 5, 144, 30, 5535, 18, 51, 36, 28, 224, 92, 25, 104, 4, 226, 65, 16, 38, 1334, 88, 12, 16, 283, 5, 16, 4472, 113, 103, 32, 15, 16, 5345, 19, 178, 32]),\n",
              "       list([1, 194, 1153, 194, 8255, 78, 228, 5, 6, 1463, 4369, 5012, 134, 26, 4, 715, 8, 118, 1634, 14, 394, 20, 13, 119, 954, 189, 102, 5, 207, 110, 3103, 21, 14, 69, 188, 8, 30, 23, 7, 4, 249, 126, 93, 4, 114, 9, 2300, 1523, 5, 647, 4, 116, 9, 35, 8163, 4, 229, 9, 340, 1322, 4, 118, 9, 4, 130, 4901, 19, 4, 1002, 5, 89, 29, 952, 46, 37, 4, 455, 9, 45, 43, 38, 1543, 1905, 398, 4, 1649, 26, 6853, 5, 163, 11, 3215, 2, 4, 1153, 9, 194, 775, 7, 8255, 2, 349, 2637, 148, 605, 2, 8003, 15, 123, 125, 68, 2, 6853, 15, 349, 165, 4362, 98, 5, 4, 228, 9, 43, 2, 1157, 15, 299, 120, 5, 120, 174, 11, 220, 175, 136, 50, 9, 4373, 228, 8255, 5, 2, 656, 245, 2350, 5, 4, 9837, 131, 152, 491, 18, 2, 32, 7464, 1212, 14, 9, 6, 371, 78, 22, 625, 64, 1382, 9, 8, 168, 145, 23, 4, 1690, 15, 16, 4, 1355, 5, 28, 6, 52, 154, 462, 33, 89, 78, 285, 16, 145, 95]),\n",
              "       list([1, 14, 47, 8, 30, 31, 7, 4, 249, 108, 7, 4, 5974, 54, 61, 369, 13, 71, 149, 14, 22, 112, 4, 2401, 311, 12, 16, 3711, 33, 75, 43, 1829, 296, 4, 86, 320, 35, 534, 19, 263, 4821, 1301, 4, 1873, 33, 89, 78, 12, 66, 16, 4, 360, 7, 4, 58, 316, 334, 11, 4, 1716, 43, 645, 662, 8, 257, 85, 1200, 42, 1228, 2578, 83, 68, 3912, 15, 36, 165, 1539, 278, 36, 69, 2, 780, 8, 106, 14, 6905, 1338, 18, 6, 22, 12, 215, 28, 610, 40, 6, 87, 326, 23, 2300, 21, 23, 22, 12, 272, 40, 57, 31, 11, 4, 22, 47, 6, 2307, 51, 9, 170, 23, 595, 116, 595, 1352, 13, 191, 79, 638, 89, 2, 14, 9, 8, 106, 607, 624, 35, 534, 6, 227, 7, 129, 113]),\n",
              "       ...,\n",
              "       list([1, 11, 6, 230, 245, 6401, 9, 6, 1225, 446, 2, 45, 2174, 84, 8322, 4007, 21, 4, 912, 84, 2, 325, 725, 134, 2, 1715, 84, 5, 36, 28, 57, 1099, 21, 8, 140, 8, 703, 5, 2, 84, 56, 18, 1644, 14, 9, 31, 7, 4, 9406, 1209, 2295, 2, 1008, 18, 6, 20, 207, 110, 563, 12, 8, 2901, 2, 8, 97, 6, 20, 53, 4767, 74, 4, 460, 364, 1273, 29, 270, 11, 960, 108, 45, 40, 29, 2961, 395, 11, 6, 4065, 500, 7, 2, 89, 364, 70, 29, 140, 4, 64, 4780, 11, 4, 2678, 26, 178, 4, 529, 443, 2, 5, 27, 710, 117, 2, 8123, 165, 47, 84, 37, 131, 818, 14, 595, 10, 10, 61, 1242, 1209, 10, 10, 288, 2260, 1702, 34, 2901, 2, 4, 65, 496, 4, 231, 7, 790, 5, 6, 320, 234, 2766, 234, 1119, 1574, 7, 496, 4, 139, 929, 2901, 2, 7750, 5, 4241, 18, 4, 8497, 2, 250, 11, 1818, 7561, 4, 4217, 5408, 747, 1115, 372, 1890, 1006, 541, 9303, 7, 4, 59, 2, 4, 3586, 2]),\n",
              "       list([1, 1446, 7079, 69, 72, 3305, 13, 610, 930, 8, 12, 582, 23, 5, 16, 484, 685, 54, 349, 11, 4120, 2959, 45, 58, 1466, 13, 197, 12, 16, 43, 23, 2, 5, 62, 30, 145, 402, 11, 4131, 51, 575, 32, 61, 369, 71, 66, 770, 12, 1054, 75, 100, 2198, 8, 4, 105, 37, 69, 147, 712, 75, 3543, 44, 257, 390, 5, 69, 263, 514, 105, 50, 286, 1814, 23, 4, 123, 13, 161, 40, 5, 421, 4, 116, 16, 897, 13, 2, 40, 319, 5872, 112, 6700, 11, 4803, 121, 25, 70, 3468, 4, 719, 3798, 13, 18, 31, 62, 40, 8, 7200, 4, 2, 7, 14, 123, 5, 942, 25, 8, 721, 12, 145, 5, 202, 12, 160, 580, 202, 12, 6, 52, 58, 2, 92, 401, 728, 12, 39, 14, 251, 8, 15, 251, 5, 2, 12, 38, 84, 80, 124, 12, 9, 23]),\n",
              "       list([1, 17, 6, 194, 337, 7, 4, 204, 22, 45, 254, 8, 106, 14, 123, 4, 2, 270, 2, 5, 2, 2, 732, 2098, 101, 405, 39, 14, 1034, 4, 1310, 9, 115, 50, 305, 12, 47, 4, 168, 5, 235, 7, 38, 111, 699, 102, 7, 4, 4039, 9245, 9, 24, 6, 78, 1099, 17, 2345, 2, 21, 27, 9685, 6139, 5, 2, 1603, 92, 1183, 4, 1310, 7, 4, 204, 42, 97, 90, 35, 221, 109, 29, 127, 27, 118, 8, 97, 12, 157, 21, 6789, 2, 9, 6, 66, 78, 1099, 4, 631, 1191, 5, 2642, 272, 191, 1070, 6, 7585, 8, 2197, 2, 2, 544, 5, 383, 1271, 848, 1468, 2, 497, 2, 8, 1597, 8778, 2, 21, 60, 27, 239, 9, 43, 8368, 209, 405, 10, 10, 12, 764, 40, 4, 248, 20, 12, 16, 5, 174, 1791, 72, 7, 51, 6, 1739, 22, 4, 204, 131, 9])],\n",
              "      dtype=object)"
            ]
          },
          "metadata": {
            "tags": []
          },
          "execution_count": 4
        }
      ]
    },
    {
      "cell_type": "code",
      "metadata": {
        "id": "po45QTGb-l4z",
        "colab_type": "code",
        "outputId": "17a281d0-a060-4e59-ee8a-246ec0dfb19b",
        "colab": {
          "base_uri": "https://localhost:8080/",
          "height": 168
        }
      },
      "source": [
        "test_data"
      ],
      "execution_count": 5,
      "outputs": [
        {
          "output_type": "execute_result",
          "data": {
            "text/plain": [
              "array([list([1, 591, 202, 14, 31, 6, 717, 10, 10, 2, 2, 5, 4, 360, 7, 4, 177, 5760, 394, 354, 4, 123, 9, 1035, 1035, 1035, 10, 10, 13, 92, 124, 89, 488, 7944, 100, 28, 1668, 14, 31, 23, 27, 7479, 29, 220, 468, 8, 124, 14, 286, 170, 8, 157, 46, 5, 27, 239, 16, 179, 2, 38, 32, 25, 7944, 451, 202, 14, 6, 717]),\n",
              "       list([1, 14, 22, 3443, 6, 176, 7, 5063, 88, 12, 2679, 23, 1310, 5, 109, 943, 4, 114, 9, 55, 606, 5, 111, 7, 4, 139, 193, 273, 23, 4, 172, 270, 11, 7216, 2, 4, 8463, 2801, 109, 1603, 21, 4, 22, 3861, 8, 6, 1193, 1330, 10, 10, 4, 105, 987, 35, 841, 2, 19, 861, 1074, 5, 1987, 2, 45, 55, 221, 15, 670, 5304, 526, 14, 1069, 4, 405, 5, 2438, 7, 27, 85, 108, 131, 4, 5045, 5304, 3884, 405, 9, 3523, 133, 5, 50, 13, 104, 51, 66, 166, 14, 22, 157, 9, 4, 530, 239, 34, 8463, 2801, 45, 407, 31, 7, 41, 3778, 105, 21, 59, 299, 12, 38, 950, 5, 4521, 15, 45, 629, 488, 2733, 127, 6, 52, 292, 17, 4, 6936, 185, 132, 1988, 5304, 1799, 488, 2693, 47, 6, 392, 173, 4, 2, 4378, 270, 2352, 4, 1500, 7, 4, 65, 55, 73, 11, 346, 14, 20, 9, 6, 976, 2078, 7, 5293, 861, 2, 5, 4182, 30, 3127, 2, 56, 4, 841, 5, 990, 692, 8, 4, 1669, 398, 229, 10, 10, 13, 2822, 670, 5304, 14, 9, 31, 7, 27, 111, 108, 15, 2033, 19, 7836, 1429, 875, 551, 14, 22, 9, 1193, 21, 45, 4829, 5, 45, 252, 8, 2, 6, 565, 921, 3639, 39, 4, 529, 48, 25, 181, 8, 67, 35, 1732, 22, 49, 238, 60, 135, 1162, 14, 9, 290, 4, 58, 10, 10, 472, 45, 55, 878, 8, 169, 11, 374, 5687, 25, 203, 28, 8, 818, 12, 125, 4, 3077]),\n",
              "       list([1, 111, 748, 4368, 1133, 2, 2, 4, 87, 1551, 1262, 7, 31, 318, 9459, 7, 4, 498, 5076, 748, 63, 29, 5161, 220, 686, 2, 5, 17, 12, 575, 220, 2507, 17, 6, 185, 132, 2, 16, 53, 928, 11, 2, 74, 4, 438, 21, 27, 2, 589, 8, 22, 107, 2, 2, 997, 1638, 8, 35, 2076, 9019, 11, 22, 231, 54, 29, 1706, 29, 100, 2, 2425, 34, 2, 8738, 2, 5, 2, 98, 31, 2122, 33, 6, 58, 14, 3808, 1638, 8, 4, 365, 7, 2789, 3761, 356, 346, 4, 2, 1060, 63, 29, 93, 11, 5421, 11, 2, 33, 6, 58, 54, 1270, 431, 748, 7, 32, 2580, 16, 11, 94, 2, 10, 10, 4, 993, 2, 7, 4, 1766, 2634, 2164, 2, 8, 847, 8, 1450, 121, 31, 7, 27, 86, 2663, 2, 16, 6, 465, 993, 2006, 2, 573, 17, 2, 42, 4, 2, 37, 473, 6, 711, 6, 8869, 7, 328, 212, 70, 30, 258, 11, 220, 32, 7, 108, 21, 133, 12, 9, 55, 465, 849, 3711, 53, 33, 2071, 1969, 37, 70, 1144, 4, 5940, 1409, 74, 476, 37, 62, 91, 1329, 169, 4, 1330, 2, 146, 655, 2212, 5, 258, 12, 184, 2, 546, 5, 849, 2, 7, 4, 22, 1436, 18, 631, 1386, 797, 7, 4, 8712, 71, 348, 425, 4320, 1061, 19, 2, 5, 2, 11, 661, 8, 339, 2, 4, 2455, 2, 7, 4, 1962, 10, 10, 263, 787, 9, 270, 11, 6, 9466, 4, 2, 2, 121, 4, 5437, 26, 4434, 19, 68, 1372, 5, 28, 446, 6, 318, 7149, 8, 67, 51, 36, 70, 81, 8, 4392, 2294, 36, 1197, 8, 2, 2, 18, 6, 711, 4, 9909, 26, 2, 1125, 11, 14, 636, 720, 12, 426, 28, 77, 776, 8, 97, 38, 111, 7489, 6175, 168, 1239, 5189, 137, 2, 18, 27, 173, 9, 2399, 17, 6, 2, 428, 2, 232, 11, 4, 8014, 37, 272, 40, 2708, 247, 30, 656, 6, 2, 54, 2, 3292, 98, 6, 2840, 40, 558, 37, 6093, 98, 4, 2, 1197, 15, 14, 9, 57, 4893, 5, 4659, 6, 275, 711, 7937, 2, 3292, 98, 6, 2, 10, 10, 6639, 19, 14, 2, 267, 162, 711, 37, 5900, 752, 98, 4, 2, 2378, 90, 19, 6, 2, 7, 2, 1810, 2, 4, 4770, 3183, 930, 8, 508, 90, 4, 1317, 8, 4, 2, 17, 2, 3965, 1853, 4, 1494, 8, 4468, 189, 4, 2, 6287, 5774, 4, 4770, 5, 95, 271, 23, 6, 7742, 6063, 2, 5437, 33, 1526, 6, 425, 3155, 2, 4535, 1636, 7, 4, 4669, 2, 469, 4, 4552, 54, 4, 150, 5664, 2, 280, 53, 2, 2, 18, 339, 29, 1978, 27, 7885, 5, 2, 68, 1830, 19, 6571, 2, 4, 1515, 7, 263, 65, 2132, 34, 6, 5680, 7489, 43, 159, 29, 9, 4706, 9, 387, 73, 195, 584, 10, 10, 1069, 4, 58, 810, 54, 14, 6078, 117, 22, 16, 93, 5, 1069, 4, 192, 15, 12, 16, 93, 34, 6, 1766, 2, 33, 4, 5673, 7, 15, 2, 9252, 3286, 325, 12, 62, 30, 776, 8, 67, 14, 17, 6, 2, 44, 148, 687, 2, 203, 42, 203, 24, 28, 69, 2, 6676, 11, 330, 54, 29, 93, 2, 21, 845, 2, 27, 1099, 7, 819, 4, 22, 1407, 17, 6, 2, 787, 7, 2460, 2, 2, 100, 30, 4, 3737, 3617, 3169, 2321, 42, 1898, 11, 4, 3814, 42, 101, 704, 7, 101, 999, 15, 1625, 94, 2926, 180, 5, 9, 9101, 34, 2, 45, 6, 1429, 22, 60, 6, 1220, 31, 11, 94, 6408, 96, 21, 94, 749, 9, 57, 975]),\n",
              "       ...,\n",
              "       list([1, 13, 1408, 15, 8, 135, 14, 9, 35, 32, 46, 394, 20, 62, 30, 5093, 21, 45, 184, 78, 4, 1492, 910, 769, 2290, 2515, 395, 4257, 5, 1454, 11, 119, 2, 89, 1036, 4, 116, 218, 78, 21, 407, 100, 30, 128, 262, 15, 7, 185, 2280, 284, 1842, 2, 37, 315, 4, 226, 20, 272, 2942, 40, 29, 152, 60, 181, 8, 30, 50, 553, 362, 80, 119, 12, 21, 846, 5518]),\n",
              "       list([1, 11, 119, 241, 9, 4, 840, 20, 12, 468, 15, 94, 3684, 562, 791, 39, 4, 86, 107, 8, 97, 14, 31, 33, 4, 2960, 7, 743, 46, 1028, 9, 3531, 5, 4, 768, 47, 8, 79, 90, 145, 164, 162, 50, 6, 501, 119, 7, 9, 4, 78, 232, 15, 16, 224, 11, 4, 333, 20, 4, 985, 200, 5, 2, 5, 9, 1861, 8, 79, 357, 4, 20, 47, 220, 57, 206, 139, 11, 12, 5, 55, 117, 212, 13, 1276, 92, 124, 51, 45, 1188, 71, 536, 13, 520, 14, 20, 6, 2302, 7, 470]),\n",
              "       list([1, 6, 52, 7465, 430, 22, 9, 220, 2594, 8, 28, 2, 519, 3227, 6, 769, 15, 47, 6, 3482, 4067, 8, 114, 5, 33, 222, 31, 55, 184, 704, 5586, 2, 19, 346, 3153, 5, 6, 364, 350, 4, 184, 5586, 9, 133, 1810, 11, 5417, 2, 21, 4, 7298, 2, 570, 50, 2005, 2643, 9, 6, 1249, 17, 6, 2, 2, 21, 17, 6, 1211, 232, 1138, 2249, 29, 266, 56, 96, 346, 194, 308, 9, 194, 21, 29, 218, 1078, 19, 4, 78, 173, 7, 27, 2, 5698, 3406, 718, 2, 9, 6, 6907, 17, 210, 5, 3281, 5677, 47, 77, 395, 14, 172, 173, 18, 2740, 2931, 4517, 82, 127, 27, 173, 11, 6, 392, 217, 21, 50, 9, 57, 65, 12, 2, 53, 40, 35, 390, 7, 11, 4, 3567, 7, 4, 314, 74, 6, 792, 22, 2, 19, 714, 727, 5205, 382, 4, 91, 6533, 439, 19, 14, 20, 9, 1441, 5805, 1118, 4, 756, 25, 124, 4, 31, 12, 16, 93, 804, 34, 2005, 2643])],\n",
              "      dtype=object)"
            ]
          },
          "metadata": {
            "tags": []
          },
          "execution_count": 5
        }
      ]
    },
    {
      "cell_type": "code",
      "metadata": {
        "id": "Pi4-_eoZ-wGx",
        "colab_type": "code",
        "outputId": "aec3c371-d6ba-444c-cca7-54ef9b19505a",
        "colab": {
          "base_uri": "https://localhost:8080/",
          "height": 32
        }
      },
      "source": [
        "len(train_data)"
      ],
      "execution_count": 6,
      "outputs": [
        {
          "output_type": "execute_result",
          "data": {
            "text/plain": [
              "25000"
            ]
          },
          "metadata": {
            "tags": []
          },
          "execution_count": 6
        }
      ]
    },
    {
      "cell_type": "code",
      "metadata": {
        "id": "6-qneFWA-zJM",
        "colab_type": "code",
        "outputId": "40a91230-32e7-45ae-b4b4-ba76e71e1417",
        "colab": {
          "base_uri": "https://localhost:8080/",
          "height": 32
        }
      },
      "source": [
        "len(test_data)"
      ],
      "execution_count": 7,
      "outputs": [
        {
          "output_type": "execute_result",
          "data": {
            "text/plain": [
              "25000"
            ]
          },
          "metadata": {
            "tags": []
          },
          "execution_count": 7
        }
      ]
    },
    {
      "cell_type": "code",
      "metadata": {
        "id": "begXHn9v-2F_",
        "colab_type": "code",
        "outputId": "d249f001-d4cf-4c79-8187-2f30988796c1",
        "colab": {
          "base_uri": "https://localhost:8080/",
          "height": 32
        }
      },
      "source": [
        "len(train_data[0])"
      ],
      "execution_count": 8,
      "outputs": [
        {
          "output_type": "execute_result",
          "data": {
            "text/plain": [
              "218"
            ]
          },
          "metadata": {
            "tags": []
          },
          "execution_count": 8
        }
      ]
    },
    {
      "cell_type": "code",
      "metadata": {
        "id": "gMUEOraO-2Oe",
        "colab_type": "code",
        "outputId": "7d0d3580-7393-47a0-c406-8270108969e6",
        "colab": {
          "base_uri": "https://localhost:8080/",
          "height": 32
        }
      },
      "source": [
        "len(test_data[0])"
      ],
      "execution_count": 9,
      "outputs": [
        {
          "output_type": "execute_result",
          "data": {
            "text/plain": [
              "68"
            ]
          },
          "metadata": {
            "tags": []
          },
          "execution_count": 9
        }
      ]
    },
    {
      "cell_type": "code",
      "metadata": {
        "id": "IfoKtIf2-7iR",
        "colab_type": "code",
        "outputId": "3fce316b-f50e-4818-9d6f-47ca660f165d",
        "colab": {
          "base_uri": "https://localhost:8080/",
          "height": 131
        }
      },
      "source": [
        "x_train"
      ],
      "execution_count": 10,
      "outputs": [
        {
          "output_type": "execute_result",
          "data": {
            "text/plain": [
              "array([[0., 1., 1., ..., 0., 0., 0.],\n",
              "       [0., 1., 1., ..., 0., 0., 0.],\n",
              "       [0., 1., 1., ..., 0., 0., 0.],\n",
              "       ...,\n",
              "       [0., 1., 1., ..., 0., 0., 0.],\n",
              "       [0., 1., 1., ..., 0., 0., 0.],\n",
              "       [0., 1., 1., ..., 0., 0., 0.]])"
            ]
          },
          "metadata": {
            "tags": []
          },
          "execution_count": 10
        }
      ]
    },
    {
      "cell_type": "code",
      "metadata": {
        "id": "TR0FBDza-7aC",
        "colab_type": "code",
        "outputId": "e1884cd9-14ee-4f81-8d4f-90a0ed843229",
        "colab": {
          "base_uri": "https://localhost:8080/",
          "height": 32
        }
      },
      "source": [
        "x_train.size"
      ],
      "execution_count": 11,
      "outputs": [
        {
          "output_type": "execute_result",
          "data": {
            "text/plain": [
              "250000000"
            ]
          },
          "metadata": {
            "tags": []
          },
          "execution_count": 11
        }
      ]
    },
    {
      "cell_type": "code",
      "metadata": {
        "id": "LSKW5mDA_AV4",
        "colab_type": "code",
        "outputId": "21a1c3cc-49cc-43eb-d285-5d23248a705a",
        "colab": {
          "base_uri": "https://localhost:8080/",
          "height": 32
        }
      },
      "source": [
        "x_test.size"
      ],
      "execution_count": 12,
      "outputs": [
        {
          "output_type": "execute_result",
          "data": {
            "text/plain": [
              "250000000"
            ]
          },
          "metadata": {
            "tags": []
          },
          "execution_count": 12
        }
      ]
    },
    {
      "cell_type": "code",
      "metadata": {
        "id": "lDWfTQPU_EEg",
        "colab_type": "code",
        "outputId": "e4b6c72a-ea9c-41f5-d29d-06ee82c14976",
        "colab": {
          "base_uri": "https://localhost:8080/",
          "height": 32
        }
      },
      "source": [
        "x_train.shape"
      ],
      "execution_count": 13,
      "outputs": [
        {
          "output_type": "execute_result",
          "data": {
            "text/plain": [
              "(25000, 10000)"
            ]
          },
          "metadata": {
            "tags": []
          },
          "execution_count": 13
        }
      ]
    },
    {
      "cell_type": "code",
      "metadata": {
        "id": "jBXfY23V_ERy",
        "colab_type": "code",
        "outputId": "00389a93-484c-49c5-bed4-4840b55149b6",
        "colab": {
          "base_uri": "https://localhost:8080/",
          "height": 32
        }
      },
      "source": [
        "x_test.shape"
      ],
      "execution_count": 14,
      "outputs": [
        {
          "output_type": "execute_result",
          "data": {
            "text/plain": [
              "(25000, 10000)"
            ]
          },
          "metadata": {
            "tags": []
          },
          "execution_count": 14
        }
      ]
    },
    {
      "cell_type": "code",
      "metadata": {
        "id": "YKNw4LJ0_pIi",
        "colab_type": "code",
        "colab": {}
      },
      "source": [
        "import collections\n",
        "import operator\n",
        "def CountFrequency(arr): \n",
        "    return collections.Counter(arr) \n",
        "\n",
        "freq = CountFrequency(train_data[0])"
      ],
      "execution_count": 0,
      "outputs": []
    },
    {
      "cell_type": "code",
      "metadata": {
        "id": "qMETw7lx_vup",
        "colab_type": "code",
        "outputId": "ac5425c1-f8b5-4b32-fb86-25217c329533",
        "colab": {
          "base_uri": "https://localhost:8080/",
          "height": 52
        }
      },
      "source": [
        "freq.keys()"
      ],
      "execution_count": 16,
      "outputs": [
        {
          "output_type": "execute_result",
          "data": {
            "text/plain": [
              "dict_keys([1, 14, 22, 16, 43, 530, 973, 1622, 1385, 65, 458, 4468, 66, 3941, 4, 173, 36, 256, 5, 25, 100, 838, 112, 50, 670, 2, 9, 35, 480, 284, 150, 172, 167, 336, 385, 39, 4536, 1111, 17, 546, 38, 13, 447, 192, 6, 147, 2025, 19, 1920, 4613, 469, 71, 87, 12, 76, 15, 1247, 515, 626, 18, 62, 386, 8, 316, 106, 2223, 5244, 3785, 33, 130, 619, 124, 51, 135, 48, 1415, 215, 28, 77, 52, 407, 82, 107, 117, 5952, 7, 3766, 723, 476, 26, 400, 317, 46, 1029, 104, 88, 381, 297, 98, 32, 2071, 56, 141, 194, 7486, 226, 21, 134, 144, 30, 5535, 224, 92, 1334, 283, 4472, 113, 103, 5345, 178])"
            ]
          },
          "metadata": {
            "tags": []
          },
          "execution_count": 16
        }
      ]
    },
    {
      "cell_type": "code",
      "metadata": {
        "id": "F3NnSoih_wWJ",
        "colab_type": "code",
        "outputId": "9b117408-6467-468b-ec35-54119069ca30",
        "colab": {
          "base_uri": "https://localhost:8080/",
          "height": 32
        }
      },
      "source": [
        "max(freq.items(), key=operator.itemgetter(1))"
      ],
      "execution_count": 17,
      "outputs": [
        {
          "output_type": "execute_result",
          "data": {
            "text/plain": [
              "(4, 15)"
            ]
          },
          "metadata": {
            "tags": []
          },
          "execution_count": 17
        }
      ]
    },
    {
      "cell_type": "code",
      "metadata": {
        "id": "QYuPJTqf_wr8",
        "colab_type": "code",
        "outputId": "30091c98-c6f9-4362-8433-a193308bb94e",
        "colab": {
          "base_uri": "https://localhost:8080/",
          "height": 32
        }
      },
      "source": [
        "reverse_word_index[4 - 3]"
      ],
      "execution_count": 18,
      "outputs": [
        {
          "output_type": "execute_result",
          "data": {
            "text/plain": [
              "'the'"
            ]
          },
          "metadata": {
            "tags": []
          },
          "execution_count": 18
        }
      ]
    },
    {
      "cell_type": "code",
      "metadata": {
        "id": "KM4ihG1h_86S",
        "colab_type": "code",
        "outputId": "2af9a92c-b16b-412c-dffa-4829e4ee6bd2",
        "colab": {
          "base_uri": "https://localhost:8080/",
          "height": 52
        }
      },
      "source": [
        "print(\"First review: \", ' '.join([reverse_word_index.get(i - 3, '') for i in train_data[0]][0:218]))"
      ],
      "execution_count": 19,
      "outputs": [
        {
          "output_type": "stream",
          "text": [
            "First review:   this film was just brilliant casting location scenery story direction everyone's really suited the part they played and you could just imagine being there robert  is an amazing actor and now the same being director  father came from the same scottish island as myself so i loved the fact there was a real connection with this film the witty remarks throughout the film were great it was just brilliant so much that i bought the film as soon as it was released for  and would recommend it to everyone to watch and the fly fishing was amazing really cried at the end it was so sad and you know what they say if you cry at a film it must have been good and this definitely was also  to the two little boy's that played the  of norman and paul they were just brilliant children are often left out of the  list i think because the stars that play them all grown up are such a big profile for the whole film but these children are amazing and should be praised for what they have done don't you think the whole story was so lovely because it was true and was someone's life after all that was shared with us all\n"
          ],
          "name": "stdout"
        }
      ]
    },
    {
      "cell_type": "code",
      "metadata": {
        "id": "hbGDXu2gAAY7",
        "colab_type": "code",
        "colab": {}
      },
      "source": [
        "wordstring = [reverse_word_index.get(i - 3) for i in train_data[0]][1:219]\n",
        "#wordstring"
      ],
      "execution_count": 0,
      "outputs": []
    },
    {
      "cell_type": "code",
      "metadata": {
        "id": "4-haB76gADdL",
        "colab_type": "code",
        "outputId": "552bbcc9-ad7f-4fa8-a1b4-a70fe17d0c3f",
        "colab": {
          "base_uri": "https://localhost:8080/",
          "height": 69
        }
      },
      "source": [
        "wordfreq = []\n",
        "for w in wordstring:\n",
        "    wordfreq.append(wordstring.count(w))\n",
        "\n",
        "print(\"Pairs\\n\" + str(list(zip(wordstring, wordfreq))))"
      ],
      "execution_count": 21,
      "outputs": [
        {
          "output_type": "stream",
          "text": [
            "Pairs\n",
            "[('this', 3), ('film', 6), ('was', 11), ('just', 4), ('brilliant', 3), ('casting', 1), ('location', 1), ('scenery', 1), ('story', 2), ('direction', 1), (\"everyone's\", 1), ('really', 2), ('suited', 1), ('the', 15), ('part', 1), ('they', 4), ('played', 2), ('and', 9), ('you', 4), ('could', 1), ('just', 4), ('imagine', 1), ('being', 2), ('there', 2), ('robert', 1), (None, 6), ('is', 1), ('an', 1), ('amazing', 3), ('actor', 1), ('and', 9), ('now', 1), ('the', 15), ('same', 2), ('being', 2), ('director', 1), (None, 6), ('father', 1), ('came', 1), ('from', 1), ('the', 15), ('same', 2), ('scottish', 1), ('island', 1), ('as', 3), ('myself', 1), ('so', 4), ('i', 3), ('loved', 1), ('the', 15), ('fact', 1), ('there', 2), ('was', 11), ('a', 3), ('real', 1), ('connection', 1), ('with', 2), ('this', 3), ('film', 6), ('the', 15), ('witty', 1), ('remarks', 1), ('throughout', 1), ('the', 15), ('film', 6), ('were', 2), ('great', 1), ('it', 6), ('was', 11), ('just', 4), ('brilliant', 3), ('so', 4), ('much', 1), ('that', 4), ('i', 3), ('bought', 1), ('the', 15), ('film', 6), ('as', 3), ('soon', 1), ('as', 3), ('it', 6), ('was', 11), ('released', 1), ('for', 3), (None, 6), ('and', 9), ('would', 1), ('recommend', 1), ('it', 6), ('to', 3), ('everyone', 1), ('to', 3), ('watch', 1), ('and', 9), ('the', 15), ('fly', 1), ('fishing', 1), ('was', 11), ('amazing', 3), ('really', 2), ('cried', 1), ('at', 2), ('the', 15), ('end', 1), ('it', 6), ('was', 11), ('so', 4), ('sad', 1), ('and', 9), ('you', 4), ('know', 1), ('what', 2), ('they', 4), ('say', 1), ('if', 1), ('you', 4), ('cry', 1), ('at', 2), ('a', 3), ('film', 6), ('it', 6), ('must', 1), ('have', 2), ('been', 1), ('good', 1), ('and', 9), ('this', 3), ('definitely', 1), ('was', 11), ('also', 1), (None, 6), ('to', 3), ('the', 15), ('two', 1), ('little', 1), (\"boy's\", 1), ('that', 4), ('played', 2), ('the', 15), (None, 6), ('of', 2), ('norman', 1), ('and', 9), ('paul', 1), ('they', 4), ('were', 2), ('just', 4), ('brilliant', 3), ('children', 2), ('are', 3), ('often', 1), ('left', 1), ('out', 1), ('of', 2), ('the', 15), (None, 6), ('list', 1), ('i', 3), ('think', 2), ('because', 2), ('the', 15), ('stars', 1), ('that', 4), ('play', 1), ('them', 1), ('all', 3), ('grown', 1), ('up', 1), ('are', 3), ('such', 1), ('a', 3), ('big', 1), ('profile', 1), ('for', 3), ('the', 15), ('whole', 2), ('film', 6), ('but', 1), ('these', 1), ('children', 2), ('are', 3), ('amazing', 3), ('and', 9), ('should', 1), ('be', 1), ('praised', 1), ('for', 3), ('what', 2), ('they', 4), ('have', 2), ('done', 1), (\"don't\", 1), ('you', 4), ('think', 2), ('the', 15), ('whole', 2), ('story', 2), ('was', 11), ('so', 4), ('lovely', 1), ('because', 2), ('it', 6), ('was', 11), ('true', 1), ('and', 9), ('was', 11), (\"someone's\", 1), ('life', 1), ('after', 1), ('all', 3), ('that', 4), ('was', 11), ('shared', 1), ('with', 2), ('us', 1), ('all', 3)]\n"
          ],
          "name": "stdout"
        }
      ]
    },
    {
      "cell_type": "code",
      "metadata": {
        "id": "KlysvNF8AO8c",
        "colab_type": "code",
        "colab": {}
      },
      "source": [
        ""
      ],
      "execution_count": 0,
      "outputs": []
    },
    {
      "cell_type": "markdown",
      "metadata": {
        "colab_type": "text",
        "id": "GVar7SNn9Evu"
      },
      "source": [
        "#### Building the network\n",
        "* We can solve this problem using a network of _Dense_ layers and the _ReLU_ activation function.\n",
        "* How many layers? How many hidden units for layer?\n",
        "    - Start with 2 layers of 16 hidden units each\n",
        "    - We'll optimize this soon\n",
        "* Output layer: single unit with _sigmoid_ activation function\n",
        "    - Close to 1: positive review, close to 0: negative review\n",
        "* Use binary_crossentropy loss"
      ]
    },
    {
      "cell_type": "code",
      "metadata": {
        "id": "ASamV2uzAiun",
        "colab_type": "code",
        "colab": {}
      },
      "source": [
        "from keras.datasets import imdb\n",
        "import numpy as np\n",
        "\n",
        "(train_data, train_labels), (test_data, test_labels) = imdb.load_data(num_words=10000)\n",
        "\n",
        "def vectorize_sequences(sequences, dimension=10000):\n",
        "    # Create an all-zero matrix of shape (len(sequences), dimension)\n",
        "    results = np.zeros((len(sequences), dimension))\n",
        "    for i, sequence in enumerate(sequences):\n",
        "        results[i, sequence] = 1.  # set specific indices of results[i] to 1s\n",
        "    return results\n",
        "\n",
        "# Our vectorized training data\n",
        "x_train = vectorize_sequences(train_data)\n",
        "# Our vectorized test data\n",
        "x_test = vectorize_sequences(test_data)\n",
        "# Our vectorized labels\n",
        "y_train = np.asarray(train_labels).astype('float32')\n",
        "y_test = np.asarray(test_labels).astype('float32')"
      ],
      "execution_count": 0,
      "outputs": []
    },
    {
      "cell_type": "code",
      "metadata": {
        "colab_type": "code",
        "id": "wglvzu9E9Evx",
        "outputId": "ad687efd-3f7b-42ef-fac7-2261cedde713",
        "colab": {
          "base_uri": "https://localhost:8080/",
          "height": 250
        }
      },
      "source": [
        "from keras import models\n",
        "from keras import layers \n",
        "\n",
        "model = models.Sequential()\n",
        "model.add(layers.Dense(16, activation='relu', input_shape=(10000,)))\n",
        "model.add(layers.Dense(16, activation='relu'))\n",
        "model.add(layers.Dense(1, activation='sigmoid'))\n",
        "\n",
        "model.compile(optimizer='rmsprop',\n",
        "              loss='binary_crossentropy',\n",
        "              metrics=['accuracy'])"
      ],
      "execution_count": 23,
      "outputs": [
        {
          "output_type": "stream",
          "text": [
            "WARNING:tensorflow:From /usr/local/lib/python3.6/dist-packages/keras/backend/tensorflow_backend.py:66: The name tf.get_default_graph is deprecated. Please use tf.compat.v1.get_default_graph instead.\n",
            "\n",
            "WARNING:tensorflow:From /usr/local/lib/python3.6/dist-packages/keras/backend/tensorflow_backend.py:541: The name tf.placeholder is deprecated. Please use tf.compat.v1.placeholder instead.\n",
            "\n",
            "WARNING:tensorflow:From /usr/local/lib/python3.6/dist-packages/keras/backend/tensorflow_backend.py:4432: The name tf.random_uniform is deprecated. Please use tf.random.uniform instead.\n",
            "\n",
            "WARNING:tensorflow:From /usr/local/lib/python3.6/dist-packages/keras/optimizers.py:793: The name tf.train.Optimizer is deprecated. Please use tf.compat.v1.train.Optimizer instead.\n",
            "\n",
            "WARNING:tensorflow:From /usr/local/lib/python3.6/dist-packages/keras/backend/tensorflow_backend.py:3657: The name tf.log is deprecated. Please use tf.math.log instead.\n",
            "\n",
            "WARNING:tensorflow:From /tensorflow-1.15.0/python3.6/tensorflow_core/python/ops/nn_impl.py:183: where (from tensorflow.python.ops.array_ops) is deprecated and will be removed in a future version.\n",
            "Instructions for updating:\n",
            "Use tf.where in 2.0, which has the same broadcast rule as np.where\n"
          ],
          "name": "stdout"
        }
      ]
    },
    {
      "cell_type": "markdown",
      "metadata": {
        "colab_type": "text",
        "id": "0S_Fnh169Ev0"
      },
      "source": [
        "#### Model selection\n",
        "* How many epochs do we need for training?\n",
        "* Take a validation set of 10,000 samples from the training set\n",
        "* Train the neural net and track the loss after every iteration on the validation set\n",
        "    - This is returned as a `History` object by the `fit()` function \n",
        "* We start with 20 epochs in minibatches of 512 samples\n"
      ]
    },
    {
      "cell_type": "code",
      "metadata": {
        "colab_type": "code",
        "id": "b3aTf8rL9Ev0",
        "outputId": "ff900e17-5191-4363-d355-1b6b6d3c3d4b",
        "colab": {
          "base_uri": "https://localhost:8080/",
          "height": 975
        }
      },
      "source": [
        "x_val, partial_x_train = x_train[:10000], x_train[10000:]\n",
        "y_val, partial_y_train = y_train[:10000], y_train[10000:] \n",
        "history = model.fit(partial_x_train, partial_y_train,\n",
        "                    epochs=20, batch_size=512, verbose=2,\n",
        "                    validation_data=(x_val, y_val))"
      ],
      "execution_count": 24,
      "outputs": [
        {
          "output_type": "stream",
          "text": [
            "WARNING:tensorflow:From /usr/local/lib/python3.6/dist-packages/keras/backend/tensorflow_backend.py:1033: The name tf.assign_add is deprecated. Please use tf.compat.v1.assign_add instead.\n",
            "\n",
            "WARNING:tensorflow:From /usr/local/lib/python3.6/dist-packages/keras/backend/tensorflow_backend.py:1020: The name tf.assign is deprecated. Please use tf.compat.v1.assign instead.\n",
            "\n",
            "WARNING:tensorflow:From /usr/local/lib/python3.6/dist-packages/keras/backend/tensorflow_backend.py:3005: The name tf.Session is deprecated. Please use tf.compat.v1.Session instead.\n",
            "\n",
            "Train on 15000 samples, validate on 10000 samples\n",
            "Epoch 1/20\n",
            "WARNING:tensorflow:From /usr/local/lib/python3.6/dist-packages/keras/backend/tensorflow_backend.py:190: The name tf.get_default_session is deprecated. Please use tf.compat.v1.get_default_session instead.\n",
            "\n",
            "WARNING:tensorflow:From /usr/local/lib/python3.6/dist-packages/keras/backend/tensorflow_backend.py:197: The name tf.ConfigProto is deprecated. Please use tf.compat.v1.ConfigProto instead.\n",
            "\n",
            "WARNING:tensorflow:From /usr/local/lib/python3.6/dist-packages/keras/backend/tensorflow_backend.py:207: The name tf.global_variables is deprecated. Please use tf.compat.v1.global_variables instead.\n",
            "\n",
            "WARNING:tensorflow:From /usr/local/lib/python3.6/dist-packages/keras/backend/tensorflow_backend.py:216: The name tf.is_variable_initialized is deprecated. Please use tf.compat.v1.is_variable_initialized instead.\n",
            "\n",
            "WARNING:tensorflow:From /usr/local/lib/python3.6/dist-packages/keras/backend/tensorflow_backend.py:223: The name tf.variables_initializer is deprecated. Please use tf.compat.v1.variables_initializer instead.\n",
            "\n",
            " - 2s - loss: 0.5270 - acc: 0.7719 - val_loss: 0.4021 - val_acc: 0.8633\n",
            "Epoch 2/20\n",
            " - 2s - loss: 0.3134 - acc: 0.9013 - val_loss: 0.3262 - val_acc: 0.8734\n",
            "Epoch 3/20\n",
            " - 2s - loss: 0.2278 - acc: 0.9280 - val_loss: 0.2785 - val_acc: 0.8914\n",
            "Epoch 4/20\n",
            " - 2s - loss: 0.1769 - acc: 0.9437 - val_loss: 0.2748 - val_acc: 0.8890\n",
            "Epoch 5/20\n",
            " - 2s - loss: 0.1441 - acc: 0.9549 - val_loss: 0.2788 - val_acc: 0.8894\n",
            "Epoch 6/20\n",
            " - 2s - loss: 0.1203 - acc: 0.9633 - val_loss: 0.2917 - val_acc: 0.8858\n",
            "Epoch 7/20\n",
            " - 2s - loss: 0.0983 - acc: 0.9718 - val_loss: 0.3252 - val_acc: 0.8815\n",
            "Epoch 8/20\n",
            " - 2s - loss: 0.0814 - acc: 0.9770 - val_loss: 0.3272 - val_acc: 0.8833\n",
            "Epoch 9/20\n",
            " - 2s - loss: 0.0688 - acc: 0.9815 - val_loss: 0.3434 - val_acc: 0.8814\n",
            "Epoch 10/20\n",
            " - 2s - loss: 0.0544 - acc: 0.9868 - val_loss: 0.3982 - val_acc: 0.8717\n",
            "Epoch 11/20\n",
            " - 2s - loss: 0.0453 - acc: 0.9897 - val_loss: 0.4025 - val_acc: 0.8769\n",
            "Epoch 12/20\n",
            " - 2s - loss: 0.0350 - acc: 0.9936 - val_loss: 0.4244 - val_acc: 0.8744\n",
            "Epoch 13/20\n",
            " - 2s - loss: 0.0276 - acc: 0.9951 - val_loss: 0.4643 - val_acc: 0.8740\n",
            "Epoch 14/20\n",
            " - 2s - loss: 0.0229 - acc: 0.9963 - val_loss: 0.4919 - val_acc: 0.8736\n",
            "Epoch 15/20\n",
            " - 2s - loss: 0.0181 - acc: 0.9974 - val_loss: 0.5141 - val_acc: 0.8723\n",
            "Epoch 16/20\n",
            " - 2s - loss: 0.0139 - acc: 0.9986 - val_loss: 0.5831 - val_acc: 0.8626\n",
            "Epoch 17/20\n",
            " - 2s - loss: 0.0126 - acc: 0.9983 - val_loss: 0.5795 - val_acc: 0.8704\n",
            "Epoch 18/20\n",
            " - 2s - loss: 0.0071 - acc: 0.9994 - val_loss: 0.6077 - val_acc: 0.8675\n",
            "Epoch 19/20\n",
            " - 2s - loss: 0.0083 - acc: 0.9987 - val_loss: 0.6377 - val_acc: 0.8680\n",
            "Epoch 20/20\n",
            " - 2s - loss: 0.0036 - acc: 0.9999 - val_loss: 0.6682 - val_acc: 0.8662\n"
          ],
          "name": "stdout"
        }
      ]
    },
    {
      "cell_type": "markdown",
      "metadata": {
        "colab_type": "text",
        "id": "PrxYLkMX9Ev3"
      },
      "source": [
        "#### Evaluate model performance during training\n",
        "1. Plot the training and validation loss as a function of training epoch. Describe what happens during the training in terms of under or overfitting.\n",
        "2. Plot the training and validation accuracy as a function of the training epoch.\n",
        "\n",
        "Hint: these quantities are contained in the dict history.history."
      ]
    },
    {
      "cell_type": "code",
      "metadata": {
        "colab_type": "code",
        "hide_input": true,
        "id": "4YH3yVZy9Ev4",
        "outputId": "221e4873-deef-435f-c384-98cf965e0938",
        "colab": {
          "base_uri": "https://localhost:8080/",
          "height": 52
        }
      },
      "source": [
        "print(history.history.keys())"
      ],
      "execution_count": 25,
      "outputs": [
        {
          "output_type": "stream",
          "text": [
            "dict_keys(['val_loss', 'val_acc', 'loss', 'acc'])\n"
          ],
          "name": "stdout"
        }
      ]
    },
    {
      "cell_type": "code",
      "metadata": {
        "colab_type": "code",
        "hide_input": true,
        "id": "wrJhYEe09Ev-",
        "outputId": "7906ca53-f8fc-4542-c7e1-4c6ba5f81e9e",
        "colab": {
          "base_uri": "https://localhost:8080/",
          "height": 424
        }
      },
      "source": [
        "plt.figure(figsize=(10,3))\n",
        "plt.subplot(1,2,1)\n",
        "plt.plot(history.history['acc'])\n",
        "plt.plot(history.history['val_acc'])\n",
        "plt.title('Model accuracy')\n",
        "plt.ylabel('Accuracy')\n",
        "plt.xlabel('Epoch')\n",
        "plt.legend(['train', 'test'], loc='best')\n",
        "\n",
        "plt.subplot(1,2,2)\n",
        "plt.plot(history.history['loss'])\n",
        "plt.plot(history.history['val_loss'])\n",
        "plt.title('Model loss')\n",
        "plt.ylabel('Loss')\n",
        "plt.xlabel('Epoch')\n",
        "plt.legend(['train', 'test'], loc='best')\n",
        "plt.show()"
      ],
      "execution_count": 26,
      "outputs": [
        {
          "output_type": "display_data",
          "data": {
            "image/png": "[encoded data removed]",
            "text/plain": [
              "<Figure size 1250x375 with 2 Axes>"
            ]
          },
          "metadata": {
            "tags": []
          }
        }
      ]
    },
    {
      "cell_type": "markdown",
      "metadata": {
        "colab_type": "text",
        "id": "FWDq34yW9EwA"
      },
      "source": [
        "#### Early stopping\n",
        "One simple technique to avoid overfitting is to use the validation set to 'tune' the optimal number of epochs\n",
        "* In this case, we could stop after 4 epochs\n"
      ]
    },
    {
      "cell_type": "code",
      "metadata": {
        "cellView": "both",
        "colab_type": "code",
        "id": "Csk3_Yn09EwB",
        "outputId": "68d4b0db-9cbb-4e58-d9a7-fb9001d24b8f",
        "colab": {
          "base_uri": "https://localhost:8080/",
          "height": 181
        }
      },
      "source": [
        "#@title\n",
        "model.fit(x_train, y_train, epochs=4, batch_size=512, verbose=2)\n",
        "result = model.evaluate(x_test, y_test)\n",
        "print(\"Loss: {:.4f}, Accuracy:  {:.4f}\".format(*result))"
      ],
      "execution_count": 27,
      "outputs": [
        {
          "output_type": "stream",
          "text": [
            "Epoch 1/4\n",
            " - 2s - loss: 0.2147 - acc: 0.9469\n",
            "Epoch 2/4\n",
            " - 2s - loss: 0.1346 - acc: 0.9610\n",
            "Epoch 3/4\n",
            " - 2s - loss: 0.1064 - acc: 0.9692\n",
            "Epoch 4/4\n",
            " - 2s - loss: 0.0844 - acc: 0.9748\n",
            "25000/25000 [==============================] - 1s 57us/step\n",
            "Loss: 0.5089, Accuracy:  0.8562\n"
          ],
          "name": "stdout"
        }
      ]
    },
    {
      "cell_type": "markdown",
      "metadata": {
        "colab_type": "text",
        "id": "5Mo4BX1N9EwD"
      },
      "source": [
        "#### Predictions\n",
        "1. Print the first review that were correctly classified along with the predicted value.\n",
        "2. Print the first review that were misclassified along with the predicted value. Can you explain why the model likely failed? How confident was the model?"
      ]
    },
    {
      "cell_type": "code",
      "metadata": {
        "colab_type": "code",
        "id": "fZB5xKAh9EwE",
        "colab": {}
      },
      "source": [
        "\n",
        "y_pred = model.predict(x_test)\n",
        "y_pred_class = model.predict_classes(x_test)"
      ],
      "execution_count": 0,
      "outputs": []
    },
    {
      "cell_type": "code",
      "metadata": {
        "id": "3Z37mWy6A6io",
        "colab_type": "code",
        "outputId": "486a29b5-3222-4ddd-b23f-e4b8702d0f1a",
        "colab": {
          "base_uri": "https://localhost:8080/",
          "height": 131
        }
      },
      "source": [
        "y_pred_class.astype('float32')"
      ],
      "execution_count": 29,
      "outputs": [
        {
          "output_type": "execute_result",
          "data": {
            "text/plain": [
              "array([[0.],\n",
              "       [1.],\n",
              "       [1.],\n",
              "       ...,\n",
              "       [0.],\n",
              "       [0.],\n",
              "       [1.]], dtype=float32)"
            ]
          },
          "metadata": {
            "tags": []
          },
          "execution_count": 29
        }
      ]
    },
    {
      "cell_type": "code",
      "metadata": {
        "id": "9F4T5vcyA6r_",
        "colab_type": "code",
        "outputId": "c8381627-f354-474a-aa78-dda019f67103",
        "colab": {
          "base_uri": "https://localhost:8080/",
          "height": 32
        }
      },
      "source": [
        "len(y_test)"
      ],
      "execution_count": 30,
      "outputs": [
        {
          "output_type": "execute_result",
          "data": {
            "text/plain": [
              "25000"
            ]
          },
          "metadata": {
            "tags": []
          },
          "execution_count": 30
        }
      ]
    },
    {
      "cell_type": "markdown",
      "metadata": {
        "colab_type": "text",
        "id": "W9_hvA-lanwt"
      },
      "source": [
        "#### Takeaways\n",
        "* Neural nets require a lot of preprocessing to create tensors\n",
        "* Dense layers with ReLU activation can solve a wide range of problems\n",
        "* Binary classification can be done with a Dense layer with a single unit, sigmoid activation, and binary cross-entropy loss\n",
        "* Neural nets overfit easily\n",
        "* Many design choices have an effect on accuracy and overfitting. One can try:\n",
        "    - 1 or 3 hidden layers\n",
        "    - more or fewer hidden units (e.g. 64)\n",
        "    - MSE loss instead of binary cross-entropy\n",
        "    - `tanh` activation instead of `ReLU`"
      ]
    },
    {
      "cell_type": "markdown",
      "metadata": {
        "colab_type": "text",
        "id": "WchP4Tgu9ExF"
      },
      "source": [
        "### Regularization: build smaller networks\n",
        "* The easiest way to avoid overfitting is to use a simpler model\n",
        "* The number of learnable parameters is called the model _capacity_\n",
        "* A model with more parameters has a higher _memorization capacity_\n",
        "    - The entire training set can be `stored` in the weights\n",
        "    - Learns the mapping from training examples to outputs\n",
        "* Forcing the model to be small forces it to learn a compressed representation that generalizes better\n",
        "    - Always a trade-off between too much and too little capacity\n",
        "* Start with few layers and parameters, incease until you see diminisching returns"
      ]
    },
    {
      "cell_type": "markdown",
      "metadata": {
        "colab_type": "text",
        "id": "wo8UGPGQ9ExG"
      },
      "source": [
        "Let's try this on our movie review data, with 4 units per layer\n"
      ]
    },
    {
      "cell_type": "code",
      "metadata": {
        "colab_type": "code",
        "id": "rFjmZtyl9ExG",
        "colab": {}
      },
      "source": [
        "from keras.datasets import imdb\n",
        "import numpy as np\n",
        "\n",
        "(train_data, train_labels), (test_data, test_labels) = imdb.load_data(num_words=10000)\n",
        "\n",
        "def vectorize_sequences(sequences, dimension=10000):\n",
        "    # Create an all-zero matrix of shape (len(sequences), dimension)\n",
        "    results = np.zeros((len(sequences), dimension))\n",
        "    for i, sequence in enumerate(sequences):\n",
        "        results[i, sequence] = 1.  # set specific indices of results[i] to 1s\n",
        "    return results\n",
        "\n",
        "# Our vectorized training data\n",
        "x_train = vectorize_sequences(train_data)\n",
        "# Our vectorized test data\n",
        "x_test = vectorize_sequences(test_data)\n",
        "# Our vectorized labels\n",
        "y_train = np.asarray(train_labels).astype('float32')\n",
        "y_test = np.asarray(test_labels).astype('float32')"
      ],
      "execution_count": 0,
      "outputs": []
    },
    {
      "cell_type": "code",
      "metadata": {
        "colab_type": "code",
        "id": "0RYsX-RF9ExJ",
        "outputId": "a1aa4543-890a-4ed9-8d17-16d19e49f077",
        "colab": {
          "base_uri": "https://localhost:8080/",
          "height": 1000
        }
      },
      "source": [
        "from keras import models\n",
        "from keras import layers \n",
        "import matplotlib.pyplot as plt\n",
        "\n",
        "original_model = models.Sequential()\n",
        "original_model.add(layers.Dense(16, activation='relu', input_shape=(10000,)))\n",
        "original_model.add(layers.Dense(16, activation='relu'))\n",
        "original_model.add(layers.Dense(1, activation='sigmoid'))\n",
        "\n",
        "original_model.compile(optimizer='rmsprop',\n",
        "                       loss='binary_crossentropy',\n",
        "                       metrics=['acc'])\n",
        "\n",
        "smaller_model = models.Sequential()\n",
        "smaller_model.add(layers.Dense(4, activation='relu', input_shape=(10000,)))\n",
        "smaller_model.add(layers.Dense(4, activation='relu'))\n",
        "smaller_model.add(layers.Dense(1, activation='sigmoid'))\n",
        "\n",
        "smaller_model.compile(optimizer='rmsprop',\n",
        "                      loss='binary_crossentropy',\n",
        "                      metrics=['acc'])\n",
        "original_hist = original_model.fit(x_train, y_train,\n",
        "                                   epochs=20,\n",
        "                                   batch_size=512, verbose=2,\n",
        "                                   validation_data=(x_test, y_test))\n",
        "smaller_model_hist = smaller_model.fit(x_train, y_train,\n",
        "                                       epochs=20,\n",
        "                                       batch_size=512, verbose=2,\n",
        "                                       validation_data=(x_test, y_test))"
      ],
      "execution_count": 32,
      "outputs": [
        {
          "output_type": "stream",
          "text": [
            "Train on 25000 samples, validate on 25000 samples\n",
            "Epoch 1/20\n",
            " - 3s - loss: 0.4515 - acc: 0.8276 - val_loss: 0.3378 - val_acc: 0.8785\n",
            "Epoch 2/20\n",
            " - 3s - loss: 0.2604 - acc: 0.9088 - val_loss: 0.2840 - val_acc: 0.8898\n",
            "Epoch 3/20\n",
            " - 3s - loss: 0.1999 - acc: 0.9306 - val_loss: 0.3155 - val_acc: 0.8720\n",
            "Epoch 4/20\n",
            " - 3s - loss: 0.1705 - acc: 0.9382 - val_loss: 0.3007 - val_acc: 0.8818\n",
            "Epoch 5/20\n",
            " - 3s - loss: 0.1470 - acc: 0.9474 - val_loss: 0.3097 - val_acc: 0.8807\n",
            "Epoch 6/20\n",
            " - 3s - loss: 0.1290 - acc: 0.9562 - val_loss: 0.3290 - val_acc: 0.8780\n",
            "Epoch 7/20\n",
            " - 3s - loss: 0.1146 - acc: 0.9616 - val_loss: 0.3681 - val_acc: 0.8680\n",
            "Epoch 8/20\n",
            " - 3s - loss: 0.1041 - acc: 0.9639 - val_loss: 0.3981 - val_acc: 0.8673\n",
            "Epoch 9/20\n",
            " - 3s - loss: 0.0930 - acc: 0.9690 - val_loss: 0.4084 - val_acc: 0.8682\n",
            "Epoch 10/20\n",
            " - 3s - loss: 0.0850 - acc: 0.9724 - val_loss: 0.4315 - val_acc: 0.8649\n",
            "Epoch 11/20\n",
            " - 3s - loss: 0.0793 - acc: 0.9736 - val_loss: 0.4624 - val_acc: 0.8632\n",
            "Epoch 12/20\n",
            " - 3s - loss: 0.0675 - acc: 0.9790 - val_loss: 0.4901 - val_acc: 0.8587\n",
            "Epoch 13/20\n",
            " - 3s - loss: 0.0652 - acc: 0.9800 - val_loss: 0.5533 - val_acc: 0.8558\n",
            "Epoch 14/20\n",
            " - 3s - loss: 0.0566 - acc: 0.9830 - val_loss: 0.5710 - val_acc: 0.8554\n",
            "Epoch 15/20\n",
            " - 3s - loss: 0.0524 - acc: 0.9843 - val_loss: 0.5822 - val_acc: 0.8550\n",
            "Epoch 16/20\n",
            " - 3s - loss: 0.0465 - acc: 0.9872 - val_loss: 0.6135 - val_acc: 0.8523\n",
            "Epoch 17/20\n",
            " - 3s - loss: 0.0426 - acc: 0.9876 - val_loss: 0.6448 - val_acc: 0.8507\n",
            "Epoch 18/20\n",
            " - 3s - loss: 0.0377 - acc: 0.9893 - val_loss: 0.6772 - val_acc: 0.8508\n",
            "Epoch 19/20\n",
            " - 3s - loss: 0.0336 - acc: 0.9907 - val_loss: 0.7621 - val_acc: 0.8372\n",
            "Epoch 20/20\n",
            " - 3s - loss: 0.0309 - acc: 0.9908 - val_loss: 0.7585 - val_acc: 0.8492\n",
            "Train on 25000 samples, validate on 25000 samples\n",
            "Epoch 1/20\n",
            " - 3s - loss: 0.6314 - acc: 0.6710 - val_loss: 0.5914 - val_acc: 0.6950\n",
            "Epoch 2/20\n",
            " - 3s - loss: 0.5034 - acc: 0.8300 - val_loss: 0.4372 - val_acc: 0.8430\n",
            "Epoch 3/20\n",
            " - 3s - loss: 0.3507 - acc: 0.8990 - val_loss: 0.3419 - val_acc: 0.8856\n",
            "Epoch 4/20\n",
            " - 3s - loss: 0.2713 - acc: 0.9178 - val_loss: 0.3046 - val_acc: 0.8883\n",
            "Epoch 5/20\n",
            " - 3s - loss: 0.2252 - acc: 0.9288 - val_loss: 0.2861 - val_acc: 0.8906\n",
            "Epoch 6/20\n",
            " - 3s - loss: 0.1953 - acc: 0.9369 - val_loss: 0.2813 - val_acc: 0.8889\n",
            "Epoch 7/20\n",
            " - 3s - loss: 0.1737 - acc: 0.9437 - val_loss: 0.2826 - val_acc: 0.8878\n",
            "Epoch 8/20\n",
            " - 3s - loss: 0.1583 - acc: 0.9495 - val_loss: 0.2885 - val_acc: 0.8861\n",
            "Epoch 9/20\n",
            " - 3s - loss: 0.1446 - acc: 0.9532 - val_loss: 0.2969 - val_acc: 0.8832\n",
            "Epoch 10/20\n",
            " - 3s - loss: 0.1342 - acc: 0.9562 - val_loss: 0.3056 - val_acc: 0.8815\n",
            "Epoch 11/20\n",
            " - 3s - loss: 0.1240 - acc: 0.9610 - val_loss: 0.3164 - val_acc: 0.8790\n",
            "Epoch 12/20\n",
            " - 3s - loss: 0.1155 - acc: 0.9638 - val_loss: 0.3322 - val_acc: 0.8753\n",
            "Epoch 13/20\n",
            " - 3s - loss: 0.1075 - acc: 0.9668 - val_loss: 0.3432 - val_acc: 0.8740\n",
            "Epoch 14/20\n",
            " - 3s - loss: 0.1002 - acc: 0.9693 - val_loss: 0.3583 - val_acc: 0.8721\n",
            "Epoch 15/20\n",
            " - 3s - loss: 0.0938 - acc: 0.9722 - val_loss: 0.3709 - val_acc: 0.8700\n",
            "Epoch 16/20\n",
            " - 3s - loss: 0.0883 - acc: 0.9738 - val_loss: 0.3946 - val_acc: 0.8654\n",
            "Epoch 17/20\n",
            " - 3s - loss: 0.0827 - acc: 0.9760 - val_loss: 0.3995 - val_acc: 0.8677\n",
            "Epoch 18/20\n",
            " - 3s - loss: 0.0777 - acc: 0.9783 - val_loss: 0.4156 - val_acc: 0.8655\n",
            "Epoch 19/20\n",
            " - 3s - loss: 0.0734 - acc: 0.9794 - val_loss: 0.4299 - val_acc: 0.8650\n",
            "Epoch 20/20\n",
            " - 3s - loss: 0.0687 - acc: 0.9809 - val_loss: 0.4489 - val_acc: 0.8623\n"
          ],
          "name": "stdout"
        }
      ]
    },
    {
      "cell_type": "markdown",
      "metadata": {
        "colab_type": "text",
        "id": "rCV6TJ899ExL"
      },
      "source": [
        "1. Plot the validation loss for the original and smaller models. How does the smaller model behave compared to the original?"
      ]
    },
    {
      "cell_type": "code",
      "metadata": {
        "colab_type": "code",
        "id": "m7kNvhh-9ExN",
        "outputId": "547e513b-463d-419b-a24c-0a6398be6dab",
        "colab": {
          "base_uri": "https://localhost:8080/",
          "height": 32
        }
      },
      "source": [
        "original_hist.history.keys()"
      ],
      "execution_count": 33,
      "outputs": [
        {
          "output_type": "execute_result",
          "data": {
            "text/plain": [
              "dict_keys(['val_loss', 'val_acc', 'loss', 'acc'])"
            ]
          },
          "metadata": {
            "tags": []
          },
          "execution_count": 33
        }
      ]
    },
    {
      "cell_type": "code",
      "metadata": {
        "id": "uSXj5DqDBLUu",
        "colab_type": "code",
        "outputId": "c7f031a8-2ebb-4ad6-832d-549596a00c81",
        "colab": {
          "base_uri": "https://localhost:8080/",
          "height": 32
        }
      },
      "source": [
        "smaller_model_hist.history.keys()"
      ],
      "execution_count": 34,
      "outputs": [
        {
          "output_type": "execute_result",
          "data": {
            "text/plain": [
              "dict_keys(['val_loss', 'val_acc', 'loss', 'acc'])"
            ]
          },
          "metadata": {
            "tags": []
          },
          "execution_count": 34
        }
      ]
    },
    {
      "cell_type": "code",
      "metadata": {
        "id": "K0zYJClEBO8G",
        "colab_type": "code",
        "outputId": "d393d1b2-841c-41eb-831a-41e9b2ccf890",
        "colab": {
          "base_uri": "https://localhost:8080/",
          "height": 500
        }
      },
      "source": [
        "\n",
        "plt.plot(original_hist.history['val_loss'])\n",
        "plt.plot(smaller_model_hist.history['val_loss'])\n",
        "plt.title('Validation loss')\n",
        "plt.ylabel('loss')\n",
        "plt.xlabel('epoch')\n",
        "plt.legend(['original', 'smaller'], loc='best')\n",
        "plt.show()"
      ],
      "execution_count": 35,
      "outputs": [
        {
          "output_type": "display_data",
          "data": {
            "image/png": "[encoded data removed]",
            "text/plain": [
              "<Figure size 750x500 with 1 Axes>"
            ]
          },
          "metadata": {
            "tags": []
          }
        }
      ]
    },
    {
      "cell_type": "markdown",
      "metadata": {
        "colab_type": "text",
        "id": "_u-YXpCZ9ExP"
      },
      "source": [
        "### Regularization: Weight regularization\n",
        "* As we did many times before, we can also add weight regularization to our loss function\n",
        "- L1 regularization: leads to _sparse networks_ with many weights that are 0\n",
        "- L2 regularization: leads to many very small weights\n",
        "    - Also called _weight decay_ in neural net literature\n",
        "* In Keras, add `kernel_regularizer` to every layer"
      ]
    },
    {
      "cell_type": "code",
      "metadata": {
        "colab_type": "code",
        "id": "kXOqh2uU9ExR",
        "colab": {}
      },
      "source": [
        "from keras import regularizers\n",
        "from keras import models\n",
        "from keras import layers \n",
        "import matplotlib.pyplot as plt\n",
        "\n",
        "l2_model = models.Sequential()\n",
        "l2_model.add(layers.Dense(16, kernel_regularizer=regularizers.l2(0.001),\n",
        "                          activation='relu', input_shape=(10000,)))\n",
        "l2_model.add(layers.Dense(16, kernel_regularizer=regularizers.l2(0.001),\n",
        "                          activation='relu'))\n",
        "l2_model.add(layers.Dense(1, activation='sigmoid'))"
      ],
      "execution_count": 0,
      "outputs": []
    },
    {
      "cell_type": "code",
      "metadata": {
        "colab_type": "code",
        "id": "mzNX3bHo9ExT",
        "colab": {}
      },
      "source": [
        "l2_model.compile(optimizer='rmsprop',\n",
        "                 loss='binary_crossentropy',\n",
        "                 metrics=['acc'])"
      ],
      "execution_count": 0,
      "outputs": []
    },
    {
      "cell_type": "code",
      "metadata": {
        "colab_type": "code",
        "id": "2Gg8hLY69ExU",
        "outputId": "1e05ee4c-ffe8-4fa2-90cc-d6e7cf314448",
        "colab": {
          "base_uri": "https://localhost:8080/",
          "height": 691
        }
      },
      "source": [
        "l2_model_hist = l2_model.fit(x_train, y_train,\n",
        "                             epochs=20,\n",
        "                             batch_size=512, verbose=2,\n",
        "                             validation_data=(x_test, y_test))"
      ],
      "execution_count": 38,
      "outputs": [
        {
          "output_type": "stream",
          "text": [
            "Train on 25000 samples, validate on 25000 samples\n",
            "Epoch 1/20\n",
            " - 3s - loss: 0.4904 - acc: 0.8216 - val_loss: 0.3815 - val_acc: 0.8782\n",
            "Epoch 2/20\n",
            " - 3s - loss: 0.3146 - acc: 0.9046 - val_loss: 0.3510 - val_acc: 0.8784\n",
            "Epoch 3/20\n",
            " - 3s - loss: 0.2733 - acc: 0.9187 - val_loss: 0.3841 - val_acc: 0.8620\n",
            "Epoch 4/20\n",
            " - 3s - loss: 0.2526 - acc: 0.9266 - val_loss: 0.3665 - val_acc: 0.8724\n",
            "Epoch 5/20\n",
            " - 3s - loss: 0.2383 - acc: 0.9317 - val_loss: 0.3424 - val_acc: 0.8831\n",
            "Epoch 6/20\n",
            " - 3s - loss: 0.2326 - acc: 0.9346 - val_loss: 0.3546 - val_acc: 0.8798\n",
            "Epoch 7/20\n",
            " - 3s - loss: 0.2265 - acc: 0.9374 - val_loss: 0.3744 - val_acc: 0.8740\n",
            "Epoch 8/20\n",
            " - 3s - loss: 0.2205 - acc: 0.9384 - val_loss: 0.3615 - val_acc: 0.8786\n",
            "Epoch 9/20\n",
            " - 3s - loss: 0.2174 - acc: 0.9418 - val_loss: 0.3814 - val_acc: 0.8736\n",
            "Epoch 10/20\n",
            " - 3s - loss: 0.2146 - acc: 0.9428 - val_loss: 0.3744 - val_acc: 0.8761\n",
            "Epoch 11/20\n",
            " - 3s - loss: 0.2089 - acc: 0.9437 - val_loss: 0.3964 - val_acc: 0.8704\n",
            "Epoch 12/20\n",
            " - 3s - loss: 0.2103 - acc: 0.9426 - val_loss: 0.4287 - val_acc: 0.8607\n",
            "Epoch 13/20\n",
            " - 3s - loss: 0.2049 - acc: 0.9442 - val_loss: 0.3896 - val_acc: 0.8738\n",
            "Epoch 14/20\n",
            " - 3s - loss: 0.2032 - acc: 0.9460 - val_loss: 0.4765 - val_acc: 0.8494\n",
            "Epoch 15/20\n",
            " - 3s - loss: 0.2009 - acc: 0.9469 - val_loss: 0.5009 - val_acc: 0.8484\n",
            "Epoch 16/20\n",
            " - 3s - loss: 0.1994 - acc: 0.9482 - val_loss: 0.4032 - val_acc: 0.8708\n",
            "Epoch 17/20\n",
            " - 3s - loss: 0.1974 - acc: 0.9483 - val_loss: 0.4089 - val_acc: 0.8713\n",
            "Epoch 18/20\n",
            " - 3s - loss: 0.1927 - acc: 0.9505 - val_loss: 0.4496 - val_acc: 0.8589\n",
            "Epoch 19/20\n",
            " - 3s - loss: 0.1935 - acc: 0.9496 - val_loss: 0.4174 - val_acc: 0.8692\n",
            "Epoch 20/20\n",
            " - 3s - loss: 0.1926 - acc: 0.9499 - val_loss: 0.4218 - val_acc: 0.8670\n"
          ],
          "name": "stdout"
        }
      ]
    },
    {
      "cell_type": "markdown",
      "metadata": {
        "colab_type": "text",
        "id": "vKOw1jNlibXK"
      },
      "source": [
        "1. Plot the validation loss for the original and l2 regularized models. How does the regularized model behave compared to the original?"
      ]
    },
    {
      "cell_type": "code",
      "metadata": {
        "colab_type": "code",
        "id": "9qYQvkIe9ExW",
        "outputId": "5b837411-30ad-4053-b28a-ab34b1150c19",
        "colab": {
          "base_uri": "https://localhost:8080/",
          "height": 500
        }
      },
      "source": [
        "plt.plot(original_hist.history['val_loss'])\n",
        "plt.plot(l2_model_hist.history['val_loss'])\n",
        "plt.title('Validation loss')\n",
        "plt.ylabel('loss')\n",
        "plt.xlabel('epoch')\n",
        "plt.legend(['original', 'l2 model'], loc='best')\n",
        "plt.show()"
      ],
      "execution_count": 39,
      "outputs": [
        {
          "output_type": "display_data",
          "data": {
            "image/png": "[encoded data removed]",
            "text/plain": [
              "<Figure size 750x500 with 1 Axes>"
            ]
          },
          "metadata": {
            "tags": []
          }
        }
      ]
    },
    {
      "cell_type": "markdown",
      "metadata": {
        "colab_type": "text",
        "id": "OFbL6yJF9ExZ"
      },
      "source": [
        "### Regularization: dropout\n",
        "* One of the most effective and commonly used regularization techniques\n",
        "* Randomly set a number of outputs of the layer to 0\n",
        "* Idea: break up accidental non-significant learned patterns \n",
        "* _Dropout rate_: fraction of the outputs that are zeroed-out\n",
        "    - Usually between 0.2 and 0.5\n",
        "* At test time, nothing is dropped out, but the output values are scaled down by the dropout rate\n",
        "    - Balances out that more units are active than during training\n",
        "* In Keras: add `Dropout` layers between the normal layers"
      ]
    },
    {
      "cell_type": "code",
      "metadata": {
        "colab_type": "code",
        "id": "SUHgbTz49Exa",
        "outputId": "258dd0aa-b2dd-4ccb-8b30-d02a90f59386",
        "colab": {
          "base_uri": "https://localhost:8080/",
          "height": 118
        }
      },
      "source": [
        "from keras import models\n",
        "from keras import layers \n",
        "import matplotlib.pyplot as plt\n",
        "\n",
        "dpt_model = models.Sequential()\n",
        "dpt_model.add(layers.Dense(16, activation='relu', input_shape=(10000,)))\n",
        "dpt_model.add(layers.Dropout(0.5))\n",
        "dpt_model.add(layers.Dense(16, activation='relu'))\n",
        "dpt_model.add(layers.Dropout(0.5))\n",
        "dpt_model.add(layers.Dense(1, activation='sigmoid'))\n",
        "\n",
        "dpt_model.compile(optimizer='rmsprop',\n",
        "                  loss='binary_crossentropy',\n",
        "                  metrics=['acc'])"
      ],
      "execution_count": 40,
      "outputs": [
        {
          "output_type": "stream",
          "text": [
            "WARNING:tensorflow:From /usr/local/lib/python3.6/dist-packages/keras/backend/tensorflow_backend.py:148: The name tf.placeholder_with_default is deprecated. Please use tf.compat.v1.placeholder_with_default instead.\n",
            "\n",
            "WARNING:tensorflow:From /usr/local/lib/python3.6/dist-packages/keras/backend/tensorflow_backend.py:3733: calling dropout (from tensorflow.python.ops.nn_ops) with keep_prob is deprecated and will be removed in a future version.\n",
            "Instructions for updating:\n",
            "Please use `rate` instead of `keep_prob`. Rate should be set to `rate = 1 - keep_prob`.\n"
          ],
          "name": "stdout"
        }
      ]
    },
    {
      "cell_type": "code",
      "metadata": {
        "colab_type": "code",
        "id": "2QSG_vWa9Exb",
        "outputId": "e389accd-7d6a-4a4b-a618-0e6c00b96d3f",
        "colab": {
          "base_uri": "https://localhost:8080/",
          "height": 691
        }
      },
      "source": [
        "dpt_model_hist = dpt_model.fit(x_train, y_train,\n",
        "                               epochs=20,\n",
        "                               \n",
        "                               batch_size=512, verbose=2,\n",
        "                               validation_data=(x_test, y_test))"
      ],
      "execution_count": 41,
      "outputs": [
        {
          "output_type": "stream",
          "text": [
            "Train on 25000 samples, validate on 25000 samples\n",
            "Epoch 1/20\n",
            " - 3s - loss: 0.6006 - acc: 0.6678 - val_loss: 0.4480 - val_acc: 0.8614\n",
            "Epoch 2/20\n",
            " - 3s - loss: 0.4555 - acc: 0.8063 - val_loss: 0.3555 - val_acc: 0.8764\n",
            "Epoch 3/20\n",
            " - 3s - loss: 0.3746 - acc: 0.8626 - val_loss: 0.3041 - val_acc: 0.8884\n",
            "Epoch 4/20\n",
            " - 3s - loss: 0.3188 - acc: 0.8948 - val_loss: 0.2915 - val_acc: 0.8870\n",
            "Epoch 5/20\n",
            " - 3s - loss: 0.2733 - acc: 0.9142 - val_loss: 0.2884 - val_acc: 0.8882\n",
            "Epoch 6/20\n",
            " - 3s - loss: 0.2416 - acc: 0.9258 - val_loss: 0.2974 - val_acc: 0.8879\n",
            "Epoch 7/20\n",
            " - 3s - loss: 0.2172 - acc: 0.9336 - val_loss: 0.3094 - val_acc: 0.8868\n",
            "Epoch 8/20\n",
            " - 3s - loss: 0.1950 - acc: 0.9402 - val_loss: 0.3387 - val_acc: 0.8836\n",
            "Epoch 9/20\n",
            " - 3s - loss: 0.1810 - acc: 0.9455 - val_loss: 0.3456 - val_acc: 0.8830\n",
            "Epoch 10/20\n",
            " - 3s - loss: 0.1714 - acc: 0.9455 - val_loss: 0.3649 - val_acc: 0.8815\n",
            "Epoch 11/20\n",
            " - 3s - loss: 0.1575 - acc: 0.9538 - val_loss: 0.4039 - val_acc: 0.8808\n",
            "Epoch 12/20\n",
            " - 3s - loss: 0.1458 - acc: 0.9567 - val_loss: 0.4064 - val_acc: 0.8793\n",
            "Epoch 13/20\n",
            " - 3s - loss: 0.1377 - acc: 0.9576 - val_loss: 0.4222 - val_acc: 0.8784\n",
            "Epoch 14/20\n",
            " - 3s - loss: 0.1294 - acc: 0.9619 - val_loss: 0.4758 - val_acc: 0.8756\n",
            "Epoch 15/20\n",
            " - 3s - loss: 0.1214 - acc: 0.9651 - val_loss: 0.4871 - val_acc: 0.8774\n",
            "Epoch 16/20\n",
            " - 3s - loss: 0.1198 - acc: 0.9656 - val_loss: 0.5154 - val_acc: 0.8734\n",
            "Epoch 17/20\n",
            " - 3s - loss: 0.1161 - acc: 0.9683 - val_loss: 0.5417 - val_acc: 0.8731\n",
            "Epoch 18/20\n",
            " - 3s - loss: 0.1076 - acc: 0.9689 - val_loss: 0.5464 - val_acc: 0.8750\n",
            "Epoch 19/20\n",
            " - 3s - loss: 0.1033 - acc: 0.9717 - val_loss: 0.5581 - val_acc: 0.8737\n",
            "Epoch 20/20\n",
            " - 3s - loss: 0.1065 - acc: 0.9697 - val_loss: 0.5914 - val_acc: 0.8731\n"
          ],
          "name": "stdout"
        }
      ]
    },
    {
      "cell_type": "markdown",
      "metadata": {
        "colab_type": "text",
        "id": "VZx6VNXn9Exd"
      },
      "source": [
        "1. Plot the validation loss for the original and dropout models. How does the dropout model behave compared to the original?"
      ]
    },
    {
      "cell_type": "code",
      "metadata": {
        "colab_type": "code",
        "id": "-ZS_z7xM9Exe",
        "outputId": "c5248d54-1a22-4696-a10f-14857390058e",
        "colab": {
          "base_uri": "https://localhost:8080/",
          "height": 500
        }
      },
      "source": [
        "plt.plot(original_hist.history['val_loss'])\n",
        "plt.plot(dpt_model_hist.history['val_loss'])\n",
        "plt.title('Validation Loss')\n",
        "plt.ylabel('loss')\n",
        "plt.xlabel('epoch')\n",
        "plt.legend(['original', 'dropout model'], loc='best')\n",
        "plt.show()"
      ],
      "execution_count": 42,
      "outputs": [
        {
          "output_type": "display_data",
          "data": {
            "image/png": "[encoded data removed]",
            "text/plain": [
              "<Figure size 750x500 with 1 Axes>"
            ]
          },
          "metadata": {
            "tags": []
          }
        }
      ]
    },
    {
      "cell_type": "markdown",
      "metadata": {
        "colab_type": "text",
        "id": "ORAwOqdV9Exf"
      },
      "source": [
        "### Regularization recap\n",
        "* Get more training data\n",
        "* Reduce the capacity of the network\n",
        "* Add weight regularization\n",
        "* Add dropout\n",
        "* Either start with a simple model and add capacity\n",
        "* Or, start with a complex model and then regularize by adding weight regularization and dropout"
      ]
    },
    {
      "cell_type": "markdown",
      "metadata": {
        "colab_type": "text",
        "id": "1xwfZv_E9Ewq"
      },
      "source": [
        "### Regression\n",
        "* Dataset: 506 examples of houses and sale prices (Boston)\n",
        "    - Included in Keras, with a 1/5 train-test split\n",
        "* Each row is one house price, described by numeric properties of the house and neighborhood\n",
        "* Small dataset, non-normalized features"
      ]
    },
    {
      "cell_type": "code",
      "metadata": {
        "colab_type": "code",
        "id": "ZlUGyLJS9Ewr",
        "colab": {
          "base_uri": "https://localhost:8080/",
          "height": 49
        },
        "outputId": "ee944ed0-763e-4448-9839-ecf4bc42739d"
      },
      "source": [
        "from keras.datasets import boston_housing\n",
        "\n",
        "(train_data, train_targets), (test_data, test_targets) =  boston_housing.load_data()"
      ],
      "execution_count": 43,
      "outputs": [
        {
          "output_type": "stream",
          "text": [
            "Downloading data from https://s3.amazonaws.com/keras-datasets/boston_housing.npz\n",
            "57344/57026 [==============================] - 0s 0us/step\n"
          ],
          "name": "stdout"
        }
      ]
    },
    {
      "cell_type": "markdown",
      "metadata": {
        "colab_type": "text",
        "id": "gX4hkxBb9Ewt"
      },
      "source": [
        "#### Preprocessing\n",
        "* Neural nets work a lot better if we normalize the features first. \n",
        "* Keras has no built-in support so we have to do this manually (or with scikit-learn)\n",
        "    - Again, be careful not to look at the test data during normalization\n",
        "    \n"
      ]
    },
    {
      "cell_type": "code",
      "metadata": {
        "colab_type": "code",
        "id": "d-W92M6I9Ewt",
        "colab": {}
      },
      "source": [
        "mean, std = train_data.mean(axis=0), train_data.std(axis=0)\n",
        "train_data -= mean\n",
        "train_data /= std\n",
        "\n",
        "test_data -= mean\n",
        "test_data /= std"
      ],
      "execution_count": 0,
      "outputs": []
    },
    {
      "cell_type": "markdown",
      "metadata": {
        "colab_type": "text",
        "id": "OwM0wfKE9Ewx"
      },
      "source": [
        "#### Building the network\n",
        "* This is a small dataset, so easy to overfit\n",
        "    * We use 2 hidden layers of 64 units each\n",
        "* Use smaller batches, more epochs\n",
        "* Since we want scalar output, the output layer is one unit without activation\n",
        "* Loss function is Mean Squared Error (bigger penalty)\n",
        "* Evaluation metric is Mean Absolute Error (more interpretable)\n",
        "* We will also use cross-validation, so we wrap the model building in a function, so that we can call it multiple times\n",
        "\n",
        "1. Create a function build_model that returns the neural network model described above"
      ]
    },
    {
      "cell_type": "code",
      "metadata": {
        "colab_type": "code",
        "id": "vL_p-NcX9Ewz",
        "colab": {}
      },
      "source": [
        "def build_model():\n",
        "    model = models.Sequential()\n",
        "    model.add(layers.Dense(64, activation='relu',\n",
        "                           input_shape=(train_data.shape[1],)))\n",
        "    model.add(layers.Dense(64, activation='relu'))\n",
        "    model.add(layers.Dense(1))\n",
        "    model.compile(optimizer='rmsprop', loss='mse', metrics=['mae'])\n",
        "    return model"
      ],
      "execution_count": 0,
      "outputs": []
    },
    {
      "cell_type": "markdown",
      "metadata": {
        "colab_type": "text",
        "id": "t2seh8XW9Ew1"
      },
      "source": [
        "#### Cross-validation\n",
        "* Keras does not have support for cross-validation\n",
        "* We can implement cross-validation ourselves (seeprovided code below)\n",
        "* Alternatively, we can wrap a Keras model as a scikit-learn estimator\n",
        "* Generally speaking, cross-validation is tricky with neural nets\n",
        "    * Some fold may not converge, or fluctuate on random initialization\n",
        "    "
      ]
    },
    {
      "cell_type": "code",
      "metadata": {
        "colab_type": "code",
        "id": "VupbDC1U9Ew3",
        "outputId": "a4cd74cc-187e-425c-8beb-eb5f04181565",
        "colab": {
          "base_uri": "https://localhost:8080/",
          "height": 82
        }
      },
      "source": [
        "# implementation of cross-validation\n",
        "import numpy as np\n",
        "\n",
        "k = 4\n",
        "num_val_samples = len(train_data) // k\n",
        "num_epochs = 20\n",
        "all_scores = []\n",
        "for i in range(k):\n",
        "    print('processing fold #', i)\n",
        "    # Prepare the validation data: data from partition # k\n",
        "    val_data = train_data[i * num_val_samples: (i + 1) * num_val_samples]\n",
        "    val_targets = train_targets[i * num_val_samples: (i + 1) * num_val_samples]\n",
        "\n",
        "    # Prepare the training data: data from all other partitions\n",
        "    partial_train_data = np.concatenate(\n",
        "        [train_data[:i * num_val_samples],\n",
        "         train_data[(i + 1) * num_val_samples:]],\n",
        "        axis=0)\n",
        "    partial_train_targets = np.concatenate(\n",
        "        [train_targets[:i * num_val_samples],\n",
        "         train_targets[(i + 1) * num_val_samples:]],\n",
        "        axis=0)\n",
        "\n",
        "    # Build the Keras model (already compiled)\n",
        "    model = build_model()\n",
        "    # Train the model (in silent mode, verbose=0)\n",
        "    model.fit(partial_train_data, partial_train_targets,\n",
        "              epochs=num_epochs, batch_size=1, verbose=0)\n",
        "    # Evaluate the model on the validation data\n",
        "    val_mse, val_mae = model.evaluate(val_data, val_targets, verbose=2)\n",
        "    all_scores.append(val_mae)"
      ],
      "execution_count": 46,
      "outputs": [
        {
          "output_type": "stream",
          "text": [
            "processing fold # 0\n",
            "processing fold # 1\n",
            "processing fold # 2\n",
            "processing fold # 3\n"
          ],
          "name": "stdout"
        }
      ]
    },
    {
      "cell_type": "markdown",
      "metadata": {
        "colab_type": "text",
        "id": "OcEyK-E59Ew8"
      },
      "source": [
        "1. Train for longer (200 epochs) and keep track of loss after every epoch. Plot and describe the loss as a function of epoch number."
      ]
    },
    {
      "cell_type": "code",
      "metadata": {
        "colab_type": "code",
        "id": "tXsVlXqw9Ew8",
        "outputId": "1e197355-e7b1-431f-d99d-fd5870b452c6",
        "colab": {
          "base_uri": "https://localhost:8080/",
          "height": 1000
        }
      },
      "source": [
        "from keras import backend as K\n",
        "K.clear_session() # Memory clean-up\n",
        "\n",
        "num_epochs = 200\n",
        "all_mae_histories = []\n",
        "for i in range(k):\n",
        "    print('processing fold #', i)\n",
        "    # Prepare the validation data: data from partition # k\n",
        "    val_data = train_data[i * num_val_samples: (i + 1) * num_val_samples]\n",
        "    val_targets = train_targets[i * num_val_samples: (i + 1) * num_val_samples]\n",
        "\n",
        "    # Prepare the training data: data from all other partitions\n",
        "    partial_train_data = np.concatenate(\n",
        "        [train_data[:i * num_val_samples],\n",
        "         train_data[(i + 1) * num_val_samples:]],\n",
        "        axis=0)\n",
        "    partial_train_targets = np.concatenate(\n",
        "        [train_targets[:i * num_val_samples],\n",
        "         train_targets[(i + 1) * num_val_samples:]],\n",
        "        axis=0)\n",
        "\n",
        "    # Build the Keras model (already compiled)\n",
        "    model = build_model()\n",
        "    # Train the model (in silent mode, verbose=0)\n",
        "    history = model.fit(partial_train_data, partial_train_targets,\n",
        "                        validation_data=(val_data, val_targets),\n",
        "                        epochs=num_epochs, batch_size=1, verbose=2)\n",
        "    mae_history = history.history['val_loss']\n",
        "    all_mae_histories.append(mae_history)"
      ],
      "execution_count": 47,
      "outputs": [
        {
          "output_type": "stream",
          "text": [
            "WARNING:tensorflow:From /usr/local/lib/python3.6/dist-packages/keras/backend/tensorflow_backend.py:107: The name tf.reset_default_graph is deprecated. Please use tf.compat.v1.reset_default_graph instead.\n",
            "\n",
            "processing fold # 0\n",
            "Train on 303 samples, validate on 101 samples\n",
            "Epoch 1/200\n",
            " - 0s - loss: 251.7340 - mean_absolute_error: 12.3052 - val_loss: 42.2207 - val_mean_absolute_error: 4.2802\n",
            "Epoch 2/200\n",
            " - 0s - loss: 34.6477 - mean_absolute_error: 4.0822 - val_loss: 25.3848 - val_mean_absolute_error: 3.3285\n",
            "Epoch 3/200\n",
            " - 0s - loss: 23.0829 - mean_absolute_error: 3.3213 - val_loss: 22.9065 - val_mean_absolute_error: 3.1002\n",
            "Epoch 4/200\n",
            " - 0s - loss: 19.4478 - mean_absolute_error: 3.0331 - val_loss: 18.3926 - val_mean_absolute_error: 2.7113\n",
            "Epoch 5/200\n",
            " - 0s - loss: 17.0332 - mean_absolute_error: 2.7431 - val_loss: 15.9606 - val_mean_absolute_error: 2.5887\n",
            "Epoch 6/200\n",
            " - 0s - loss: 16.2834 - mean_absolute_error: 2.6838 - val_loss: 17.0734 - val_mean_absolute_error: 2.6522\n",
            "Epoch 7/200\n",
            " - 0s - loss: 14.5966 - mean_absolute_error: 2.6241 - val_loss: 13.7653 - val_mean_absolute_error: 2.2968\n",
            "Epoch 8/200\n",
            " - 0s - loss: 14.3789 - mean_absolute_error: 2.4981 - val_loss: 14.5803 - val_mean_absolute_error: 2.5170\n",
            "Epoch 9/200\n",
            " - 0s - loss: 13.2995 - mean_absolute_error: 2.4313 - val_loss: 12.7573 - val_mean_absolute_error: 2.3574\n",
            "Epoch 10/200\n",
            " - 0s - loss: 13.2601 - mean_absolute_error: 2.4327 - val_loss: 12.4418 - val_mean_absolute_error: 2.4116\n",
            "Epoch 11/200\n",
            " - 0s - loss: 12.6479 - mean_absolute_error: 2.3796 - val_loss: 13.6860 - val_mean_absolute_error: 2.3422\n",
            "Epoch 12/200\n",
            " - 0s - loss: 12.3039 - mean_absolute_error: 2.3151 - val_loss: 11.9982 - val_mean_absolute_error: 2.1846\n",
            "Epoch 13/200\n",
            " - 0s - loss: 12.2439 - mean_absolute_error: 2.2763 - val_loss: 11.4259 - val_mean_absolute_error: 2.2373\n",
            "Epoch 14/200\n",
            " - 0s - loss: 11.1535 - mean_absolute_error: 2.1626 - val_loss: 11.3529 - val_mean_absolute_error: 2.1405\n",
            "Epoch 15/200\n",
            " - 0s - loss: 11.5310 - mean_absolute_error: 2.2494 - val_loss: 10.4055 - val_mean_absolute_error: 2.0712\n",
            "Epoch 16/200\n",
            " - 0s - loss: 11.1983 - mean_absolute_error: 2.2048 - val_loss: 10.5929 - val_mean_absolute_error: 2.1594\n",
            "Epoch 17/200\n",
            " - 0s - loss: 11.5049 - mean_absolute_error: 2.1932 - val_loss: 11.4674 - val_mean_absolute_error: 2.2258\n",
            "Epoch 18/200\n",
            " - 0s - loss: 11.0297 - mean_absolute_error: 2.1924 - val_loss: 10.7715 - val_mean_absolute_error: 2.3100\n",
            "Epoch 19/200\n",
            " - 0s - loss: 10.5191 - mean_absolute_error: 2.1532 - val_loss: 12.3063 - val_mean_absolute_error: 2.4786\n",
            "Epoch 20/200\n",
            " - 0s - loss: 9.9135 - mean_absolute_error: 2.1297 - val_loss: 11.6674 - val_mean_absolute_error: 2.5013\n",
            "Epoch 21/200\n",
            " - 0s - loss: 10.4502 - mean_absolute_error: 2.1338 - val_loss: 10.8850 - val_mean_absolute_error: 2.3669\n",
            "Epoch 22/200\n",
            " - 0s - loss: 10.1752 - mean_absolute_error: 2.0693 - val_loss: 10.1778 - val_mean_absolute_error: 2.2459\n",
            "Epoch 23/200\n",
            " - 0s - loss: 9.8623 - mean_absolute_error: 2.0774 - val_loss: 11.3045 - val_mean_absolute_error: 2.2771\n",
            "Epoch 24/200\n",
            " - 0s - loss: 10.0590 - mean_absolute_error: 2.0679 - val_loss: 9.8827 - val_mean_absolute_error: 2.1680\n",
            "Epoch 25/200\n",
            " - 0s - loss: 9.6329 - mean_absolute_error: 2.0443 - val_loss: 10.7415 - val_mean_absolute_error: 2.1346\n",
            "Epoch 26/200\n",
            " - 0s - loss: 9.6657 - mean_absolute_error: 2.0372 - val_loss: 10.0839 - val_mean_absolute_error: 2.1372\n",
            "Epoch 27/200\n",
            " - 0s - loss: 9.5384 - mean_absolute_error: 2.0151 - val_loss: 10.7836 - val_mean_absolute_error: 2.1046\n",
            "Epoch 28/200\n",
            " - 0s - loss: 9.0398 - mean_absolute_error: 2.0343 - val_loss: 11.1973 - val_mean_absolute_error: 2.0768\n",
            "Epoch 29/200\n",
            " - 0s - loss: 9.1212 - mean_absolute_error: 2.0474 - val_loss: 10.4849 - val_mean_absolute_error: 2.2235\n",
            "Epoch 30/200\n",
            " - 0s - loss: 9.1142 - mean_absolute_error: 1.9929 - val_loss: 11.9121 - val_mean_absolute_error: 2.1790\n",
            "Epoch 31/200\n",
            " - 0s - loss: 9.3890 - mean_absolute_error: 2.0608 - val_loss: 9.7029 - val_mean_absolute_error: 2.2230\n",
            "Epoch 32/200\n",
            " - 0s - loss: 9.1373 - mean_absolute_error: 1.9745 - val_loss: 11.7280 - val_mean_absolute_error: 2.0977\n",
            "Epoch 33/200\n",
            " - 0s - loss: 8.9887 - mean_absolute_error: 1.9732 - val_loss: 10.9352 - val_mean_absolute_error: 2.3550\n",
            "Epoch 34/200\n",
            " - 0s - loss: 8.7913 - mean_absolute_error: 1.9673 - val_loss: 11.4371 - val_mean_absolute_error: 2.0770\n",
            "Epoch 35/200\n",
            " - 0s - loss: 8.9021 - mean_absolute_error: 1.9536 - val_loss: 11.3653 - val_mean_absolute_error: 2.2372\n",
            "Epoch 36/200\n",
            " - 0s - loss: 8.8941 - mean_absolute_error: 1.9849 - val_loss: 9.8146 - val_mean_absolute_error: 1.9539\n",
            "Epoch 37/200\n",
            " - 0s - loss: 8.9081 - mean_absolute_error: 1.9217 - val_loss: 11.6724 - val_mean_absolute_error: 2.0851\n",
            "Epoch 38/200\n",
            " - 0s - loss: 8.4842 - mean_absolute_error: 1.9030 - val_loss: 10.4828 - val_mean_absolute_error: 2.0699\n",
            "Epoch 39/200\n",
            " - 0s - loss: 8.4084 - mean_absolute_error: 1.8917 - val_loss: 11.8772 - val_mean_absolute_error: 2.1904\n",
            "Epoch 40/200\n",
            " - 0s - loss: 8.2211 - mean_absolute_error: 1.9149 - val_loss: 11.1106 - val_mean_absolute_error: 2.0998\n",
            "Epoch 41/200\n",
            " - 0s - loss: 8.3695 - mean_absolute_error: 1.9025 - val_loss: 9.7891 - val_mean_absolute_error: 2.0405\n",
            "Epoch 42/200\n",
            " - 0s - loss: 8.2248 - mean_absolute_error: 1.9413 - val_loss: 10.1057 - val_mean_absolute_error: 2.0866\n",
            "Epoch 43/200\n",
            " - 0s - loss: 7.5913 - mean_absolute_error: 1.8464 - val_loss: 11.3848 - val_mean_absolute_error: 2.5801\n",
            "Epoch 44/200\n",
            " - 0s - loss: 7.9766 - mean_absolute_error: 1.8999 - val_loss: 10.6501 - val_mean_absolute_error: 2.1947\n",
            "Epoch 45/200\n",
            " - 0s - loss: 7.4676 - mean_absolute_error: 1.7765 - val_loss: 11.3571 - val_mean_absolute_error: 2.1365\n",
            "Epoch 46/200\n",
            " - 0s - loss: 8.2097 - mean_absolute_error: 1.8464 - val_loss: 10.4208 - val_mean_absolute_error: 2.2901\n",
            "Epoch 47/200\n",
            " - 0s - loss: 7.4582 - mean_absolute_error: 1.8402 - val_loss: 9.8190 - val_mean_absolute_error: 2.0578\n",
            "Epoch 48/200\n",
            " - 0s - loss: 7.8188 - mean_absolute_error: 1.8258 - val_loss: 10.6470 - val_mean_absolute_error: 2.0727\n",
            "Epoch 49/200\n",
            " - 0s - loss: 7.3932 - mean_absolute_error: 1.7529 - val_loss: 10.6188 - val_mean_absolute_error: 2.2909\n",
            "Epoch 50/200\n",
            " - 0s - loss: 7.7030 - mean_absolute_error: 1.7866 - val_loss: 10.2229 - val_mean_absolute_error: 2.1074\n",
            "Epoch 51/200\n",
            " - 0s - loss: 7.1193 - mean_absolute_error: 1.7879 - val_loss: 9.6156 - val_mean_absolute_error: 1.9867\n",
            "Epoch 52/200\n",
            " - 0s - loss: 7.3011 - mean_absolute_error: 1.7525 - val_loss: 10.6080 - val_mean_absolute_error: 2.3741\n",
            "Epoch 53/200\n",
            " - 0s - loss: 7.6090 - mean_absolute_error: 1.7486 - val_loss: 10.4341 - val_mean_absolute_error: 2.1335\n",
            "Epoch 54/200\n",
            " - 0s - loss: 7.2983 - mean_absolute_error: 1.8030 - val_loss: 11.3396 - val_mean_absolute_error: 2.1463\n",
            "Epoch 55/200\n",
            " - 0s - loss: 6.4474 - mean_absolute_error: 1.7203 - val_loss: 11.4164 - val_mean_absolute_error: 2.5915\n",
            "Epoch 56/200\n",
            " - 0s - loss: 7.0594 - mean_absolute_error: 1.6993 - val_loss: 9.6870 - val_mean_absolute_error: 2.1291\n",
            "Epoch 57/200\n",
            " - 0s - loss: 7.2018 - mean_absolute_error: 1.6796 - val_loss: 10.1041 - val_mean_absolute_error: 2.2163\n",
            "Epoch 58/200\n",
            " - 0s - loss: 7.1625 - mean_absolute_error: 1.7430 - val_loss: 10.1980 - val_mean_absolute_error: 2.3641\n",
            "Epoch 59/200\n",
            " - 0s - loss: 7.1017 - mean_absolute_error: 1.6856 - val_loss: 10.9869 - val_mean_absolute_error: 2.0806\n",
            "Epoch 60/200\n",
            " - 0s - loss: 7.2139 - mean_absolute_error: 1.6681 - val_loss: 10.4966 - val_mean_absolute_error: 1.9949\n",
            "Epoch 61/200\n",
            " - 0s - loss: 7.0869 - mean_absolute_error: 1.6990 - val_loss: 10.9156 - val_mean_absolute_error: 2.5096\n",
            "Epoch 62/200\n",
            " - 0s - loss: 6.8276 - mean_absolute_error: 1.6463 - val_loss: 11.2740 - val_mean_absolute_error: 2.3179\n",
            "Epoch 63/200\n",
            " - 0s - loss: 6.9161 - mean_absolute_error: 1.7066 - val_loss: 9.0495 - val_mean_absolute_error: 2.1392\n",
            "Epoch 64/200\n",
            " - 0s - loss: 6.9965 - mean_absolute_error: 1.7209 - val_loss: 11.3256 - val_mean_absolute_error: 2.4382\n",
            "Epoch 65/200\n",
            " - 0s - loss: 6.5754 - mean_absolute_error: 1.6885 - val_loss: 9.6099 - val_mean_absolute_error: 2.0181\n",
            "Epoch 66/200\n",
            " - 0s - loss: 6.6311 - mean_absolute_error: 1.6885 - val_loss: 10.4534 - val_mean_absolute_error: 2.3727\n",
            "Epoch 67/200\n",
            " - 0s - loss: 6.5459 - mean_absolute_error: 1.6617 - val_loss: 9.4660 - val_mean_absolute_error: 1.9961\n",
            "Epoch 68/200\n",
            " - 0s - loss: 6.6825 - mean_absolute_error: 1.6410 - val_loss: 9.5394 - val_mean_absolute_error: 2.0497\n",
            "Epoch 69/200\n",
            " - 0s - loss: 6.4397 - mean_absolute_error: 1.6404 - val_loss: 9.9600 - val_mean_absolute_error: 2.1892\n",
            "Epoch 70/200\n",
            " - 0s - loss: 6.0187 - mean_absolute_error: 1.5755 - val_loss: 10.5181 - val_mean_absolute_error: 2.1943\n",
            "Epoch 71/200\n",
            " - 0s - loss: 6.5740 - mean_absolute_error: 1.6384 - val_loss: 9.6633 - val_mean_absolute_error: 2.0672\n",
            "Epoch 72/200\n",
            " - 0s - loss: 6.3890 - mean_absolute_error: 1.6408 - val_loss: 10.0640 - val_mean_absolute_error: 2.2413\n",
            "Epoch 73/200\n",
            " - 0s - loss: 6.2086 - mean_absolute_error: 1.6578 - val_loss: 10.1665 - val_mean_absolute_error: 2.2478\n",
            "Epoch 74/200\n",
            " - 0s - loss: 6.2236 - mean_absolute_error: 1.5777 - val_loss: 10.9052 - val_mean_absolute_error: 2.1350\n",
            "Epoch 75/200\n",
            " - 0s - loss: 6.0818 - mean_absolute_error: 1.5975 - val_loss: 10.0472 - val_mean_absolute_error: 2.2927\n",
            "Epoch 76/200\n",
            " - 0s - loss: 6.1311 - mean_absolute_error: 1.6295 - val_loss: 9.9695 - val_mean_absolute_error: 2.1890\n",
            "Epoch 77/200\n",
            " - 0s - loss: 6.1528 - mean_absolute_error: 1.6356 - val_loss: 10.5751 - val_mean_absolute_error: 2.1595\n",
            "Epoch 78/200\n",
            " - 0s - loss: 5.8975 - mean_absolute_error: 1.5562 - val_loss: 14.0344 - val_mean_absolute_error: 2.8240\n",
            "Epoch 79/200\n",
            " - 0s - loss: 5.9709 - mean_absolute_error: 1.6269 - val_loss: 9.5292 - val_mean_absolute_error: 2.2114\n",
            "Epoch 80/200\n",
            " - 0s - loss: 5.6175 - mean_absolute_error: 1.5757 - val_loss: 12.1098 - val_mean_absolute_error: 2.3417\n",
            "Epoch 81/200\n",
            " - 0s - loss: 5.9550 - mean_absolute_error: 1.6393 - val_loss: 10.1835 - val_mean_absolute_error: 2.0828\n",
            "Epoch 82/200\n",
            " - 0s - loss: 6.0313 - mean_absolute_error: 1.5964 - val_loss: 10.2131 - val_mean_absolute_error: 2.1758\n",
            "Epoch 83/200\n",
            " - 0s - loss: 5.5729 - mean_absolute_error: 1.6147 - val_loss: 10.9792 - val_mean_absolute_error: 2.2806\n",
            "Epoch 84/200\n",
            " - 0s - loss: 5.8039 - mean_absolute_error: 1.5360 - val_loss: 10.3657 - val_mean_absolute_error: 2.0692\n",
            "Epoch 85/200\n",
            " - 0s - loss: 5.8364 - mean_absolute_error: 1.5704 - val_loss: 10.4185 - val_mean_absolute_error: 2.2882\n",
            "Epoch 86/200\n",
            " - 0s - loss: 5.8886 - mean_absolute_error: 1.6006 - val_loss: 9.7930 - val_mean_absolute_error: 2.1462\n",
            "Epoch 87/200\n",
            " - 0s - loss: 5.5674 - mean_absolute_error: 1.5500 - val_loss: 10.0861 - val_mean_absolute_error: 2.0386\n",
            "Epoch 88/200\n",
            " - 0s - loss: 5.8814 - mean_absolute_error: 1.5514 - val_loss: 10.4278 - val_mean_absolute_error: 2.1154\n",
            "Epoch 89/200\n",
            " - 0s - loss: 5.5487 - mean_absolute_error: 1.5135 - val_loss: 9.5414 - val_mean_absolute_error: 2.1910\n",
            "Epoch 90/200\n",
            " - 0s - loss: 5.3076 - mean_absolute_error: 1.5002 - val_loss: 10.4208 - val_mean_absolute_error: 2.3432\n",
            "Epoch 91/200\n",
            " - 0s - loss: 5.8736 - mean_absolute_error: 1.5627 - val_loss: 9.4762 - val_mean_absolute_error: 2.2399\n",
            "Epoch 92/200\n",
            " - 0s - loss: 5.4658 - mean_absolute_error: 1.4908 - val_loss: 9.2207 - val_mean_absolute_error: 2.1428\n",
            "Epoch 93/200\n",
            " - 0s - loss: 5.2658 - mean_absolute_error: 1.5508 - val_loss: 10.3258 - val_mean_absolute_error: 2.3352\n",
            "Epoch 94/200\n",
            " - 0s - loss: 5.3814 - mean_absolute_error: 1.5426 - val_loss: 9.8916 - val_mean_absolute_error: 2.1539\n",
            "Epoch 95/200\n",
            " - 0s - loss: 5.1362 - mean_absolute_error: 1.4695 - val_loss: 11.7817 - val_mean_absolute_error: 2.6637\n",
            "Epoch 96/200\n",
            " - 0s - loss: 5.6341 - mean_absolute_error: 1.4859 - val_loss: 11.5283 - val_mean_absolute_error: 2.6982\n",
            "Epoch 97/200\n",
            " - 0s - loss: 4.9917 - mean_absolute_error: 1.4622 - val_loss: 9.5428 - val_mean_absolute_error: 2.1796\n",
            "Epoch 98/200\n",
            " - 0s - loss: 5.2317 - mean_absolute_error: 1.5089 - val_loss: 8.9171 - val_mean_absolute_error: 2.1235\n",
            "Epoch 99/200\n",
            " - 0s - loss: 5.1447 - mean_absolute_error: 1.5236 - val_loss: 10.6242 - val_mean_absolute_error: 2.3317\n",
            "Epoch 100/200\n",
            " - 0s - loss: 5.1509 - mean_absolute_error: 1.4748 - val_loss: 9.2059 - val_mean_absolute_error: 2.1368\n",
            "Epoch 101/200\n",
            " - 0s - loss: 4.7270 - mean_absolute_error: 1.3953 - val_loss: 9.0839 - val_mean_absolute_error: 2.1406\n",
            "Epoch 102/200\n",
            " - 0s - loss: 4.8623 - mean_absolute_error: 1.4728 - val_loss: 12.0583 - val_mean_absolute_error: 2.5041\n",
            "Epoch 103/200\n",
            " - 0s - loss: 4.9351 - mean_absolute_error: 1.4936 - val_loss: 9.5315 - val_mean_absolute_error: 2.1768\n",
            "Epoch 104/200\n",
            " - 0s - loss: 4.8562 - mean_absolute_error: 1.4214 - val_loss: 8.9605 - val_mean_absolute_error: 2.0216\n",
            "Epoch 105/200\n",
            " - 0s - loss: 4.9294 - mean_absolute_error: 1.4736 - val_loss: 9.7478 - val_mean_absolute_error: 2.0983\n",
            "Epoch 106/200\n",
            " - 0s - loss: 4.9518 - mean_absolute_error: 1.4814 - val_loss: 9.8264 - val_mean_absolute_error: 2.2247\n",
            "Epoch 107/200\n",
            " - 0s - loss: 5.1814 - mean_absolute_error: 1.4579 - val_loss: 9.7921 - val_mean_absolute_error: 2.2485\n",
            "Epoch 108/200\n",
            " - 0s - loss: 4.7806 - mean_absolute_error: 1.4110 - val_loss: 8.7709 - val_mean_absolute_error: 2.1254\n",
            "Epoch 109/200\n",
            " - 0s - loss: 4.5872 - mean_absolute_error: 1.3960 - val_loss: 10.6885 - val_mean_absolute_error: 2.4466\n",
            "Epoch 110/200\n",
            " - 0s - loss: 4.5247 - mean_absolute_error: 1.3565 - val_loss: 9.5665 - val_mean_absolute_error: 2.0121\n",
            "Epoch 111/200\n",
            " - 0s - loss: 4.4846 - mean_absolute_error: 1.4480 - val_loss: 9.6470 - val_mean_absolute_error: 2.0372\n",
            "Epoch 112/200\n",
            " - 0s - loss: 4.7751 - mean_absolute_error: 1.4447 - val_loss: 9.9660 - val_mean_absolute_error: 2.1481\n",
            "Epoch 113/200\n",
            " - 0s - loss: 4.7215 - mean_absolute_error: 1.4460 - val_loss: 9.5322 - val_mean_absolute_error: 2.1355\n",
            "Epoch 114/200\n",
            " - 0s - loss: 4.3402 - mean_absolute_error: 1.4421 - val_loss: 10.7498 - val_mean_absolute_error: 2.2496\n",
            "Epoch 115/200\n",
            " - 0s - loss: 4.5472 - mean_absolute_error: 1.4025 - val_loss: 10.0220 - val_mean_absolute_error: 2.2620\n",
            "Epoch 116/200\n",
            " - 0s - loss: 4.6034 - mean_absolute_error: 1.3504 - val_loss: 10.5906 - val_mean_absolute_error: 2.4820\n",
            "Epoch 117/200\n",
            " - 0s - loss: 4.7165 - mean_absolute_error: 1.3949 - val_loss: 9.1980 - val_mean_absolute_error: 2.1992\n",
            "Epoch 118/200\n",
            " - 0s - loss: 4.8142 - mean_absolute_error: 1.3590 - val_loss: 9.5176 - val_mean_absolute_error: 2.2159\n",
            "Epoch 119/200\n",
            " - 0s - loss: 4.5767 - mean_absolute_error: 1.3958 - val_loss: 8.8083 - val_mean_absolute_error: 2.1150\n",
            "Epoch 120/200\n",
            " - 0s - loss: 4.7483 - mean_absolute_error: 1.3997 - val_loss: 10.9577 - val_mean_absolute_error: 2.1084\n",
            "Epoch 121/200\n",
            " - 0s - loss: 4.4141 - mean_absolute_error: 1.4326 - val_loss: 9.5582 - val_mean_absolute_error: 1.9777\n",
            "Epoch 122/200\n",
            " - 0s - loss: 4.4130 - mean_absolute_error: 1.3601 - val_loss: 10.3541 - val_mean_absolute_error: 2.0509\n",
            "Epoch 123/200\n",
            " - 0s - loss: 4.2659 - mean_absolute_error: 1.3513 - val_loss: 9.7923 - val_mean_absolute_error: 2.2789\n",
            "Epoch 124/200\n",
            " - 0s - loss: 3.9169 - mean_absolute_error: 1.3388 - val_loss: 9.2117 - val_mean_absolute_error: 2.0113\n",
            "Epoch 125/200\n",
            " - 0s - loss: 4.6560 - mean_absolute_error: 1.4312 - val_loss: 10.1400 - val_mean_absolute_error: 2.0214\n",
            "Epoch 126/200\n",
            " - 0s - loss: 4.2250 - mean_absolute_error: 1.3879 - val_loss: 9.9400 - val_mean_absolute_error: 2.2088\n",
            "Epoch 127/200\n",
            " - 0s - loss: 4.5095 - mean_absolute_error: 1.4231 - val_loss: 9.5790 - val_mean_absolute_error: 2.2564\n",
            "Epoch 128/200\n",
            " - 0s - loss: 4.2090 - mean_absolute_error: 1.3637 - val_loss: 11.6778 - val_mean_absolute_error: 2.3379\n",
            "Epoch 129/200\n",
            " - 0s - loss: 3.9448 - mean_absolute_error: 1.3322 - val_loss: 9.0812 - val_mean_absolute_error: 2.1389\n",
            "Epoch 130/200\n",
            " - 0s - loss: 3.8486 - mean_absolute_error: 1.3452 - val_loss: 9.5153 - val_mean_absolute_error: 2.0642\n",
            "Epoch 131/200\n",
            " - 0s - loss: 4.2285 - mean_absolute_error: 1.2984 - val_loss: 9.2696 - val_mean_absolute_error: 2.1372\n",
            "Epoch 132/200\n",
            " - 0s - loss: 3.9872 - mean_absolute_error: 1.3247 - val_loss: 9.2392 - val_mean_absolute_error: 2.1373\n",
            "Epoch 133/200\n",
            " - 0s - loss: 4.1135 - mean_absolute_error: 1.3691 - val_loss: 9.3686 - val_mean_absolute_error: 2.1441\n",
            "Epoch 134/200\n",
            " - 0s - loss: 4.3145 - mean_absolute_error: 1.3673 - val_loss: 9.4302 - val_mean_absolute_error: 2.1616\n",
            "Epoch 135/200\n",
            " - 0s - loss: 3.8700 - mean_absolute_error: 1.3488 - val_loss: 13.2080 - val_mean_absolute_error: 2.7845\n",
            "Epoch 136/200\n",
            " - 0s - loss: 4.0392 - mean_absolute_error: 1.3575 - val_loss: 10.5660 - val_mean_absolute_error: 2.1343\n",
            "Epoch 137/200\n",
            " - 0s - loss: 3.9640 - mean_absolute_error: 1.3728 - val_loss: 9.4576 - val_mean_absolute_error: 2.2202\n",
            "Epoch 138/200\n",
            " - 0s - loss: 3.9690 - mean_absolute_error: 1.3328 - val_loss: 10.4314 - val_mean_absolute_error: 2.3173\n",
            "Epoch 139/200\n",
            " - 0s - loss: 4.0691 - mean_absolute_error: 1.3711 - val_loss: 9.4132 - val_mean_absolute_error: 2.0312\n",
            "Epoch 140/200\n",
            " - 0s - loss: 3.6671 - mean_absolute_error: 1.3150 - val_loss: 9.6296 - val_mean_absolute_error: 2.2078\n",
            "Epoch 141/200\n",
            " - 0s - loss: 3.5341 - mean_absolute_error: 1.3185 - val_loss: 12.2047 - val_mean_absolute_error: 2.3632\n",
            "Epoch 142/200\n",
            " - 0s - loss: 3.8708 - mean_absolute_error: 1.3624 - val_loss: 11.0178 - val_mean_absolute_error: 2.4133\n",
            "Epoch 143/200\n",
            " - 0s - loss: 3.8753 - mean_absolute_error: 1.3283 - val_loss: 9.2637 - val_mean_absolute_error: 2.0735\n",
            "Epoch 144/200\n",
            " - 0s - loss: 3.9969 - mean_absolute_error: 1.3411 - val_loss: 10.1702 - val_mean_absolute_error: 2.1452\n",
            "Epoch 145/200\n",
            " - 0s - loss: 3.6913 - mean_absolute_error: 1.2890 - val_loss: 10.6020 - val_mean_absolute_error: 2.3967\n",
            "Epoch 146/200\n",
            " - 0s - loss: 3.5711 - mean_absolute_error: 1.2717 - val_loss: 9.9353 - val_mean_absolute_error: 2.2641\n",
            "Epoch 147/200\n",
            " - 0s - loss: 3.4842 - mean_absolute_error: 1.2640 - val_loss: 10.7755 - val_mean_absolute_error: 2.4333\n",
            "Epoch 148/200\n",
            " - 0s - loss: 4.0691 - mean_absolute_error: 1.3346 - val_loss: 9.8568 - val_mean_absolute_error: 2.0766\n",
            "Epoch 149/200\n",
            " - 0s - loss: 3.8696 - mean_absolute_error: 1.3319 - val_loss: 9.5707 - val_mean_absolute_error: 2.3133\n",
            "Epoch 150/200\n",
            " - 0s - loss: 3.6370 - mean_absolute_error: 1.2965 - val_loss: 9.8508 - val_mean_absolute_error: 2.1200\n",
            "Epoch 151/200\n",
            " - 0s - loss: 3.9756 - mean_absolute_error: 1.3465 - val_loss: 10.2703 - val_mean_absolute_error: 2.3906\n",
            "Epoch 152/200\n",
            " - 0s - loss: 3.4011 - mean_absolute_error: 1.2659 - val_loss: 9.5265 - val_mean_absolute_error: 2.0754\n",
            "Epoch 153/200\n",
            " - 0s - loss: 3.7972 - mean_absolute_error: 1.2640 - val_loss: 11.4479 - val_mean_absolute_error: 2.4009\n",
            "Epoch 154/200\n",
            " - 0s - loss: 3.3310 - mean_absolute_error: 1.2763 - val_loss: 11.0839 - val_mean_absolute_error: 2.3469\n",
            "Epoch 155/200\n",
            " - 0s - loss: 3.7916 - mean_absolute_error: 1.3144 - val_loss: 11.1789 - val_mean_absolute_error: 2.2261\n",
            "Epoch 156/200\n",
            " - 0s - loss: 3.6814 - mean_absolute_error: 1.3052 - val_loss: 9.0660 - val_mean_absolute_error: 2.2030\n",
            "Epoch 157/200\n",
            " - 0s - loss: 3.5933 - mean_absolute_error: 1.2618 - val_loss: 9.2066 - val_mean_absolute_error: 2.0626\n",
            "Epoch 158/200\n",
            " - 0s - loss: 3.5201 - mean_absolute_error: 1.2365 - val_loss: 9.6165 - val_mean_absolute_error: 2.2678\n",
            "Epoch 159/200\n",
            " - 0s - loss: 3.5256 - mean_absolute_error: 1.2897 - val_loss: 10.8240 - val_mean_absolute_error: 2.4167\n",
            "Epoch 160/200\n",
            " - 0s - loss: 3.7818 - mean_absolute_error: 1.2864 - val_loss: 10.7095 - val_mean_absolute_error: 2.4077\n",
            "Epoch 161/200\n",
            " - 0s - loss: 3.3327 - mean_absolute_error: 1.2739 - val_loss: 10.0426 - val_mean_absolute_error: 2.1932\n",
            "Epoch 162/200\n",
            " - 0s - loss: 3.6731 - mean_absolute_error: 1.2598 - val_loss: 9.9828 - val_mean_absolute_error: 2.0778\n",
            "Epoch 163/200\n",
            " - 0s - loss: 3.3428 - mean_absolute_error: 1.2431 - val_loss: 10.0896 - val_mean_absolute_error: 2.2281\n",
            "Epoch 164/200\n",
            " - 0s - loss: 3.3587 - mean_absolute_error: 1.2451 - val_loss: 10.5174 - val_mean_absolute_error: 2.3381\n",
            "Epoch 165/200\n",
            " - 0s - loss: 3.3806 - mean_absolute_error: 1.2664 - val_loss: 9.4945 - val_mean_absolute_error: 2.2361\n",
            "Epoch 166/200\n",
            " - 0s - loss: 3.1048 - mean_absolute_error: 1.2446 - val_loss: 13.0887 - val_mean_absolute_error: 2.3999\n",
            "Epoch 167/200\n",
            " - 0s - loss: 3.2327 - mean_absolute_error: 1.2407 - val_loss: 11.2293 - val_mean_absolute_error: 2.4180\n",
            "Epoch 168/200\n",
            " - 0s - loss: 3.1432 - mean_absolute_error: 1.2191 - val_loss: 11.1353 - val_mean_absolute_error: 2.3509\n",
            "Epoch 169/200\n",
            " - 0s - loss: 3.0837 - mean_absolute_error: 1.2317 - val_loss: 9.7231 - val_mean_absolute_error: 2.2061\n",
            "Epoch 170/200\n",
            " - 0s - loss: 3.5616 - mean_absolute_error: 1.2161 - val_loss: 9.5950 - val_mean_absolute_error: 2.1297\n",
            "Epoch 171/200\n",
            " - 0s - loss: 3.2235 - mean_absolute_error: 1.1515 - val_loss: 12.1030 - val_mean_absolute_error: 2.4740\n",
            "Epoch 172/200\n",
            " - 0s - loss: 3.3428 - mean_absolute_error: 1.2381 - val_loss: 10.2916 - val_mean_absolute_error: 2.2888\n",
            "Epoch 173/200\n",
            " - 0s - loss: 2.9282 - mean_absolute_error: 1.1630 - val_loss: 15.2790 - val_mean_absolute_error: 2.9288\n",
            "Epoch 174/200\n",
            " - 0s - loss: 2.9836 - mean_absolute_error: 1.2128 - val_loss: 11.5060 - val_mean_absolute_error: 2.4302\n",
            "Epoch 175/200\n",
            " - 0s - loss: 3.1099 - mean_absolute_error: 1.1474 - val_loss: 11.7688 - val_mean_absolute_error: 2.3259\n",
            "Epoch 176/200\n",
            " - 0s - loss: 3.4549 - mean_absolute_error: 1.2805 - val_loss: 11.7991 - val_mean_absolute_error: 2.4744\n",
            "Epoch 177/200\n",
            " - 0s - loss: 3.0868 - mean_absolute_error: 1.2035 - val_loss: 9.7844 - val_mean_absolute_error: 2.0774\n",
            "Epoch 178/200\n",
            " - 0s - loss: 3.2247 - mean_absolute_error: 1.2403 - val_loss: 9.6722 - val_mean_absolute_error: 2.2595\n",
            "Epoch 179/200\n",
            " - 0s - loss: 3.2256 - mean_absolute_error: 1.2077 - val_loss: 11.9476 - val_mean_absolute_error: 2.3347\n",
            "Epoch 180/200\n",
            " - 0s - loss: 2.9941 - mean_absolute_error: 1.1878 - val_loss: 9.3455 - val_mean_absolute_error: 2.1574\n",
            "Epoch 181/200\n",
            " - 0s - loss: 2.9580 - mean_absolute_error: 1.1890 - val_loss: 11.8449 - val_mean_absolute_error: 2.2658\n",
            "Epoch 182/200\n",
            " - 0s - loss: 2.9975 - mean_absolute_error: 1.1766 - val_loss: 13.3651 - val_mean_absolute_error: 2.6738\n",
            "Epoch 183/200\n",
            " - 0s - loss: 2.8593 - mean_absolute_error: 1.2010 - val_loss: 13.2545 - val_mean_absolute_error: 2.5038\n",
            "Epoch 184/200\n",
            " - 0s - loss: 2.9584 - mean_absolute_error: 1.1483 - val_loss: 11.4424 - val_mean_absolute_error: 2.4948\n",
            "Epoch 185/200\n",
            " - 0s - loss: 2.9338 - mean_absolute_error: 1.1923 - val_loss: 11.5817 - val_mean_absolute_error: 2.3865\n",
            "Epoch 186/200\n",
            " - 0s - loss: 3.0870 - mean_absolute_error: 1.1936 - val_loss: 9.6903 - val_mean_absolute_error: 2.0702\n",
            "Epoch 187/200\n",
            " - 0s - loss: 3.0976 - mean_absolute_error: 1.1634 - val_loss: 11.3597 - val_mean_absolute_error: 2.2233\n",
            "Epoch 188/200\n",
            " - 0s - loss: 2.8376 - mean_absolute_error: 1.2014 - val_loss: 10.7129 - val_mean_absolute_error: 2.2740\n",
            "Epoch 189/200\n",
            " - 0s - loss: 3.1805 - mean_absolute_error: 1.1832 - val_loss: 10.9815 - val_mean_absolute_error: 2.1811\n",
            "Epoch 190/200\n",
            " - 0s - loss: 2.9644 - mean_absolute_error: 1.1457 - val_loss: 9.8885 - val_mean_absolute_error: 2.1337\n",
            "Epoch 191/200\n",
            " - 0s - loss: 2.6896 - mean_absolute_error: 1.1579 - val_loss: 10.1800 - val_mean_absolute_error: 2.1153\n",
            "Epoch 192/200\n",
            " - 0s - loss: 2.7603 - mean_absolute_error: 1.1948 - val_loss: 10.4508 - val_mean_absolute_error: 2.2238\n",
            "Epoch 193/200\n",
            " - 0s - loss: 2.9424 - mean_absolute_error: 1.1640 - val_loss: 10.6951 - val_mean_absolute_error: 2.3303\n",
            "Epoch 194/200\n",
            " - 0s - loss: 2.9511 - mean_absolute_error: 1.1416 - val_loss: 9.6210 - val_mean_absolute_error: 2.2360\n",
            "Epoch 195/200\n",
            " - 0s - loss: 2.4248 - mean_absolute_error: 1.1234 - val_loss: 11.2682 - val_mean_absolute_error: 2.3969\n",
            "Epoch 196/200\n",
            " - 0s - loss: 2.6674 - mean_absolute_error: 1.1044 - val_loss: 11.7847 - val_mean_absolute_error: 2.4428\n",
            "Epoch 197/200\n",
            " - 0s - loss: 2.8614 - mean_absolute_error: 1.1371 - val_loss: 10.9172 - val_mean_absolute_error: 2.2549\n",
            "Epoch 198/200\n",
            " - 0s - loss: 2.8880 - mean_absolute_error: 1.1596 - val_loss: 9.7933 - val_mean_absolute_error: 2.1951\n",
            "Epoch 199/200\n",
            " - 0s - loss: 2.8967 - mean_absolute_error: 1.1632 - val_loss: 10.5387 - val_mean_absolute_error: 2.3004\n",
            "Epoch 200/200\n",
            " - 0s - loss: 2.5529 - mean_absolute_error: 1.1018 - val_loss: 12.1169 - val_mean_absolute_error: 2.4402\n",
            "processing fold # 1\n",
            "Train on 303 samples, validate on 101 samples\n",
            "Epoch 1/200\n",
            " - 1s - loss: 234.6643 - mean_absolute_error: 11.6811 - val_loss: 37.4693 - val_mean_absolute_error: 4.5111\n",
            "Epoch 2/200\n",
            " - 0s - loss: 31.1004 - mean_absolute_error: 3.7635 - val_loss: 23.0331 - val_mean_absolute_error: 3.5980\n",
            "Epoch 3/200\n",
            " - 0s - loss: 20.3777 - mean_absolute_error: 3.0168 - val_loss: 21.6401 - val_mean_absolute_error: 3.3776\n",
            "Epoch 4/200\n",
            " - 0s - loss: 16.2303 - mean_absolute_error: 2.6457 - val_loss: 14.8027 - val_mean_absolute_error: 2.7731\n",
            "Epoch 5/200\n",
            " - 0s - loss: 14.6163 - mean_absolute_error: 2.5348 - val_loss: 14.7986 - val_mean_absolute_error: 2.8871\n",
            "Epoch 6/200\n",
            " - 0s - loss: 13.0567 - mean_absolute_error: 2.4022 - val_loss: 12.9393 - val_mean_absolute_error: 2.6865\n",
            "Epoch 7/200\n",
            " - 0s - loss: 12.6655 - mean_absolute_error: 2.3373 - val_loss: 15.6592 - val_mean_absolute_error: 3.1028\n",
            "Epoch 8/200\n",
            " - 0s - loss: 11.4223 - mean_absolute_error: 2.2806 - val_loss: 15.5557 - val_mean_absolute_error: 3.0754\n",
            "Epoch 9/200\n",
            " - 0s - loss: 11.7566 - mean_absolute_error: 2.2308 - val_loss: 11.8356 - val_mean_absolute_error: 2.6341\n",
            "Epoch 10/200\n",
            " - 0s - loss: 11.2676 - mean_absolute_error: 2.1920 - val_loss: 10.9079 - val_mean_absolute_error: 2.5650\n",
            "Epoch 11/200\n",
            " - 0s - loss: 11.1765 - mean_absolute_error: 2.1725 - val_loss: 10.6423 - val_mean_absolute_error: 2.5069\n",
            "Epoch 12/200\n",
            " - 0s - loss: 10.6728 - mean_absolute_error: 2.1167 - val_loss: 12.1010 - val_mean_absolute_error: 2.7251\n",
            "Epoch 13/200\n",
            " - 0s - loss: 10.3460 - mean_absolute_error: 2.0936 - val_loss: 11.0548 - val_mean_absolute_error: 2.6246\n",
            "Epoch 14/200\n",
            " - 0s - loss: 10.2861 - mean_absolute_error: 2.0286 - val_loss: 13.4347 - val_mean_absolute_error: 2.8683\n",
            "Epoch 15/200\n",
            " - 0s - loss: 9.4214 - mean_absolute_error: 2.0992 - val_loss: 9.8583 - val_mean_absolute_error: 2.4504\n",
            "Epoch 16/200\n",
            " - 0s - loss: 9.3289 - mean_absolute_error: 2.0076 - val_loss: 10.3830 - val_mean_absolute_error: 2.5249\n",
            "Epoch 17/200\n",
            " - 0s - loss: 9.9106 - mean_absolute_error: 1.9897 - val_loss: 11.5370 - val_mean_absolute_error: 2.6483\n",
            "Epoch 18/200\n",
            " - 0s - loss: 8.7059 - mean_absolute_error: 2.0097 - val_loss: 10.1024 - val_mean_absolute_error: 2.4592\n",
            "Epoch 19/200\n",
            " - 0s - loss: 9.5033 - mean_absolute_error: 2.0124 - val_loss: 10.1812 - val_mean_absolute_error: 2.5248\n",
            "Epoch 20/200\n",
            " - 0s - loss: 8.8380 - mean_absolute_error: 1.9714 - val_loss: 8.8151 - val_mean_absolute_error: 2.3085\n",
            "Epoch 21/200\n",
            " - 0s - loss: 9.5102 - mean_absolute_error: 1.9173 - val_loss: 9.3567 - val_mean_absolute_error: 2.3940\n",
            "Epoch 22/200\n",
            " - 0s - loss: 8.8815 - mean_absolute_error: 1.9404 - val_loss: 9.8333 - val_mean_absolute_error: 2.4093\n",
            "Epoch 23/200\n",
            " - 0s - loss: 8.5032 - mean_absolute_error: 1.8754 - val_loss: 9.4182 - val_mean_absolute_error: 2.3514\n",
            "Epoch 24/200\n",
            " - 0s - loss: 8.4757 - mean_absolute_error: 1.8836 - val_loss: 9.2620 - val_mean_absolute_error: 2.3736\n",
            "Epoch 25/200\n",
            " - 0s - loss: 8.0573 - mean_absolute_error: 1.8587 - val_loss: 9.4388 - val_mean_absolute_error: 2.4176\n",
            "Epoch 26/200\n",
            " - 0s - loss: 8.8350 - mean_absolute_error: 1.8953 - val_loss: 10.5129 - val_mean_absolute_error: 2.4951\n",
            "Epoch 27/200\n",
            " - 0s - loss: 8.6853 - mean_absolute_error: 1.8572 - val_loss: 9.7695 - val_mean_absolute_error: 2.4087\n",
            "Epoch 28/200\n",
            " - 0s - loss: 8.2960 - mean_absolute_error: 1.8129 - val_loss: 10.6592 - val_mean_absolute_error: 2.5936\n",
            "Epoch 29/200\n",
            " - 0s - loss: 8.1933 - mean_absolute_error: 1.7924 - val_loss: 10.0792 - val_mean_absolute_error: 2.5119\n",
            "Epoch 30/200\n",
            " - 0s - loss: 7.7663 - mean_absolute_error: 1.8196 - val_loss: 8.7537 - val_mean_absolute_error: 2.2715\n",
            "Epoch 31/200\n",
            " - 0s - loss: 7.9182 - mean_absolute_error: 1.7880 - val_loss: 8.2925 - val_mean_absolute_error: 2.2245\n",
            "Epoch 32/200\n",
            " - 0s - loss: 7.5040 - mean_absolute_error: 1.7856 - val_loss: 9.1900 - val_mean_absolute_error: 2.3295\n",
            "Epoch 33/200\n",
            " - 0s - loss: 8.0247 - mean_absolute_error: 1.7384 - val_loss: 7.7562 - val_mean_absolute_error: 2.1353\n",
            "Epoch 34/200\n",
            " - 0s - loss: 8.0527 - mean_absolute_error: 1.7777 - val_loss: 8.3271 - val_mean_absolute_error: 2.2598\n",
            "Epoch 35/200\n",
            " - 0s - loss: 7.4044 - mean_absolute_error: 1.7747 - val_loss: 9.2260 - val_mean_absolute_error: 2.3912\n",
            "Epoch 36/200\n",
            " - 0s - loss: 7.4674 - mean_absolute_error: 1.7687 - val_loss: 8.0193 - val_mean_absolute_error: 2.1933\n",
            "Epoch 37/200\n",
            " - 0s - loss: 7.3932 - mean_absolute_error: 1.7500 - val_loss: 12.4746 - val_mean_absolute_error: 2.8407\n",
            "Epoch 38/200\n",
            " - 0s - loss: 7.3837 - mean_absolute_error: 1.7680 - val_loss: 7.6525 - val_mean_absolute_error: 2.1633\n",
            "Epoch 39/200\n",
            " - 0s - loss: 6.9193 - mean_absolute_error: 1.7253 - val_loss: 8.0112 - val_mean_absolute_error: 2.2105\n",
            "Epoch 40/200\n",
            " - 0s - loss: 7.1940 - mean_absolute_error: 1.7135 - val_loss: 8.1619 - val_mean_absolute_error: 2.2454\n",
            "Epoch 41/200\n",
            " - 0s - loss: 7.1016 - mean_absolute_error: 1.6742 - val_loss: 7.3778 - val_mean_absolute_error: 2.0751\n",
            "Epoch 42/200\n",
            " - 0s - loss: 6.9470 - mean_absolute_error: 1.6894 - val_loss: 8.2814 - val_mean_absolute_error: 2.2402\n",
            "Epoch 43/200\n",
            " - 0s - loss: 6.6392 - mean_absolute_error: 1.6638 - val_loss: 7.2137 - val_mean_absolute_error: 2.1010\n",
            "Epoch 44/200\n",
            " - 0s - loss: 6.5314 - mean_absolute_error: 1.6606 - val_loss: 9.2427 - val_mean_absolute_error: 2.4251\n",
            "Epoch 45/200\n",
            " - 0s - loss: 6.4571 - mean_absolute_error: 1.6444 - val_loss: 9.4283 - val_mean_absolute_error: 2.4024\n",
            "Epoch 46/200\n",
            " - 0s - loss: 6.4626 - mean_absolute_error: 1.6579 - val_loss: 8.0819 - val_mean_absolute_error: 2.2148\n",
            "Epoch 47/200\n",
            " - 0s - loss: 6.5140 - mean_absolute_error: 1.6148 - val_loss: 8.1341 - val_mean_absolute_error: 2.2338\n",
            "Epoch 48/200\n",
            " - 0s - loss: 6.0013 - mean_absolute_error: 1.6056 - val_loss: 7.2833 - val_mean_absolute_error: 2.0576\n",
            "Epoch 49/200\n",
            " - 0s - loss: 6.1551 - mean_absolute_error: 1.5979 - val_loss: 7.4386 - val_mean_absolute_error: 2.1279\n",
            "Epoch 50/200\n",
            " - 0s - loss: 5.7113 - mean_absolute_error: 1.5868 - val_loss: 8.0600 - val_mean_absolute_error: 2.2230\n",
            "Epoch 51/200\n",
            " - 0s - loss: 6.0779 - mean_absolute_error: 1.6003 - val_loss: 8.2968 - val_mean_absolute_error: 2.2133\n",
            "Epoch 52/200\n",
            " - 0s - loss: 6.3540 - mean_absolute_error: 1.5555 - val_loss: 8.3064 - val_mean_absolute_error: 2.1787\n",
            "Epoch 53/200\n",
            " - 0s - loss: 6.1823 - mean_absolute_error: 1.5729 - val_loss: 7.3028 - val_mean_absolute_error: 2.1049\n",
            "Epoch 54/200\n",
            " - 0s - loss: 5.6367 - mean_absolute_error: 1.5523 - val_loss: 6.8663 - val_mean_absolute_error: 1.9926\n",
            "Epoch 55/200\n",
            " - 0s - loss: 5.8159 - mean_absolute_error: 1.6056 - val_loss: 7.1234 - val_mean_absolute_error: 2.0597\n",
            "Epoch 56/200\n",
            " - 0s - loss: 5.6134 - mean_absolute_error: 1.5448 - val_loss: 8.6060 - val_mean_absolute_error: 2.2686\n",
            "Epoch 57/200\n",
            " - 0s - loss: 5.1254 - mean_absolute_error: 1.5424 - val_loss: 7.4501 - val_mean_absolute_error: 2.1970\n",
            "Epoch 58/200\n",
            " - 0s - loss: 5.6460 - mean_absolute_error: 1.5417 - val_loss: 6.2900 - val_mean_absolute_error: 1.9266\n",
            "Epoch 59/200\n",
            " - 0s - loss: 5.3245 - mean_absolute_error: 1.4965 - val_loss: 8.4066 - val_mean_absolute_error: 2.2202\n",
            "Epoch 60/200\n",
            " - 0s - loss: 5.3138 - mean_absolute_error: 1.4948 - val_loss: 10.7566 - val_mean_absolute_error: 2.5446\n",
            "Epoch 61/200\n",
            " - 0s - loss: 5.1595 - mean_absolute_error: 1.4996 - val_loss: 6.2597 - val_mean_absolute_error: 1.8708\n",
            "Epoch 62/200\n",
            " - 0s - loss: 5.2615 - mean_absolute_error: 1.4715 - val_loss: 6.8942 - val_mean_absolute_error: 1.9886\n",
            "Epoch 63/200\n",
            " - 0s - loss: 5.2989 - mean_absolute_error: 1.4857 - val_loss: 9.4386 - val_mean_absolute_error: 2.3904\n",
            "Epoch 64/200\n",
            " - 0s - loss: 5.1243 - mean_absolute_error: 1.4884 - val_loss: 9.5546 - val_mean_absolute_error: 2.3928\n",
            "Epoch 65/200\n",
            " - 0s - loss: 5.0551 - mean_absolute_error: 1.5110 - val_loss: 6.9225 - val_mean_absolute_error: 2.0289\n",
            "Epoch 66/200\n",
            " - 0s - loss: 5.2650 - mean_absolute_error: 1.4870 - val_loss: 8.0010 - val_mean_absolute_error: 2.2199\n",
            "Epoch 67/200\n",
            " - 0s - loss: 4.3371 - mean_absolute_error: 1.3838 - val_loss: 6.3484 - val_mean_absolute_error: 1.9400\n",
            "Epoch 68/200\n",
            " - 0s - loss: 4.7332 - mean_absolute_error: 1.4908 - val_loss: 8.2513 - val_mean_absolute_error: 2.2381\n",
            "Epoch 69/200\n",
            " - 0s - loss: 4.9224 - mean_absolute_error: 1.4416 - val_loss: 9.3147 - val_mean_absolute_error: 2.3789\n",
            "Epoch 70/200\n",
            " - 0s - loss: 4.7787 - mean_absolute_error: 1.4517 - val_loss: 10.4865 - val_mean_absolute_error: 2.5702\n",
            "Epoch 71/200\n",
            " - 0s - loss: 4.5005 - mean_absolute_error: 1.4416 - val_loss: 11.4547 - val_mean_absolute_error: 2.6240\n",
            "Epoch 72/200\n",
            " - 0s - loss: 4.6756 - mean_absolute_error: 1.4033 - val_loss: 8.1919 - val_mean_absolute_error: 2.1817\n",
            "Epoch 73/200\n",
            " - 0s - loss: 4.3566 - mean_absolute_error: 1.3821 - val_loss: 6.7078 - val_mean_absolute_error: 1.9411\n",
            "Epoch 74/200\n",
            " - 0s - loss: 4.4176 - mean_absolute_error: 1.3848 - val_loss: 7.6952 - val_mean_absolute_error: 2.1468\n",
            "Epoch 75/200\n",
            " - 0s - loss: 4.1433 - mean_absolute_error: 1.3765 - val_loss: 10.0870 - val_mean_absolute_error: 2.4298\n",
            "Epoch 76/200\n",
            " - 0s - loss: 4.0545 - mean_absolute_error: 1.3958 - val_loss: 6.7781 - val_mean_absolute_error: 1.9636\n",
            "Epoch 77/200\n",
            " - 0s - loss: 4.0001 - mean_absolute_error: 1.3744 - val_loss: 8.6334 - val_mean_absolute_error: 2.2333\n",
            "Epoch 78/200\n",
            " - 0s - loss: 3.8426 - mean_absolute_error: 1.4201 - val_loss: 7.0749 - val_mean_absolute_error: 2.0449\n",
            "Epoch 79/200\n",
            " - 0s - loss: 4.1988 - mean_absolute_error: 1.3700 - val_loss: 7.8868 - val_mean_absolute_error: 2.1921\n",
            "Epoch 80/200\n",
            " - 0s - loss: 3.8884 - mean_absolute_error: 1.3228 - val_loss: 8.6540 - val_mean_absolute_error: 2.1924\n",
            "Epoch 81/200\n",
            " - 0s - loss: 3.9459 - mean_absolute_error: 1.3956 - val_loss: 8.4920 - val_mean_absolute_error: 2.2164\n",
            "Epoch 82/200\n",
            " - 0s - loss: 3.8570 - mean_absolute_error: 1.2709 - val_loss: 13.7731 - val_mean_absolute_error: 2.7711\n",
            "Epoch 83/200\n",
            " - 0s - loss: 4.1406 - mean_absolute_error: 1.3245 - val_loss: 10.5187 - val_mean_absolute_error: 2.5148\n",
            "Epoch 84/200\n",
            " - 0s - loss: 3.7945 - mean_absolute_error: 1.3192 - val_loss: 10.2643 - val_mean_absolute_error: 2.4469\n",
            "Epoch 85/200\n",
            " - 0s - loss: 4.0082 - mean_absolute_error: 1.3223 - val_loss: 9.3050 - val_mean_absolute_error: 2.2877\n",
            "Epoch 86/200\n",
            " - 0s - loss: 3.8703 - mean_absolute_error: 1.3116 - val_loss: 10.5001 - val_mean_absolute_error: 2.5189\n",
            "Epoch 87/200\n",
            " - 0s - loss: 3.6312 - mean_absolute_error: 1.2654 - val_loss: 9.3451 - val_mean_absolute_error: 2.3528\n",
            "Epoch 88/200\n",
            " - 0s - loss: 3.7770 - mean_absolute_error: 1.3378 - val_loss: 10.6010 - val_mean_absolute_error: 2.5137\n",
            "Epoch 89/200\n",
            " - 0s - loss: 3.7637 - mean_absolute_error: 1.3176 - val_loss: 9.4717 - val_mean_absolute_error: 2.3919\n",
            "Epoch 90/200\n",
            " - 0s - loss: 3.6333 - mean_absolute_error: 1.3169 - val_loss: 8.2484 - val_mean_absolute_error: 2.2204\n",
            "Epoch 91/200\n",
            " - 0s - loss: 3.4848 - mean_absolute_error: 1.2689 - val_loss: 8.8203 - val_mean_absolute_error: 2.3033\n",
            "Epoch 92/200\n",
            " - 0s - loss: 3.8361 - mean_absolute_error: 1.2979 - val_loss: 7.1723 - val_mean_absolute_error: 2.0818\n",
            "Epoch 93/200\n",
            " - 0s - loss: 3.2281 - mean_absolute_error: 1.1909 - val_loss: 10.1125 - val_mean_absolute_error: 2.4213\n",
            "Epoch 94/200\n",
            " - 0s - loss: 3.2945 - mean_absolute_error: 1.2589 - val_loss: 7.7312 - val_mean_absolute_error: 2.1555\n",
            "Epoch 95/200\n",
            " - 0s - loss: 3.4399 - mean_absolute_error: 1.2910 - val_loss: 9.1062 - val_mean_absolute_error: 2.2888\n",
            "Epoch 96/200\n",
            " - 0s - loss: 3.4014 - mean_absolute_error: 1.2965 - val_loss: 8.8935 - val_mean_absolute_error: 2.2285\n",
            "Epoch 97/200\n",
            " - 0s - loss: 3.3155 - mean_absolute_error: 1.2485 - val_loss: 11.4889 - val_mean_absolute_error: 2.5819\n",
            "Epoch 98/200\n",
            " - 0s - loss: 3.2996 - mean_absolute_error: 1.2174 - val_loss: 9.4298 - val_mean_absolute_error: 2.3113\n",
            "Epoch 99/200\n",
            " - 0s - loss: 3.2330 - mean_absolute_error: 1.2138 - val_loss: 11.3335 - val_mean_absolute_error: 2.5271\n",
            "Epoch 100/200\n",
            " - 0s - loss: 3.0921 - mean_absolute_error: 1.1995 - val_loss: 10.4004 - val_mean_absolute_error: 2.6067\n",
            "Epoch 101/200\n",
            " - 0s - loss: 3.1775 - mean_absolute_error: 1.2358 - val_loss: 12.5016 - val_mean_absolute_error: 2.4940\n",
            "Epoch 102/200\n",
            " - 0s - loss: 3.2241 - mean_absolute_error: 1.2026 - val_loss: 11.3431 - val_mean_absolute_error: 2.4916\n",
            "Epoch 103/200\n",
            " - 0s - loss: 3.2174 - mean_absolute_error: 1.2142 - val_loss: 8.7873 - val_mean_absolute_error: 2.2398\n",
            "Epoch 104/200\n",
            " - 0s - loss: 3.1361 - mean_absolute_error: 1.2525 - val_loss: 11.3747 - val_mean_absolute_error: 2.4855\n",
            "Epoch 105/200\n",
            " - 0s - loss: 3.0384 - mean_absolute_error: 1.2092 - val_loss: 10.8444 - val_mean_absolute_error: 2.4227\n",
            "Epoch 106/200\n",
            " - 0s - loss: 2.6649 - mean_absolute_error: 1.1373 - val_loss: 8.5744 - val_mean_absolute_error: 2.1527\n",
            "Epoch 107/200\n",
            " - 0s - loss: 2.9400 - mean_absolute_error: 1.2089 - val_loss: 9.9482 - val_mean_absolute_error: 2.2933\n",
            "Epoch 108/200\n",
            " - 0s - loss: 3.2191 - mean_absolute_error: 1.2556 - val_loss: 11.8204 - val_mean_absolute_error: 2.6083\n",
            "Epoch 109/200\n",
            " - 0s - loss: 3.0840 - mean_absolute_error: 1.2088 - val_loss: 11.6030 - val_mean_absolute_error: 2.4848\n",
            "Epoch 110/200\n",
            " - 0s - loss: 3.1238 - mean_absolute_error: 1.1984 - val_loss: 13.5905 - val_mean_absolute_error: 2.6808\n",
            "Epoch 111/200\n",
            " - 0s - loss: 2.7564 - mean_absolute_error: 1.1859 - val_loss: 9.8341 - val_mean_absolute_error: 2.3356\n",
            "Epoch 112/200\n",
            " - 0s - loss: 2.8244 - mean_absolute_error: 1.1564 - val_loss: 12.4639 - val_mean_absolute_error: 2.6087\n",
            "Epoch 113/200\n",
            " - 0s - loss: 2.9626 - mean_absolute_error: 1.2223 - val_loss: 9.2505 - val_mean_absolute_error: 2.2215\n",
            "Epoch 114/200\n",
            " - 0s - loss: 2.8212 - mean_absolute_error: 1.1697 - val_loss: 13.5046 - val_mean_absolute_error: 2.6773\n",
            "Epoch 115/200\n",
            " - 0s - loss: 2.8785 - mean_absolute_error: 1.1770 - val_loss: 10.9557 - val_mean_absolute_error: 2.3757\n",
            "Epoch 116/200\n",
            " - 0s - loss: 2.5966 - mean_absolute_error: 1.1389 - val_loss: 9.8944 - val_mean_absolute_error: 2.3464\n",
            "Epoch 117/200\n",
            " - 0s - loss: 2.6857 - mean_absolute_error: 1.1575 - val_loss: 9.4173 - val_mean_absolute_error: 2.3397\n",
            "Epoch 118/200\n",
            " - 0s - loss: 2.8286 - mean_absolute_error: 1.1709 - val_loss: 8.8542 - val_mean_absolute_error: 2.2040\n",
            "Epoch 119/200\n",
            " - 0s - loss: 2.5873 - mean_absolute_error: 1.1216 - val_loss: 10.4097 - val_mean_absolute_error: 2.3707\n",
            "Epoch 120/200\n",
            " - 0s - loss: 2.6267 - mean_absolute_error: 1.1586 - val_loss: 11.6832 - val_mean_absolute_error: 2.4962\n",
            "Epoch 121/200\n",
            " - 0s - loss: 2.4245 - mean_absolute_error: 1.0705 - val_loss: 12.9358 - val_mean_absolute_error: 2.5777\n",
            "Epoch 122/200\n",
            " - 0s - loss: 2.6412 - mean_absolute_error: 1.1395 - val_loss: 11.7728 - val_mean_absolute_error: 2.5183\n",
            "Epoch 123/200\n",
            " - 0s - loss: 2.4496 - mean_absolute_error: 1.0825 - val_loss: 12.8144 - val_mean_absolute_error: 2.7069\n",
            "Epoch 124/200\n",
            " - 0s - loss: 2.6934 - mean_absolute_error: 1.1325 - val_loss: 11.2872 - val_mean_absolute_error: 2.4968\n",
            "Epoch 125/200\n",
            " - 0s - loss: 2.2835 - mean_absolute_error: 1.0593 - val_loss: 12.0321 - val_mean_absolute_error: 2.5362\n",
            "Epoch 126/200\n",
            " - 0s - loss: 2.4082 - mean_absolute_error: 1.0914 - val_loss: 11.3693 - val_mean_absolute_error: 2.4557\n",
            "Epoch 127/200\n",
            " - 0s - loss: 2.5817 - mean_absolute_error: 1.1425 - val_loss: 13.9560 - val_mean_absolute_error: 2.6315\n",
            "Epoch 128/200\n",
            " - 0s - loss: 2.4763 - mean_absolute_error: 1.1427 - val_loss: 11.4994 - val_mean_absolute_error: 2.4678\n",
            "Epoch 129/200\n",
            " - 0s - loss: 2.5623 - mean_absolute_error: 1.1588 - val_loss: 13.0262 - val_mean_absolute_error: 2.5300\n",
            "Epoch 130/200\n",
            " - 0s - loss: 2.2476 - mean_absolute_error: 1.0722 - val_loss: 14.0316 - val_mean_absolute_error: 2.6750\n",
            "Epoch 131/200\n",
            " - 0s - loss: 2.2667 - mean_absolute_error: 1.0873 - val_loss: 14.7365 - val_mean_absolute_error: 2.6607\n",
            "Epoch 132/200\n",
            " - 0s - loss: 2.7137 - mean_absolute_error: 1.1507 - val_loss: 12.5443 - val_mean_absolute_error: 2.5390\n",
            "Epoch 133/200\n",
            " - 0s - loss: 2.2139 - mean_absolute_error: 1.0802 - val_loss: 13.6789 - val_mean_absolute_error: 2.8356\n",
            "Epoch 134/200\n",
            " - 0s - loss: 2.1984 - mean_absolute_error: 1.0802 - val_loss: 10.6641 - val_mean_absolute_error: 2.4247\n",
            "Epoch 135/200\n",
            " - 0s - loss: 2.3749 - mean_absolute_error: 1.1057 - val_loss: 13.9674 - val_mean_absolute_error: 2.6693\n",
            "Epoch 136/200\n",
            " - 0s - loss: 2.1290 - mean_absolute_error: 1.0513 - val_loss: 11.5586 - val_mean_absolute_error: 2.6282\n",
            "Epoch 137/200\n",
            " - 0s - loss: 2.1619 - mean_absolute_error: 1.0630 - val_loss: 10.4131 - val_mean_absolute_error: 2.4290\n",
            "Epoch 138/200\n",
            " - 0s - loss: 2.4216 - mean_absolute_error: 1.1149 - val_loss: 13.0098 - val_mean_absolute_error: 2.6868\n",
            "Epoch 139/200\n",
            " - 0s - loss: 2.1030 - mean_absolute_error: 1.0891 - val_loss: 11.1369 - val_mean_absolute_error: 2.4325\n",
            "Epoch 140/200\n",
            " - 0s - loss: 2.2493 - mean_absolute_error: 1.0649 - val_loss: 11.5799 - val_mean_absolute_error: 2.6811\n",
            "Epoch 141/200\n",
            " - 0s - loss: 2.0719 - mean_absolute_error: 1.0698 - val_loss: 15.0177 - val_mean_absolute_error: 2.6885\n",
            "Epoch 142/200\n",
            " - 0s - loss: 2.3393 - mean_absolute_error: 1.0868 - val_loss: 11.2194 - val_mean_absolute_error: 2.5008\n",
            "Epoch 143/200\n",
            " - 0s - loss: 2.1460 - mean_absolute_error: 1.0279 - val_loss: 11.6021 - val_mean_absolute_error: 2.6066\n",
            "Epoch 144/200\n",
            " - 0s - loss: 2.2564 - mean_absolute_error: 1.0544 - val_loss: 11.0189 - val_mean_absolute_error: 2.4554\n",
            "Epoch 145/200\n",
            " - 0s - loss: 2.1928 - mean_absolute_error: 1.0849 - val_loss: 9.9445 - val_mean_absolute_error: 2.3720\n",
            "Epoch 146/200\n",
            " - 0s - loss: 2.1759 - mean_absolute_error: 1.1104 - val_loss: 11.7756 - val_mean_absolute_error: 2.5922\n",
            "Epoch 147/200\n",
            " - 0s - loss: 2.3848 - mean_absolute_error: 1.0921 - val_loss: 13.2256 - val_mean_absolute_error: 2.8997\n",
            "Epoch 148/200\n",
            " - 0s - loss: 2.1886 - mean_absolute_error: 1.0333 - val_loss: 18.6094 - val_mean_absolute_error: 3.1864\n",
            "Epoch 149/200\n",
            " - 0s - loss: 2.1653 - mean_absolute_error: 1.0515 - val_loss: 11.5091 - val_mean_absolute_error: 2.4856\n",
            "Epoch 150/200\n",
            " - 0s - loss: 1.9270 - mean_absolute_error: 1.0170 - val_loss: 13.0320 - val_mean_absolute_error: 2.5744\n",
            "Epoch 151/200\n",
            " - 0s - loss: 1.8877 - mean_absolute_error: 1.0109 - val_loss: 10.8588 - val_mean_absolute_error: 2.3682\n",
            "Epoch 152/200\n",
            " - 0s - loss: 2.1244 - mean_absolute_error: 1.0368 - val_loss: 17.2867 - val_mean_absolute_error: 2.8838\n",
            "Epoch 153/200\n",
            " - 0s - loss: 1.8357 - mean_absolute_error: 1.0185 - val_loss: 12.2151 - val_mean_absolute_error: 2.6653\n",
            "Epoch 154/200\n",
            " - 0s - loss: 2.1148 - mean_absolute_error: 1.0823 - val_loss: 13.8631 - val_mean_absolute_error: 2.6694\n",
            "Epoch 155/200\n",
            " - 0s - loss: 2.1687 - mean_absolute_error: 1.0954 - val_loss: 11.0868 - val_mean_absolute_error: 2.5397\n",
            "Epoch 156/200\n",
            " - 0s - loss: 2.0728 - mean_absolute_error: 1.0114 - val_loss: 11.5273 - val_mean_absolute_error: 2.5047\n",
            "Epoch 157/200\n",
            " - 0s - loss: 2.0402 - mean_absolute_error: 0.9775 - val_loss: 15.5394 - val_mean_absolute_error: 2.7365\n",
            "Epoch 158/200\n",
            " - 0s - loss: 2.0004 - mean_absolute_error: 1.0400 - val_loss: 10.1647 - val_mean_absolute_error: 2.4436\n",
            "Epoch 159/200\n",
            " - 0s - loss: 1.6811 - mean_absolute_error: 0.9869 - val_loss: 15.5696 - val_mean_absolute_error: 2.9148\n",
            "Epoch 160/200\n",
            " - 0s - loss: 2.0040 - mean_absolute_error: 1.0447 - val_loss: 17.0253 - val_mean_absolute_error: 2.8851\n",
            "Epoch 161/200\n",
            " - 0s - loss: 1.7857 - mean_absolute_error: 0.9870 - val_loss: 11.0780 - val_mean_absolute_error: 2.5167\n",
            "Epoch 162/200\n",
            " - 0s - loss: 2.0032 - mean_absolute_error: 1.0499 - val_loss: 11.5891 - val_mean_absolute_error: 2.5277\n",
            "Epoch 163/200\n",
            " - 0s - loss: 2.1198 - mean_absolute_error: 1.0270 - val_loss: 14.5746 - val_mean_absolute_error: 2.6678\n",
            "Epoch 164/200\n",
            " - 0s - loss: 1.8703 - mean_absolute_error: 0.9929 - val_loss: 13.6438 - val_mean_absolute_error: 2.6289\n",
            "Epoch 165/200\n",
            " - 0s - loss: 2.0524 - mean_absolute_error: 1.0453 - val_loss: 16.3605 - val_mean_absolute_error: 2.7869\n",
            "Epoch 166/200\n",
            " - 0s - loss: 1.8413 - mean_absolute_error: 0.9758 - val_loss: 13.7439 - val_mean_absolute_error: 2.7160\n",
            "Epoch 167/200\n",
            " - 0s - loss: 1.8523 - mean_absolute_error: 0.9959 - val_loss: 18.5717 - val_mean_absolute_error: 2.8673\n",
            "Epoch 168/200\n",
            " - 0s - loss: 1.8933 - mean_absolute_error: 0.9989 - val_loss: 9.4346 - val_mean_absolute_error: 2.3306\n",
            "Epoch 169/200\n",
            " - 0s - loss: 1.7733 - mean_absolute_error: 0.9127 - val_loss: 14.7387 - val_mean_absolute_error: 2.9741\n",
            "Epoch 170/200\n",
            " - 0s - loss: 1.8513 - mean_absolute_error: 1.0151 - val_loss: 12.5941 - val_mean_absolute_error: 2.5913\n",
            "Epoch 171/200\n",
            " - 0s - loss: 1.8611 - mean_absolute_error: 0.9855 - val_loss: 12.2776 - val_mean_absolute_error: 2.5632\n",
            "Epoch 172/200\n",
            " - 0s - loss: 1.7615 - mean_absolute_error: 1.0022 - val_loss: 13.1480 - val_mean_absolute_error: 2.7468\n",
            "Epoch 173/200\n",
            " - 0s - loss: 1.9903 - mean_absolute_error: 1.0213 - val_loss: 12.0578 - val_mean_absolute_error: 2.5691\n",
            "Epoch 174/200\n",
            " - 0s - loss: 1.7495 - mean_absolute_error: 0.9575 - val_loss: 13.3907 - val_mean_absolute_error: 2.8274\n",
            "Epoch 175/200\n",
            " - 0s - loss: 1.9232 - mean_absolute_error: 1.0103 - val_loss: 13.5879 - val_mean_absolute_error: 2.6261\n",
            "Epoch 176/200\n",
            " - 0s - loss: 1.7780 - mean_absolute_error: 1.0097 - val_loss: 13.2390 - val_mean_absolute_error: 2.6073\n",
            "Epoch 177/200\n",
            " - 0s - loss: 1.7476 - mean_absolute_error: 0.9711 - val_loss: 11.0148 - val_mean_absolute_error: 2.3622\n",
            "Epoch 178/200\n",
            " - 0s - loss: 1.8761 - mean_absolute_error: 1.0041 - val_loss: 11.6901 - val_mean_absolute_error: 2.5164\n",
            "Epoch 179/200\n",
            " - 0s - loss: 1.7676 - mean_absolute_error: 0.9420 - val_loss: 14.6179 - val_mean_absolute_error: 2.7967\n",
            "Epoch 180/200\n",
            " - 0s - loss: 1.7799 - mean_absolute_error: 0.9915 - val_loss: 9.9790 - val_mean_absolute_error: 2.4002\n",
            "Epoch 181/200\n",
            " - 0s - loss: 1.7179 - mean_absolute_error: 0.9076 - val_loss: 11.1663 - val_mean_absolute_error: 2.4592\n",
            "Epoch 182/200\n",
            " - 0s - loss: 1.6991 - mean_absolute_error: 0.9281 - val_loss: 13.1661 - val_mean_absolute_error: 2.7457\n",
            "Epoch 183/200\n",
            " - 0s - loss: 1.6825 - mean_absolute_error: 0.9546 - val_loss: 16.6786 - val_mean_absolute_error: 2.9093\n",
            "Epoch 184/200\n",
            " - 0s - loss: 1.8243 - mean_absolute_error: 1.0003 - val_loss: 13.1454 - val_mean_absolute_error: 2.6611\n",
            "Epoch 185/200\n",
            " - 0s - loss: 1.5991 - mean_absolute_error: 0.9243 - val_loss: 10.1389 - val_mean_absolute_error: 2.4712\n",
            "Epoch 186/200\n",
            " - 0s - loss: 1.6230 - mean_absolute_error: 0.9314 - val_loss: 18.9164 - val_mean_absolute_error: 3.0987\n",
            "Epoch 187/200\n",
            " - 0s - loss: 1.8343 - mean_absolute_error: 0.9646 - val_loss: 13.8916 - val_mean_absolute_error: 2.6774\n",
            "Epoch 188/200\n",
            " - 0s - loss: 1.7910 - mean_absolute_error: 0.9599 - val_loss: 14.2455 - val_mean_absolute_error: 2.6520\n",
            "Epoch 189/200\n",
            " - 0s - loss: 1.6348 - mean_absolute_error: 0.9529 - val_loss: 19.4836 - val_mean_absolute_error: 3.0052\n",
            "Epoch 190/200\n",
            " - 0s - loss: 1.8352 - mean_absolute_error: 0.9998 - val_loss: 15.5462 - val_mean_absolute_error: 2.8805\n",
            "Epoch 191/200\n",
            " - 0s - loss: 1.6780 - mean_absolute_error: 0.9429 - val_loss: 13.3015 - val_mean_absolute_error: 2.7118\n",
            "Epoch 192/200\n",
            " - 0s - loss: 1.7828 - mean_absolute_error: 0.9724 - val_loss: 16.2376 - val_mean_absolute_error: 2.8112\n",
            "Epoch 193/200\n",
            " - 0s - loss: 1.6504 - mean_absolute_error: 0.9458 - val_loss: 9.7793 - val_mean_absolute_error: 2.2984\n",
            "Epoch 194/200\n",
            " - 0s - loss: 1.5748 - mean_absolute_error: 0.8683 - val_loss: 21.2671 - val_mean_absolute_error: 3.0583\n",
            "Epoch 195/200\n",
            " - 0s - loss: 1.6041 - mean_absolute_error: 0.8934 - val_loss: 13.2634 - val_mean_absolute_error: 2.7185\n",
            "Epoch 196/200\n",
            " - 0s - loss: 1.5152 - mean_absolute_error: 0.9242 - val_loss: 16.5330 - val_mean_absolute_error: 2.8666\n",
            "Epoch 197/200\n",
            " - 0s - loss: 1.6091 - mean_absolute_error: 0.9051 - val_loss: 17.1621 - val_mean_absolute_error: 2.9634\n",
            "Epoch 198/200\n",
            " - 0s - loss: 1.5403 - mean_absolute_error: 0.9250 - val_loss: 18.6770 - val_mean_absolute_error: 3.0082\n",
            "Epoch 199/200\n",
            " - 0s - loss: 1.6902 - mean_absolute_error: 0.9596 - val_loss: 13.7815 - val_mean_absolute_error: 2.5690\n",
            "Epoch 200/200\n",
            " - 0s - loss: 1.4901 - mean_absolute_error: 0.9186 - val_loss: 12.7474 - val_mean_absolute_error: 2.5058\n",
            "processing fold # 2\n",
            "Train on 303 samples, validate on 101 samples\n",
            "Epoch 1/200\n",
            " - 1s - loss: 217.1303 - mean_absolute_error: 11.2842 - val_loss: 32.5364 - val_mean_absolute_error: 4.0882\n",
            "Epoch 2/200\n",
            " - 0s - loss: 29.8222 - mean_absolute_error: 3.6960 - val_loss: 22.3219 - val_mean_absolute_error: 3.2744\n",
            "Epoch 3/200\n",
            " - 0s - loss: 19.4516 - mean_absolute_error: 3.0127 - val_loss: 19.1638 - val_mean_absolute_error: 2.8709\n",
            "Epoch 4/200\n",
            " - 0s - loss: 15.8370 - mean_absolute_error: 2.7147 - val_loss: 17.9391 - val_mean_absolute_error: 2.8014\n",
            "Epoch 5/200\n",
            " - 0s - loss: 13.6374 - mean_absolute_error: 2.5728 - val_loss: 17.9180 - val_mean_absolute_error: 2.7428\n",
            "Epoch 6/200\n",
            " - 0s - loss: 12.5534 - mean_absolute_error: 2.4062 - val_loss: 17.6095 - val_mean_absolute_error: 2.6581\n",
            "Epoch 7/200\n",
            " - 0s - loss: 11.3928 - mean_absolute_error: 2.3776 - val_loss: 16.4521 - val_mean_absolute_error: 2.6048\n",
            "Epoch 8/200\n",
            " - 0s - loss: 10.9786 - mean_absolute_error: 2.3122 - val_loss: 15.8203 - val_mean_absolute_error: 2.7198\n",
            "Epoch 9/200\n",
            " - 0s - loss: 10.2945 - mean_absolute_error: 2.2912 - val_loss: 15.6068 - val_mean_absolute_error: 2.6318\n",
            "Epoch 10/200\n",
            " - 0s - loss: 9.9768 - mean_absolute_error: 2.1969 - val_loss: 15.4337 - val_mean_absolute_error: 2.5613\n",
            "Epoch 11/200\n",
            " - 0s - loss: 9.7167 - mean_absolute_error: 2.1375 - val_loss: 15.1211 - val_mean_absolute_error: 2.5660\n",
            "Epoch 12/200\n",
            " - 0s - loss: 9.5303 - mean_absolute_error: 2.0886 - val_loss: 14.6328 - val_mean_absolute_error: 2.4453\n",
            "Epoch 13/200\n",
            " - 0s - loss: 9.9501 - mean_absolute_error: 2.1141 - val_loss: 15.1926 - val_mean_absolute_error: 2.5047\n",
            "Epoch 14/200\n",
            " - 0s - loss: 9.3628 - mean_absolute_error: 2.0303 - val_loss: 15.0608 - val_mean_absolute_error: 2.4614\n",
            "Epoch 15/200\n",
            " - 0s - loss: 9.2466 - mean_absolute_error: 2.0464 - val_loss: 14.2562 - val_mean_absolute_error: 2.4848\n",
            "Epoch 16/200\n",
            " - 0s - loss: 8.6834 - mean_absolute_error: 2.0131 - val_loss: 15.2641 - val_mean_absolute_error: 2.4919\n",
            "Epoch 17/200\n",
            " - 0s - loss: 8.8229 - mean_absolute_error: 2.0381 - val_loss: 14.6763 - val_mean_absolute_error: 2.4303\n",
            "Epoch 18/200\n",
            " - 0s - loss: 8.0781 - mean_absolute_error: 1.9851 - val_loss: 14.5084 - val_mean_absolute_error: 2.5643\n",
            "Epoch 19/200\n",
            " - 0s - loss: 7.8651 - mean_absolute_error: 1.9575 - val_loss: 15.8377 - val_mean_absolute_error: 2.7009\n",
            "Epoch 20/200\n",
            " - 0s - loss: 7.7621 - mean_absolute_error: 1.8745 - val_loss: 15.2687 - val_mean_absolute_error: 2.5184\n",
            "Epoch 21/200\n",
            " - 0s - loss: 7.9622 - mean_absolute_error: 1.9254 - val_loss: 15.0533 - val_mean_absolute_error: 2.5730\n",
            "Epoch 22/200\n",
            " - 0s - loss: 7.9164 - mean_absolute_error: 1.9157 - val_loss: 15.3877 - val_mean_absolute_error: 2.6267\n",
            "Epoch 23/200\n",
            " - 0s - loss: 7.6549 - mean_absolute_error: 1.8891 - val_loss: 15.7560 - val_mean_absolute_error: 2.7603\n",
            "Epoch 24/200\n",
            " - 0s - loss: 7.3762 - mean_absolute_error: 1.8543 - val_loss: 14.1063 - val_mean_absolute_error: 2.3404\n",
            "Epoch 25/200\n",
            " - 0s - loss: 7.2653 - mean_absolute_error: 1.8696 - val_loss: 14.1562 - val_mean_absolute_error: 2.5093\n",
            "Epoch 26/200\n",
            " - 0s - loss: 7.2910 - mean_absolute_error: 1.8575 - val_loss: 14.9223 - val_mean_absolute_error: 2.6215\n",
            "Epoch 27/200\n",
            " - 0s - loss: 6.9604 - mean_absolute_error: 1.7922 - val_loss: 13.8924 - val_mean_absolute_error: 2.3724\n",
            "Epoch 28/200\n",
            " - 0s - loss: 6.9485 - mean_absolute_error: 1.7698 - val_loss: 15.9107 - val_mean_absolute_error: 2.5269\n",
            "Epoch 29/200\n",
            " - 0s - loss: 7.1316 - mean_absolute_error: 1.7747 - val_loss: 14.5116 - val_mean_absolute_error: 2.5620\n",
            "Epoch 30/200\n",
            " - 0s - loss: 6.7469 - mean_absolute_error: 1.7416 - val_loss: 17.8237 - val_mean_absolute_error: 2.9557\n",
            "Epoch 31/200\n",
            " - 0s - loss: 6.8328 - mean_absolute_error: 1.7781 - val_loss: 14.1476 - val_mean_absolute_error: 2.3821\n",
            "Epoch 32/200\n",
            " - 0s - loss: 6.5855 - mean_absolute_error: 1.7811 - val_loss: 15.3525 - val_mean_absolute_error: 2.6251\n",
            "Epoch 33/200\n",
            " - 0s - loss: 6.8488 - mean_absolute_error: 1.7365 - val_loss: 13.9883 - val_mean_absolute_error: 2.4336\n",
            "Epoch 34/200\n",
            " - 0s - loss: 6.7369 - mean_absolute_error: 1.7547 - val_loss: 14.1845 - val_mean_absolute_error: 2.3761\n",
            "Epoch 35/200\n",
            " - 0s - loss: 6.1967 - mean_absolute_error: 1.7122 - val_loss: 14.4291 - val_mean_absolute_error: 2.4387\n",
            "Epoch 36/200\n",
            " - 0s - loss: 6.3542 - mean_absolute_error: 1.7147 - val_loss: 14.3169 - val_mean_absolute_error: 2.5992\n",
            "Epoch 37/200\n",
            " - 0s - loss: 6.2804 - mean_absolute_error: 1.7404 - val_loss: 14.4358 - val_mean_absolute_error: 2.5347\n",
            "Epoch 38/200\n",
            " - 0s - loss: 6.3646 - mean_absolute_error: 1.6541 - val_loss: 14.5118 - val_mean_absolute_error: 2.4072\n",
            "Epoch 39/200\n",
            " - 0s - loss: 6.0979 - mean_absolute_error: 1.6170 - val_loss: 14.7540 - val_mean_absolute_error: 2.5817\n",
            "Epoch 40/200\n",
            " - 0s - loss: 5.9695 - mean_absolute_error: 1.6736 - val_loss: 14.7285 - val_mean_absolute_error: 2.5343\n",
            "Epoch 41/200\n",
            " - 0s - loss: 6.2220 - mean_absolute_error: 1.5916 - val_loss: 17.4083 - val_mean_absolute_error: 2.5047\n",
            "Epoch 42/200\n",
            " - 0s - loss: 5.9643 - mean_absolute_error: 1.6324 - val_loss: 14.7656 - val_mean_absolute_error: 2.4432\n",
            "Epoch 43/200\n",
            " - 0s - loss: 6.0174 - mean_absolute_error: 1.6486 - val_loss: 15.3543 - val_mean_absolute_error: 2.5597\n",
            "Epoch 44/200\n",
            " - 0s - loss: 5.4850 - mean_absolute_error: 1.6159 - val_loss: 14.4743 - val_mean_absolute_error: 2.3689\n",
            "Epoch 45/200\n",
            " - 0s - loss: 5.6443 - mean_absolute_error: 1.5771 - val_loss: 14.2172 - val_mean_absolute_error: 2.3977\n",
            "Epoch 46/200\n",
            " - 0s - loss: 5.7253 - mean_absolute_error: 1.6408 - val_loss: 15.4597 - val_mean_absolute_error: 2.5718\n",
            "Epoch 47/200\n",
            " - 0s - loss: 5.4708 - mean_absolute_error: 1.5876 - val_loss: 15.2618 - val_mean_absolute_error: 2.7632\n",
            "Epoch 48/200\n",
            " - 0s - loss: 5.4940 - mean_absolute_error: 1.5816 - val_loss: 15.3470 - val_mean_absolute_error: 2.7091\n",
            "Epoch 49/200\n",
            " - 0s - loss: 5.2586 - mean_absolute_error: 1.6034 - val_loss: 14.4945 - val_mean_absolute_error: 2.4986\n",
            "Epoch 50/200\n",
            " - 0s - loss: 5.2416 - mean_absolute_error: 1.5557 - val_loss: 15.5305 - val_mean_absolute_error: 2.5642\n",
            "Epoch 51/200\n",
            " - 0s - loss: 5.1793 - mean_absolute_error: 1.5078 - val_loss: 14.2299 - val_mean_absolute_error: 2.4534\n",
            "Epoch 52/200\n",
            " - 0s - loss: 4.9103 - mean_absolute_error: 1.5949 - val_loss: 15.4180 - val_mean_absolute_error: 2.5971\n",
            "Epoch 53/200\n",
            " - 0s - loss: 5.3297 - mean_absolute_error: 1.5076 - val_loss: 15.6160 - val_mean_absolute_error: 2.5983\n",
            "Epoch 54/200\n",
            " - 0s - loss: 5.3217 - mean_absolute_error: 1.5545 - val_loss: 15.0817 - val_mean_absolute_error: 2.6443\n",
            "Epoch 55/200\n",
            " - 0s - loss: 4.6706 - mean_absolute_error: 1.5100 - val_loss: 14.9816 - val_mean_absolute_error: 2.5825\n",
            "Epoch 56/200\n",
            " - 0s - loss: 5.0458 - mean_absolute_error: 1.5247 - val_loss: 16.7948 - val_mean_absolute_error: 2.8181\n",
            "Epoch 57/200\n",
            " - 0s - loss: 4.5942 - mean_absolute_error: 1.5071 - val_loss: 16.0760 - val_mean_absolute_error: 2.7407\n",
            "Epoch 58/200\n",
            " - 0s - loss: 4.7184 - mean_absolute_error: 1.4654 - val_loss: 15.4441 - val_mean_absolute_error: 2.5643\n",
            "Epoch 59/200\n",
            " - 0s - loss: 4.9323 - mean_absolute_error: 1.5326 - val_loss: 15.0636 - val_mean_absolute_error: 2.5010\n",
            "Epoch 60/200\n",
            " - 0s - loss: 4.8230 - mean_absolute_error: 1.4585 - val_loss: 15.1791 - val_mean_absolute_error: 2.5158\n",
            "Epoch 61/200\n",
            " - 0s - loss: 4.5815 - mean_absolute_error: 1.4850 - val_loss: 15.5707 - val_mean_absolute_error: 2.6222\n",
            "Epoch 62/200\n",
            " - 0s - loss: 4.5208 - mean_absolute_error: 1.4716 - val_loss: 15.7644 - val_mean_absolute_error: 2.6301\n",
            "Epoch 63/200\n",
            " - 0s - loss: 4.7765 - mean_absolute_error: 1.4550 - val_loss: 16.5236 - val_mean_absolute_error: 2.7095\n",
            "Epoch 64/200\n",
            " - 0s - loss: 4.4650 - mean_absolute_error: 1.4648 - val_loss: 15.8737 - val_mean_absolute_error: 2.6558\n",
            "Epoch 65/200\n",
            " - 0s - loss: 4.5237 - mean_absolute_error: 1.4678 - val_loss: 16.8780 - val_mean_absolute_error: 2.6341\n",
            "Epoch 66/200\n",
            " - 0s - loss: 4.4592 - mean_absolute_error: 1.4871 - val_loss: 16.1170 - val_mean_absolute_error: 2.5690\n",
            "Epoch 67/200\n",
            " - 0s - loss: 4.3116 - mean_absolute_error: 1.4232 - val_loss: 16.4558 - val_mean_absolute_error: 2.6397\n",
            "Epoch 68/200\n",
            " - 0s - loss: 4.4630 - mean_absolute_error: 1.4162 - val_loss: 16.2003 - val_mean_absolute_error: 2.6916\n",
            "Epoch 69/200\n",
            " - 0s - loss: 4.4979 - mean_absolute_error: 1.4560 - val_loss: 15.5296 - val_mean_absolute_error: 2.5734\n",
            "Epoch 70/200\n",
            " - 0s - loss: 4.3177 - mean_absolute_error: 1.4484 - val_loss: 16.4218 - val_mean_absolute_error: 2.6374\n",
            "Epoch 71/200\n",
            " - 0s - loss: 4.5352 - mean_absolute_error: 1.4152 - val_loss: 17.3161 - val_mean_absolute_error: 2.6721\n",
            "Epoch 72/200\n",
            " - 0s - loss: 4.3771 - mean_absolute_error: 1.4281 - val_loss: 16.0472 - val_mean_absolute_error: 2.5717\n",
            "Epoch 73/200\n",
            " - 0s - loss: 4.0609 - mean_absolute_error: 1.4087 - val_loss: 17.8285 - val_mean_absolute_error: 2.8835\n",
            "Epoch 74/200\n",
            " - 0s - loss: 4.1089 - mean_absolute_error: 1.4135 - val_loss: 16.9638 - val_mean_absolute_error: 2.6238\n",
            "Epoch 75/200\n",
            " - 0s - loss: 3.9920 - mean_absolute_error: 1.3730 - val_loss: 17.3315 - val_mean_absolute_error: 2.6683\n",
            "Epoch 76/200\n",
            " - 0s - loss: 4.4357 - mean_absolute_error: 1.4198 - val_loss: 17.1910 - val_mean_absolute_error: 2.7246\n",
            "Epoch 77/200\n",
            " - 0s - loss: 3.9324 - mean_absolute_error: 1.3706 - val_loss: 16.8895 - val_mean_absolute_error: 2.7023\n",
            "Epoch 78/200\n",
            " - 0s - loss: 3.8096 - mean_absolute_error: 1.3758 - val_loss: 16.4223 - val_mean_absolute_error: 2.6399\n",
            "Epoch 79/200\n",
            " - 0s - loss: 3.6028 - mean_absolute_error: 1.3788 - val_loss: 15.6294 - val_mean_absolute_error: 2.6900\n",
            "Epoch 80/200\n",
            " - 0s - loss: 4.1440 - mean_absolute_error: 1.4074 - val_loss: 16.2586 - val_mean_absolute_error: 2.6575\n",
            "Epoch 81/200\n",
            " - 0s - loss: 3.9187 - mean_absolute_error: 1.4083 - val_loss: 17.4682 - val_mean_absolute_error: 2.8522\n",
            "Epoch 82/200\n",
            " - 0s - loss: 4.1528 - mean_absolute_error: 1.3989 - val_loss: 16.5547 - val_mean_absolute_error: 2.7041\n",
            "Epoch 83/200\n",
            " - 0s - loss: 3.7436 - mean_absolute_error: 1.3634 - val_loss: 17.4909 - val_mean_absolute_error: 2.7599\n",
            "Epoch 84/200\n",
            " - 0s - loss: 3.7328 - mean_absolute_error: 1.3673 - val_loss: 19.0501 - val_mean_absolute_error: 3.0379\n",
            "Epoch 85/200\n",
            " - 0s - loss: 3.8755 - mean_absolute_error: 1.3294 - val_loss: 16.4280 - val_mean_absolute_error: 2.6160\n",
            "Epoch 86/200\n",
            " - 0s - loss: 3.6295 - mean_absolute_error: 1.3276 - val_loss: 18.3010 - val_mean_absolute_error: 2.9015\n",
            "Epoch 87/200\n",
            " - 0s - loss: 3.6192 - mean_absolute_error: 1.3052 - val_loss: 18.7219 - val_mean_absolute_error: 2.8404\n",
            "Epoch 88/200\n",
            " - 0s - loss: 3.6066 - mean_absolute_error: 1.3386 - val_loss: 19.1183 - val_mean_absolute_error: 2.8287\n",
            "Epoch 89/200\n",
            " - 0s - loss: 3.3427 - mean_absolute_error: 1.3466 - val_loss: 17.4246 - val_mean_absolute_error: 2.7726\n",
            "Epoch 90/200\n",
            " - 0s - loss: 3.5527 - mean_absolute_error: 1.3346 - val_loss: 15.9679 - val_mean_absolute_error: 2.7044\n",
            "Epoch 91/200\n",
            " - 0s - loss: 3.7360 - mean_absolute_error: 1.3259 - val_loss: 19.2008 - val_mean_absolute_error: 2.9451\n",
            "Epoch 92/200\n",
            " - 0s - loss: 3.5738 - mean_absolute_error: 1.3119 - val_loss: 17.7625 - val_mean_absolute_error: 2.7695\n",
            "Epoch 93/200\n",
            " - 0s - loss: 3.3340 - mean_absolute_error: 1.3004 - val_loss: 16.1619 - val_mean_absolute_error: 2.6487\n",
            "Epoch 94/200\n",
            " - 0s - loss: 3.4979 - mean_absolute_error: 1.2812 - val_loss: 21.2193 - val_mean_absolute_error: 3.2262\n",
            "Epoch 95/200\n",
            " - 0s - loss: 3.4608 - mean_absolute_error: 1.3474 - val_loss: 18.0648 - val_mean_absolute_error: 2.7590\n",
            "Epoch 96/200\n",
            " - 0s - loss: 3.3894 - mean_absolute_error: 1.3451 - val_loss: 17.7349 - val_mean_absolute_error: 2.7956\n",
            "Epoch 97/200\n",
            " - 0s - loss: 3.5184 - mean_absolute_error: 1.3265 - val_loss: 18.0692 - val_mean_absolute_error: 2.7814\n",
            "Epoch 98/200\n",
            " - 0s - loss: 3.2701 - mean_absolute_error: 1.2573 - val_loss: 16.8585 - val_mean_absolute_error: 2.6615\n",
            "Epoch 99/200\n",
            " - 0s - loss: 3.2687 - mean_absolute_error: 1.2955 - val_loss: 16.2358 - val_mean_absolute_error: 2.6054\n",
            "Epoch 100/200\n",
            " - 0s - loss: 3.2301 - mean_absolute_error: 1.2882 - val_loss: 17.9039 - val_mean_absolute_error: 2.7796\n",
            "Epoch 101/200\n",
            " - 0s - loss: 3.2168 - mean_absolute_error: 1.2529 - val_loss: 19.0724 - val_mean_absolute_error: 2.8252\n",
            "Epoch 102/200\n",
            " - 0s - loss: 3.3409 - mean_absolute_error: 1.2413 - val_loss: 18.3930 - val_mean_absolute_error: 2.9121\n",
            "Epoch 103/200\n",
            " - 0s - loss: 3.3789 - mean_absolute_error: 1.3061 - val_loss: 18.9856 - val_mean_absolute_error: 2.8515\n",
            "Epoch 104/200\n",
            " - 0s - loss: 3.1374 - mean_absolute_error: 1.2383 - val_loss: 18.1707 - val_mean_absolute_error: 2.9502\n",
            "Epoch 105/200\n",
            " - 0s - loss: 3.0511 - mean_absolute_error: 1.2723 - val_loss: 17.1750 - val_mean_absolute_error: 2.6381\n",
            "Epoch 106/200\n",
            " - 0s - loss: 3.0252 - mean_absolute_error: 1.2557 - val_loss: 18.3483 - val_mean_absolute_error: 2.7866\n",
            "Epoch 107/200\n",
            " - 0s - loss: 3.0117 - mean_absolute_error: 1.2529 - val_loss: 18.5722 - val_mean_absolute_error: 2.7744\n",
            "Epoch 108/200\n",
            " - 0s - loss: 2.9502 - mean_absolute_error: 1.2262 - val_loss: 18.5513 - val_mean_absolute_error: 2.8543\n",
            "Epoch 109/200\n",
            " - 0s - loss: 3.0963 - mean_absolute_error: 1.2430 - val_loss: 17.6648 - val_mean_absolute_error: 2.7842\n",
            "Epoch 110/200\n",
            " - 0s - loss: 2.9697 - mean_absolute_error: 1.2236 - val_loss: 20.1255 - val_mean_absolute_error: 3.0522\n",
            "Epoch 111/200\n",
            " - 0s - loss: 2.9055 - mean_absolute_error: 1.1805 - val_loss: 16.5760 - val_mean_absolute_error: 2.7075\n",
            "Epoch 112/200\n",
            " - 0s - loss: 2.9545 - mean_absolute_error: 1.2004 - val_loss: 19.7866 - val_mean_absolute_error: 3.0909\n",
            "Epoch 113/200\n",
            " - 0s - loss: 3.2176 - mean_absolute_error: 1.2523 - val_loss: 18.9981 - val_mean_absolute_error: 2.9833\n",
            "Epoch 114/200\n",
            " - 0s - loss: 2.8381 - mean_absolute_error: 1.2023 - val_loss: 18.1961 - val_mean_absolute_error: 2.9516\n",
            "Epoch 115/200\n",
            " - 0s - loss: 3.3020 - mean_absolute_error: 1.2282 - val_loss: 17.4161 - val_mean_absolute_error: 2.8602\n",
            "Epoch 116/200\n",
            " - 0s - loss: 2.8452 - mean_absolute_error: 1.1965 - val_loss: 17.7135 - val_mean_absolute_error: 2.8389\n",
            "Epoch 117/200\n",
            " - 0s - loss: 3.0708 - mean_absolute_error: 1.1811 - val_loss: 17.9489 - val_mean_absolute_error: 2.7664\n",
            "Epoch 118/200\n",
            " - 0s - loss: 2.5309 - mean_absolute_error: 1.1427 - val_loss: 19.0863 - val_mean_absolute_error: 2.9250\n",
            "Epoch 119/200\n",
            " - 0s - loss: 2.9817 - mean_absolute_error: 1.2369 - val_loss: 17.8825 - val_mean_absolute_error: 2.7866\n",
            "Epoch 120/200\n",
            " - 0s - loss: 3.0028 - mean_absolute_error: 1.2016 - val_loss: 18.3933 - val_mean_absolute_error: 2.8174\n",
            "Epoch 121/200\n",
            " - 0s - loss: 2.8110 - mean_absolute_error: 1.1855 - val_loss: 17.2971 - val_mean_absolute_error: 2.7669\n",
            "Epoch 122/200\n",
            " - 0s - loss: 2.8637 - mean_absolute_error: 1.1595 - val_loss: 18.2821 - val_mean_absolute_error: 2.7671\n",
            "Epoch 123/200\n",
            " - 0s - loss: 2.7163 - mean_absolute_error: 1.1841 - val_loss: 18.5832 - val_mean_absolute_error: 2.8896\n",
            "Epoch 124/200\n",
            " - 0s - loss: 2.7842 - mean_absolute_error: 1.1755 - val_loss: 18.8230 - val_mean_absolute_error: 2.8964\n",
            "Epoch 125/200\n",
            " - 0s - loss: 2.5869 - mean_absolute_error: 1.1589 - val_loss: 18.7935 - val_mean_absolute_error: 2.9162\n",
            "Epoch 126/200\n",
            " - 0s - loss: 2.6857 - mean_absolute_error: 1.1674 - val_loss: 17.1995 - val_mean_absolute_error: 2.7187\n",
            "Epoch 127/200\n",
            " - 0s - loss: 2.6942 - mean_absolute_error: 1.1929 - val_loss: 18.7425 - val_mean_absolute_error: 2.9004\n",
            "Epoch 128/200\n",
            " - 0s - loss: 2.5770 - mean_absolute_error: 1.1134 - val_loss: 18.1769 - val_mean_absolute_error: 2.8084\n",
            "Epoch 129/200\n",
            " - 0s - loss: 2.6542 - mean_absolute_error: 1.1629 - val_loss: 18.8629 - val_mean_absolute_error: 2.9185\n",
            "Epoch 130/200\n",
            " - 0s - loss: 2.3784 - mean_absolute_error: 1.1021 - val_loss: 18.4053 - val_mean_absolute_error: 2.8557\n",
            "Epoch 131/200\n",
            " - 0s - loss: 2.4409 - mean_absolute_error: 1.0659 - val_loss: 18.8830 - val_mean_absolute_error: 2.9444\n",
            "Epoch 132/200\n",
            " - 0s - loss: 2.4982 - mean_absolute_error: 1.1315 - val_loss: 18.6759 - val_mean_absolute_error: 2.9058\n",
            "Epoch 133/200\n",
            " - 0s - loss: 2.6731 - mean_absolute_error: 1.1509 - val_loss: 17.3747 - val_mean_absolute_error: 2.8694\n",
            "Epoch 134/200\n",
            " - 0s - loss: 2.4576 - mean_absolute_error: 1.0978 - val_loss: 17.5185 - val_mean_absolute_error: 2.7900\n",
            "Epoch 135/200\n",
            " - 0s - loss: 2.6661 - mean_absolute_error: 1.1642 - val_loss: 18.1129 - val_mean_absolute_error: 2.9494\n",
            "Epoch 136/200\n",
            " - 0s - loss: 2.7342 - mean_absolute_error: 1.1982 - val_loss: 17.3273 - val_mean_absolute_error: 2.8832\n",
            "Epoch 137/200\n",
            " - 0s - loss: 2.5058 - mean_absolute_error: 1.1535 - val_loss: 19.3918 - val_mean_absolute_error: 2.9988\n",
            "Epoch 138/200\n",
            " - 0s - loss: 2.3875 - mean_absolute_error: 1.1090 - val_loss: 20.0513 - val_mean_absolute_error: 3.1938\n",
            "Epoch 139/200\n",
            " - 0s - loss: 2.4444 - mean_absolute_error: 1.1795 - val_loss: 17.8354 - val_mean_absolute_error: 2.7957\n",
            "Epoch 140/200\n",
            " - 0s - loss: 2.1138 - mean_absolute_error: 1.0741 - val_loss: 18.9897 - val_mean_absolute_error: 3.0021\n",
            "Epoch 141/200\n",
            " - 0s - loss: 2.5889 - mean_absolute_error: 1.0987 - val_loss: 18.6248 - val_mean_absolute_error: 2.9000\n",
            "Epoch 142/200\n",
            " - 0s - loss: 2.1994 - mean_absolute_error: 1.0661 - val_loss: 18.7905 - val_mean_absolute_error: 2.8661\n",
            "Epoch 143/200\n",
            " - 0s - loss: 2.5877 - mean_absolute_error: 1.1625 - val_loss: 18.2328 - val_mean_absolute_error: 2.9493\n",
            "Epoch 144/200\n",
            " - 0s - loss: 2.3530 - mean_absolute_error: 1.1153 - val_loss: 17.1670 - val_mean_absolute_error: 2.8826\n",
            "Epoch 145/200\n",
            " - 0s - loss: 2.4194 - mean_absolute_error: 1.1063 - val_loss: 18.7231 - val_mean_absolute_error: 2.8634\n",
            "Epoch 146/200\n",
            " - 0s - loss: 2.4443 - mean_absolute_error: 1.0997 - val_loss: 18.1156 - val_mean_absolute_error: 2.9389\n",
            "Epoch 147/200\n",
            " - 0s - loss: 1.9955 - mean_absolute_error: 1.0142 - val_loss: 18.8104 - val_mean_absolute_error: 2.8732\n",
            "Epoch 148/200\n",
            " - 0s - loss: 2.0160 - mean_absolute_error: 1.0504 - val_loss: 17.9447 - val_mean_absolute_error: 2.8020\n",
            "Epoch 149/200\n",
            " - 0s - loss: 2.3556 - mean_absolute_error: 1.0886 - val_loss: 19.3385 - val_mean_absolute_error: 2.9365\n",
            "Epoch 150/200\n",
            " - 0s - loss: 2.2826 - mean_absolute_error: 1.1266 - val_loss: 18.7282 - val_mean_absolute_error: 2.9020\n",
            "Epoch 151/200\n",
            " - 0s - loss: 2.1508 - mean_absolute_error: 1.1104 - val_loss: 17.3854 - val_mean_absolute_error: 2.7786\n",
            "Epoch 152/200\n",
            " - 0s - loss: 2.3241 - mean_absolute_error: 1.0684 - val_loss: 18.6583 - val_mean_absolute_error: 2.9492\n",
            "Epoch 153/200\n",
            " - 0s - loss: 2.0850 - mean_absolute_error: 1.0352 - val_loss: 18.4611 - val_mean_absolute_error: 2.9722\n",
            "Epoch 154/200\n",
            " - 0s - loss: 2.1852 - mean_absolute_error: 1.1023 - val_loss: 18.4291 - val_mean_absolute_error: 2.9023\n",
            "Epoch 155/200\n",
            " - 0s - loss: 2.1183 - mean_absolute_error: 1.0731 - val_loss: 19.2944 - val_mean_absolute_error: 3.0676\n",
            "Epoch 156/200\n",
            " - 0s - loss: 2.2022 - mean_absolute_error: 1.0416 - val_loss: 17.8400 - val_mean_absolute_error: 2.9253\n",
            "Epoch 157/200\n",
            " - 0s - loss: 2.1429 - mean_absolute_error: 1.0376 - val_loss: 18.2870 - val_mean_absolute_error: 2.9662\n",
            "Epoch 158/200\n",
            " - 0s - loss: 2.1864 - mean_absolute_error: 1.0362 - val_loss: 19.2346 - val_mean_absolute_error: 3.0073\n",
            "Epoch 159/200\n",
            " - 0s - loss: 1.9205 - mean_absolute_error: 1.0035 - val_loss: 18.2605 - val_mean_absolute_error: 2.9215\n",
            "Epoch 160/200\n",
            " - 0s - loss: 2.2152 - mean_absolute_error: 1.0122 - val_loss: 18.2306 - val_mean_absolute_error: 2.8704\n",
            "Epoch 161/200\n",
            " - 0s - loss: 2.0859 - mean_absolute_error: 1.0371 - val_loss: 17.5562 - val_mean_absolute_error: 2.8635\n",
            "Epoch 162/200\n",
            " - 0s - loss: 1.9233 - mean_absolute_error: 1.0143 - val_loss: 18.6480 - val_mean_absolute_error: 2.9764\n",
            "Epoch 163/200\n",
            " - 0s - loss: 2.3092 - mean_absolute_error: 1.1255 - val_loss: 18.8824 - val_mean_absolute_error: 2.9454\n",
            "Epoch 164/200\n",
            " - 0s - loss: 2.1009 - mean_absolute_error: 1.0371 - val_loss: 17.8264 - val_mean_absolute_error: 2.9459\n",
            "Epoch 165/200\n",
            " - 0s - loss: 1.9124 - mean_absolute_error: 1.0316 - val_loss: 19.1863 - val_mean_absolute_error: 3.0190\n",
            "Epoch 166/200\n",
            " - 0s - loss: 1.9521 - mean_absolute_error: 0.9822 - val_loss: 18.4676 - val_mean_absolute_error: 2.9248\n",
            "Epoch 167/200\n",
            " - 0s - loss: 2.0865 - mean_absolute_error: 1.0393 - val_loss: 18.1755 - val_mean_absolute_error: 2.9178\n",
            "Epoch 168/200\n",
            " - 0s - loss: 2.1241 - mean_absolute_error: 1.0941 - val_loss: 18.6879 - val_mean_absolute_error: 2.9532\n",
            "Epoch 169/200\n",
            " - 0s - loss: 1.9795 - mean_absolute_error: 0.9982 - val_loss: 18.5947 - val_mean_absolute_error: 2.9652\n",
            "Epoch 170/200\n",
            " - 0s - loss: 1.8431 - mean_absolute_error: 0.9575 - val_loss: 19.9273 - val_mean_absolute_error: 3.0561\n",
            "Epoch 171/200\n",
            " - 0s - loss: 1.8417 - mean_absolute_error: 1.0048 - val_loss: 17.8839 - val_mean_absolute_error: 2.8317\n",
            "Epoch 172/200\n",
            " - 0s - loss: 2.0104 - mean_absolute_error: 1.0457 - val_loss: 18.0775 - val_mean_absolute_error: 2.8000\n",
            "Epoch 173/200\n",
            " - 0s - loss: 1.9533 - mean_absolute_error: 1.0293 - val_loss: 17.2166 - val_mean_absolute_error: 2.8866\n",
            "Epoch 174/200\n",
            " - 0s - loss: 1.9634 - mean_absolute_error: 1.0204 - val_loss: 18.2987 - val_mean_absolute_error: 2.9386\n",
            "Epoch 175/200\n",
            " - 0s - loss: 1.7997 - mean_absolute_error: 0.9908 - val_loss: 17.7513 - val_mean_absolute_error: 2.8565\n",
            "Epoch 176/200\n",
            " - 0s - loss: 1.8687 - mean_absolute_error: 1.0372 - val_loss: 18.9725 - val_mean_absolute_error: 3.0447\n",
            "Epoch 177/200\n",
            " - 0s - loss: 1.6540 - mean_absolute_error: 0.9746 - val_loss: 17.4995 - val_mean_absolute_error: 2.9280\n",
            "Epoch 178/200\n",
            " - 0s - loss: 1.7676 - mean_absolute_error: 0.9884 - val_loss: 20.5645 - val_mean_absolute_error: 3.2006\n",
            "Epoch 179/200\n",
            " - 0s - loss: 1.7971 - mean_absolute_error: 0.9505 - val_loss: 18.1874 - val_mean_absolute_error: 2.9025\n",
            "Epoch 180/200\n",
            " - 0s - loss: 1.8357 - mean_absolute_error: 0.9793 - val_loss: 17.7225 - val_mean_absolute_error: 2.9280\n",
            "Epoch 181/200\n",
            " - 0s - loss: 1.8916 - mean_absolute_error: 0.9683 - val_loss: 17.7698 - val_mean_absolute_error: 2.9971\n",
            "Epoch 182/200\n",
            " - 0s - loss: 1.6627 - mean_absolute_error: 0.9224 - val_loss: 18.5734 - val_mean_absolute_error: 3.0153\n",
            "Epoch 183/200\n",
            " - 0s - loss: 1.7401 - mean_absolute_error: 0.9532 - val_loss: 19.6890 - val_mean_absolute_error: 3.0845\n",
            "Epoch 184/200\n",
            " - 0s - loss: 1.9939 - mean_absolute_error: 0.9975 - val_loss: 18.6035 - val_mean_absolute_error: 3.0036\n",
            "Epoch 185/200\n",
            " - 0s - loss: 1.7816 - mean_absolute_error: 0.9596 - val_loss: 19.2516 - val_mean_absolute_error: 2.9390\n",
            "Epoch 186/200\n",
            " - 0s - loss: 1.7935 - mean_absolute_error: 0.9532 - val_loss: 18.1295 - val_mean_absolute_error: 3.0089\n",
            "Epoch 187/200\n",
            " - 0s - loss: 1.7776 - mean_absolute_error: 0.9802 - val_loss: 18.4653 - val_mean_absolute_error: 3.0462\n",
            "Epoch 188/200\n",
            " - 0s - loss: 1.9206 - mean_absolute_error: 0.9753 - val_loss: 17.6165 - val_mean_absolute_error: 2.8416\n",
            "Epoch 189/200\n",
            " - 0s - loss: 1.5768 - mean_absolute_error: 0.8762 - val_loss: 17.1667 - val_mean_absolute_error: 2.9024\n",
            "Epoch 190/200\n",
            " - 0s - loss: 1.7423 - mean_absolute_error: 0.9882 - val_loss: 19.5590 - val_mean_absolute_error: 3.2476\n",
            "Epoch 191/200\n",
            " - 0s - loss: 1.7224 - mean_absolute_error: 0.9295 - val_loss: 18.0950 - val_mean_absolute_error: 2.8631\n",
            "Epoch 192/200\n",
            " - 0s - loss: 1.7506 - mean_absolute_error: 0.9725 - val_loss: 17.5564 - val_mean_absolute_error: 2.8668\n",
            "Epoch 193/200\n",
            " - 0s - loss: 1.8097 - mean_absolute_error: 0.9700 - val_loss: 18.5111 - val_mean_absolute_error: 2.9351\n",
            "Epoch 194/200\n",
            " - 0s - loss: 1.8436 - mean_absolute_error: 0.9856 - val_loss: 17.0896 - val_mean_absolute_error: 2.8320\n",
            "Epoch 195/200\n",
            " - 0s - loss: 1.6139 - mean_absolute_error: 0.9102 - val_loss: 17.6871 - val_mean_absolute_error: 2.7844\n",
            "Epoch 196/200\n",
            " - 0s - loss: 1.8596 - mean_absolute_error: 0.9694 - val_loss: 18.5693 - val_mean_absolute_error: 3.0248\n",
            "Epoch 197/200\n",
            " - 0s - loss: 1.5810 - mean_absolute_error: 0.9308 - val_loss: 19.1086 - val_mean_absolute_error: 2.9898\n",
            "Epoch 198/200\n",
            " - 0s - loss: 1.7258 - mean_absolute_error: 0.9572 - val_loss: 16.9239 - val_mean_absolute_error: 2.8521\n",
            "Epoch 199/200\n",
            " - 0s - loss: 1.6786 - mean_absolute_error: 0.9691 - val_loss: 17.8070 - val_mean_absolute_error: 2.9093\n",
            "Epoch 200/200\n",
            " - 0s - loss: 1.6843 - mean_absolute_error: 0.9187 - val_loss: 17.1136 - val_mean_absolute_error: 2.8222\n",
            "processing fold # 3\n",
            "Train on 303 samples, validate on 101 samples\n",
            "Epoch 1/200\n",
            " - 1s - loss: 236.2876 - mean_absolute_error: 11.9133 - val_loss: 77.2769 - val_mean_absolute_error: 6.5834\n",
            "Epoch 2/200\n",
            " - 0s - loss: 30.4919 - mean_absolute_error: 3.7623 - val_loss: 37.7713 - val_mean_absolute_error: 4.4624\n",
            "Epoch 3/200\n",
            " - 0s - loss: 20.7199 - mean_absolute_error: 3.1179 - val_loss: 28.6181 - val_mean_absolute_error: 3.7850\n",
            "Epoch 4/200\n",
            " - 0s - loss: 16.1264 - mean_absolute_error: 2.6962 - val_loss: 21.9673 - val_mean_absolute_error: 3.4307\n",
            "Epoch 5/200\n",
            " - 0s - loss: 13.9863 - mean_absolute_error: 2.5236 - val_loss: 17.7815 - val_mean_absolute_error: 3.0170\n",
            "Epoch 6/200\n",
            " - 0s - loss: 12.4275 - mean_absolute_error: 2.3623 - val_loss: 16.4647 - val_mean_absolute_error: 2.8366\n",
            "Epoch 7/200\n",
            " - 0s - loss: 11.6004 - mean_absolute_error: 2.3527 - val_loss: 14.8172 - val_mean_absolute_error: 2.6874\n",
            "Epoch 8/200\n",
            " - 0s - loss: 11.2881 - mean_absolute_error: 2.2800 - val_loss: 17.6342 - val_mean_absolute_error: 2.8342\n",
            "Epoch 9/200\n",
            " - 0s - loss: 10.3344 - mean_absolute_error: 2.2266 - val_loss: 15.5341 - val_mean_absolute_error: 2.7691\n",
            "Epoch 10/200\n",
            " - 0s - loss: 10.4459 - mean_absolute_error: 2.1585 - val_loss: 16.7791 - val_mean_absolute_error: 2.9015\n",
            "Epoch 11/200\n",
            " - 0s - loss: 10.0454 - mean_absolute_error: 2.1498 - val_loss: 16.0871 - val_mean_absolute_error: 2.8014\n",
            "Epoch 12/200\n",
            " - 0s - loss: 9.5350 - mean_absolute_error: 2.1255 - val_loss: 16.6507 - val_mean_absolute_error: 2.8081\n",
            "Epoch 13/200\n",
            " - 0s - loss: 9.7952 - mean_absolute_error: 2.0188 - val_loss: 14.3333 - val_mean_absolute_error: 2.6565\n",
            "Epoch 14/200\n",
            " - 0s - loss: 9.2813 - mean_absolute_error: 2.0691 - val_loss: 17.5343 - val_mean_absolute_error: 3.0195\n",
            "Epoch 15/200\n",
            " - 0s - loss: 9.1448 - mean_absolute_error: 2.0526 - val_loss: 12.5850 - val_mean_absolute_error: 2.4794\n",
            "Epoch 16/200\n",
            " - 0s - loss: 8.9817 - mean_absolute_error: 1.9825 - val_loss: 13.6279 - val_mean_absolute_error: 2.6321\n",
            "Epoch 17/200\n",
            " - 0s - loss: 8.6953 - mean_absolute_error: 1.9746 - val_loss: 12.8383 - val_mean_absolute_error: 2.5393\n",
            "Epoch 18/200\n",
            " - 0s - loss: 8.1478 - mean_absolute_error: 2.0246 - val_loss: 13.9782 - val_mean_absolute_error: 2.6256\n",
            "Epoch 19/200\n",
            " - 0s - loss: 8.7367 - mean_absolute_error: 1.9371 - val_loss: 13.8281 - val_mean_absolute_error: 2.5697\n",
            "Epoch 20/200\n",
            " - 0s - loss: 8.1437 - mean_absolute_error: 1.8967 - val_loss: 13.6300 - val_mean_absolute_error: 2.6792\n",
            "Epoch 21/200\n",
            " - 0s - loss: 8.7234 - mean_absolute_error: 1.9412 - val_loss: 12.6866 - val_mean_absolute_error: 2.4910\n",
            "Epoch 22/200\n",
            " - 0s - loss: 7.9515 - mean_absolute_error: 1.8877 - val_loss: 13.4911 - val_mean_absolute_error: 2.5845\n",
            "Epoch 23/200\n",
            " - 0s - loss: 8.0933 - mean_absolute_error: 1.8573 - val_loss: 13.8489 - val_mean_absolute_error: 2.6687\n",
            "Epoch 24/200\n",
            " - 0s - loss: 7.9695 - mean_absolute_error: 1.8735 - val_loss: 14.6537 - val_mean_absolute_error: 2.7129\n",
            "Epoch 25/200\n",
            " - 0s - loss: 7.9109 - mean_absolute_error: 1.8670 - val_loss: 13.3306 - val_mean_absolute_error: 2.5672\n",
            "Epoch 26/200\n",
            " - 0s - loss: 7.5651 - mean_absolute_error: 1.8413 - val_loss: 12.5093 - val_mean_absolute_error: 2.4751\n",
            "Epoch 27/200\n",
            " - 0s - loss: 7.8233 - mean_absolute_error: 1.8305 - val_loss: 12.4933 - val_mean_absolute_error: 2.4455\n",
            "Epoch 28/200\n",
            " - 0s - loss: 7.6695 - mean_absolute_error: 1.8440 - val_loss: 12.0719 - val_mean_absolute_error: 2.4969\n",
            "Epoch 29/200\n",
            " - 0s - loss: 7.3192 - mean_absolute_error: 1.7618 - val_loss: 13.6356 - val_mean_absolute_error: 2.6209\n",
            "Epoch 30/200\n",
            " - 0s - loss: 7.7427 - mean_absolute_error: 1.7857 - val_loss: 13.5185 - val_mean_absolute_error: 2.5970\n",
            "Epoch 31/200\n",
            " - 0s - loss: 7.2298 - mean_absolute_error: 1.8057 - val_loss: 12.8530 - val_mean_absolute_error: 2.4516\n",
            "Epoch 32/200\n",
            " - 0s - loss: 7.1103 - mean_absolute_error: 1.7162 - val_loss: 13.9584 - val_mean_absolute_error: 2.7735\n",
            "Epoch 33/200\n",
            " - 0s - loss: 7.3569 - mean_absolute_error: 1.7790 - val_loss: 12.9855 - val_mean_absolute_error: 2.4793\n",
            "Epoch 34/200\n",
            " - 0s - loss: 6.9453 - mean_absolute_error: 1.7182 - val_loss: 14.9593 - val_mean_absolute_error: 2.9529\n",
            "Epoch 35/200\n",
            " - 0s - loss: 6.8290 - mean_absolute_error: 1.7496 - val_loss: 12.3951 - val_mean_absolute_error: 2.4746\n",
            "Epoch 36/200\n",
            " - 0s - loss: 6.8411 - mean_absolute_error: 1.7654 - val_loss: 13.8299 - val_mean_absolute_error: 2.5900\n",
            "Epoch 37/200\n",
            " - 0s - loss: 6.8365 - mean_absolute_error: 1.7057 - val_loss: 12.1308 - val_mean_absolute_error: 2.4410\n",
            "Epoch 38/200\n",
            " - 0s - loss: 6.7448 - mean_absolute_error: 1.7171 - val_loss: 12.4647 - val_mean_absolute_error: 2.4692\n",
            "Epoch 39/200\n",
            " - 0s - loss: 6.5932 - mean_absolute_error: 1.7561 - val_loss: 13.2281 - val_mean_absolute_error: 2.7072\n",
            "Epoch 40/200\n",
            " - 0s - loss: 6.0984 - mean_absolute_error: 1.6936 - val_loss: 11.9807 - val_mean_absolute_error: 2.4807\n",
            "Epoch 41/200\n",
            " - 0s - loss: 6.2057 - mean_absolute_error: 1.6872 - val_loss: 12.6152 - val_mean_absolute_error: 2.4320\n",
            "Epoch 42/200\n",
            " - 0s - loss: 6.0685 - mean_absolute_error: 1.6422 - val_loss: 14.4168 - val_mean_absolute_error: 2.8534\n",
            "Epoch 43/200\n",
            " - 0s - loss: 6.3313 - mean_absolute_error: 1.7267 - val_loss: 12.4563 - val_mean_absolute_error: 2.4565\n",
            "Epoch 44/200\n",
            " - 0s - loss: 6.4179 - mean_absolute_error: 1.7077 - val_loss: 12.4909 - val_mean_absolute_error: 2.4381\n",
            "Epoch 45/200\n",
            " - 0s - loss: 6.2552 - mean_absolute_error: 1.6546 - val_loss: 13.9061 - val_mean_absolute_error: 2.6214\n",
            "Epoch 46/200\n",
            " - 0s - loss: 6.1183 - mean_absolute_error: 1.6892 - val_loss: 13.2380 - val_mean_absolute_error: 2.5715\n",
            "Epoch 47/200\n",
            " - 0s - loss: 6.0119 - mean_absolute_error: 1.6458 - val_loss: 11.8829 - val_mean_absolute_error: 2.4033\n",
            "Epoch 48/200\n",
            " - 0s - loss: 5.8205 - mean_absolute_error: 1.6530 - val_loss: 12.7390 - val_mean_absolute_error: 2.5921\n",
            "Epoch 49/200\n",
            " - 0s - loss: 5.7000 - mean_absolute_error: 1.6325 - val_loss: 12.0794 - val_mean_absolute_error: 2.3883\n",
            "Epoch 50/200\n",
            " - 0s - loss: 5.8419 - mean_absolute_error: 1.5667 - val_loss: 12.3625 - val_mean_absolute_error: 2.4147\n",
            "Epoch 51/200\n",
            " - 0s - loss: 6.1829 - mean_absolute_error: 1.5752 - val_loss: 13.3136 - val_mean_absolute_error: 2.4934\n",
            "Epoch 52/200\n",
            " - 0s - loss: 5.5961 - mean_absolute_error: 1.5508 - val_loss: 11.8841 - val_mean_absolute_error: 2.3713\n",
            "Epoch 53/200\n",
            " - 0s - loss: 5.7741 - mean_absolute_error: 1.5971 - val_loss: 11.8223 - val_mean_absolute_error: 2.3747\n",
            "Epoch 54/200\n",
            " - 0s - loss: 5.6843 - mean_absolute_error: 1.5451 - val_loss: 13.2984 - val_mean_absolute_error: 2.6835\n",
            "Epoch 55/200\n",
            " - 0s - loss: 5.2473 - mean_absolute_error: 1.5547 - val_loss: 15.2828 - val_mean_absolute_error: 2.9330\n",
            "Epoch 56/200\n",
            " - 0s - loss: 5.9089 - mean_absolute_error: 1.5844 - val_loss: 11.9511 - val_mean_absolute_error: 2.4898\n",
            "Epoch 57/200\n",
            " - 0s - loss: 5.2088 - mean_absolute_error: 1.4927 - val_loss: 15.7043 - val_mean_absolute_error: 3.1001\n",
            "Epoch 58/200\n",
            " - 0s - loss: 5.8540 - mean_absolute_error: 1.5920 - val_loss: 11.9011 - val_mean_absolute_error: 2.3406\n",
            "Epoch 59/200\n",
            " - 0s - loss: 5.4147 - mean_absolute_error: 1.4716 - val_loss: 11.7433 - val_mean_absolute_error: 2.3958\n",
            "Epoch 60/200\n",
            " - 0s - loss: 5.5597 - mean_absolute_error: 1.5854 - val_loss: 12.2403 - val_mean_absolute_error: 2.4624\n",
            "Epoch 61/200\n",
            " - 0s - loss: 5.1876 - mean_absolute_error: 1.5100 - val_loss: 13.1226 - val_mean_absolute_error: 2.5698\n",
            "Epoch 62/200\n",
            " - 0s - loss: 5.2807 - mean_absolute_error: 1.5528 - val_loss: 11.6296 - val_mean_absolute_error: 2.5008\n",
            "Epoch 63/200\n",
            " - 0s - loss: 5.4010 - mean_absolute_error: 1.5227 - val_loss: 11.6154 - val_mean_absolute_error: 2.3971\n",
            "Epoch 64/200\n",
            " - 0s - loss: 5.1083 - mean_absolute_error: 1.5074 - val_loss: 12.3149 - val_mean_absolute_error: 2.5994\n",
            "Epoch 65/200\n",
            " - 0s - loss: 5.0720 - mean_absolute_error: 1.4543 - val_loss: 11.8269 - val_mean_absolute_error: 2.3523\n",
            "Epoch 66/200\n",
            " - 0s - loss: 5.2948 - mean_absolute_error: 1.4974 - val_loss: 12.4964 - val_mean_absolute_error: 2.6224\n",
            "Epoch 67/200\n",
            " - 0s - loss: 5.2585 - mean_absolute_error: 1.4500 - val_loss: 11.4605 - val_mean_absolute_error: 2.4301\n",
            "Epoch 68/200\n",
            " - 0s - loss: 4.9397 - mean_absolute_error: 1.4795 - val_loss: 11.7049 - val_mean_absolute_error: 2.3932\n",
            "Epoch 69/200\n",
            " - 0s - loss: 5.2255 - mean_absolute_error: 1.4962 - val_loss: 10.7442 - val_mean_absolute_error: 2.2983\n",
            "Epoch 70/200\n",
            " - 0s - loss: 4.8317 - mean_absolute_error: 1.4268 - val_loss: 12.1081 - val_mean_absolute_error: 2.6132\n",
            "Epoch 71/200\n",
            " - 0s - loss: 5.0502 - mean_absolute_error: 1.4710 - val_loss: 10.7740 - val_mean_absolute_error: 2.2899\n",
            "Epoch 72/200\n",
            " - 0s - loss: 4.7944 - mean_absolute_error: 1.4385 - val_loss: 10.5739 - val_mean_absolute_error: 2.2949\n",
            "Epoch 73/200\n",
            " - 0s - loss: 5.0141 - mean_absolute_error: 1.4591 - val_loss: 11.4116 - val_mean_absolute_error: 2.3614\n",
            "Epoch 74/200\n",
            " - 0s - loss: 4.8406 - mean_absolute_error: 1.4448 - val_loss: 11.5435 - val_mean_absolute_error: 2.4152\n",
            "Epoch 75/200\n",
            " - 0s - loss: 5.0678 - mean_absolute_error: 1.4095 - val_loss: 10.5344 - val_mean_absolute_error: 2.2602\n",
            "Epoch 76/200\n",
            " - 0s - loss: 4.8217 - mean_absolute_error: 1.4269 - val_loss: 10.9020 - val_mean_absolute_error: 2.3266\n",
            "Epoch 77/200\n",
            " - 0s - loss: 4.8653 - mean_absolute_error: 1.4286 - val_loss: 11.1214 - val_mean_absolute_error: 2.3423\n",
            "Epoch 78/200\n",
            " - 0s - loss: 4.7313 - mean_absolute_error: 1.4107 - val_loss: 11.1197 - val_mean_absolute_error: 2.4085\n",
            "Epoch 79/200\n",
            " - 0s - loss: 4.2297 - mean_absolute_error: 1.4205 - val_loss: 10.7992 - val_mean_absolute_error: 2.3575\n",
            "Epoch 80/200\n",
            " - 0s - loss: 4.7958 - mean_absolute_error: 1.4052 - val_loss: 10.8982 - val_mean_absolute_error: 2.3187\n",
            "Epoch 81/200\n",
            " - 0s - loss: 4.6336 - mean_absolute_error: 1.3704 - val_loss: 13.9644 - val_mean_absolute_error: 2.8729\n",
            "Epoch 82/200\n",
            " - 0s - loss: 4.4077 - mean_absolute_error: 1.3978 - val_loss: 12.4418 - val_mean_absolute_error: 2.6241\n",
            "Epoch 83/200\n",
            " - 0s - loss: 4.3167 - mean_absolute_error: 1.3707 - val_loss: 11.0428 - val_mean_absolute_error: 2.4251\n",
            "Epoch 84/200\n",
            " - 0s - loss: 4.4167 - mean_absolute_error: 1.3654 - val_loss: 10.8882 - val_mean_absolute_error: 2.3103\n",
            "Epoch 85/200\n",
            " - 0s - loss: 4.4979 - mean_absolute_error: 1.3736 - val_loss: 11.8367 - val_mean_absolute_error: 2.4613\n",
            "Epoch 86/200\n",
            " - 0s - loss: 4.3844 - mean_absolute_error: 1.3257 - val_loss: 10.9891 - val_mean_absolute_error: 2.3427\n",
            "Epoch 87/200\n",
            " - 0s - loss: 4.6959 - mean_absolute_error: 1.3935 - val_loss: 11.0872 - val_mean_absolute_error: 2.3538\n",
            "Epoch 88/200\n",
            " - 0s - loss: 4.1334 - mean_absolute_error: 1.3184 - val_loss: 11.3848 - val_mean_absolute_error: 2.4152\n",
            "Epoch 89/200\n",
            " - 0s - loss: 3.9695 - mean_absolute_error: 1.3183 - val_loss: 10.2919 - val_mean_absolute_error: 2.2543\n",
            "Epoch 90/200\n",
            " - 0s - loss: 4.0903 - mean_absolute_error: 1.3411 - val_loss: 10.2938 - val_mean_absolute_error: 2.2691\n",
            "Epoch 91/200\n",
            " - 0s - loss: 4.2489 - mean_absolute_error: 1.3112 - val_loss: 11.5539 - val_mean_absolute_error: 2.4056\n",
            "Epoch 92/200\n",
            " - 0s - loss: 4.3573 - mean_absolute_error: 1.3238 - val_loss: 11.4003 - val_mean_absolute_error: 2.3928\n",
            "Epoch 93/200\n",
            " - 0s - loss: 4.4557 - mean_absolute_error: 1.3351 - val_loss: 11.1879 - val_mean_absolute_error: 2.4573\n",
            "Epoch 94/200\n",
            " - 0s - loss: 4.2898 - mean_absolute_error: 1.3495 - val_loss: 11.4988 - val_mean_absolute_error: 2.4448\n",
            "Epoch 95/200\n",
            " - 0s - loss: 4.3483 - mean_absolute_error: 1.3813 - val_loss: 11.9914 - val_mean_absolute_error: 2.4122\n",
            "Epoch 96/200\n",
            " - 0s - loss: 4.2739 - mean_absolute_error: 1.3384 - val_loss: 11.5628 - val_mean_absolute_error: 2.3664\n",
            "Epoch 97/200\n",
            " - 0s - loss: 4.2114 - mean_absolute_error: 1.3804 - val_loss: 11.4407 - val_mean_absolute_error: 2.4780\n",
            "Epoch 98/200\n",
            " - 0s - loss: 4.0727 - mean_absolute_error: 1.3245 - val_loss: 10.9281 - val_mean_absolute_error: 2.3360\n",
            "Epoch 99/200\n",
            " - 0s - loss: 4.2597 - mean_absolute_error: 1.2905 - val_loss: 10.2826 - val_mean_absolute_error: 2.2758\n",
            "Epoch 100/200\n",
            " - 0s - loss: 4.0951 - mean_absolute_error: 1.3019 - val_loss: 10.8422 - val_mean_absolute_error: 2.3340\n",
            "Epoch 101/200\n",
            " - 0s - loss: 3.8149 - mean_absolute_error: 1.2810 - val_loss: 10.5497 - val_mean_absolute_error: 2.3483\n",
            "Epoch 102/200\n",
            " - 0s - loss: 4.1416 - mean_absolute_error: 1.2806 - val_loss: 10.8191 - val_mean_absolute_error: 2.2914\n",
            "Epoch 103/200\n",
            " - 0s - loss: 3.8235 - mean_absolute_error: 1.3003 - val_loss: 10.9679 - val_mean_absolute_error: 2.3257\n",
            "Epoch 104/200\n",
            " - 0s - loss: 3.9385 - mean_absolute_error: 1.3096 - val_loss: 11.6656 - val_mean_absolute_error: 2.5197\n",
            "Epoch 105/200\n",
            " - 0s - loss: 4.0593 - mean_absolute_error: 1.2634 - val_loss: 10.6270 - val_mean_absolute_error: 2.3462\n",
            "Epoch 106/200\n",
            " - 0s - loss: 3.9697 - mean_absolute_error: 1.2641 - val_loss: 10.1519 - val_mean_absolute_error: 2.2817\n",
            "Epoch 107/200\n",
            " - 0s - loss: 3.5500 - mean_absolute_error: 1.2281 - val_loss: 11.3481 - val_mean_absolute_error: 2.3735\n",
            "Epoch 108/200\n",
            " - 0s - loss: 3.9260 - mean_absolute_error: 1.2422 - val_loss: 11.5010 - val_mean_absolute_error: 2.4414\n",
            "Epoch 109/200\n",
            " - 0s - loss: 3.8855 - mean_absolute_error: 1.2957 - val_loss: 11.4316 - val_mean_absolute_error: 2.4341\n",
            "Epoch 110/200\n",
            " - 0s - loss: 3.9532 - mean_absolute_error: 1.2785 - val_loss: 10.3476 - val_mean_absolute_error: 2.3607\n",
            "Epoch 111/200\n",
            " - 0s - loss: 3.8384 - mean_absolute_error: 1.2014 - val_loss: 10.5395 - val_mean_absolute_error: 2.3436\n",
            "Epoch 112/200\n",
            " - 0s - loss: 3.8822 - mean_absolute_error: 1.2499 - val_loss: 10.2092 - val_mean_absolute_error: 2.3076\n",
            "Epoch 113/200\n",
            " - 0s - loss: 3.8886 - mean_absolute_error: 1.2770 - val_loss: 9.8618 - val_mean_absolute_error: 2.2320\n",
            "Epoch 114/200\n",
            " - 0s - loss: 3.5250 - mean_absolute_error: 1.2158 - val_loss: 10.2039 - val_mean_absolute_error: 2.3372\n",
            "Epoch 115/200\n",
            " - 0s - loss: 3.9332 - mean_absolute_error: 1.2852 - val_loss: 9.9287 - val_mean_absolute_error: 2.2747\n",
            "Epoch 116/200\n",
            " - 0s - loss: 3.7927 - mean_absolute_error: 1.2059 - val_loss: 9.9423 - val_mean_absolute_error: 2.2255\n",
            "Epoch 117/200\n",
            " - 0s - loss: 3.8232 - mean_absolute_error: 1.2147 - val_loss: 10.3771 - val_mean_absolute_error: 2.3398\n",
            "Epoch 118/200\n",
            " - 0s - loss: 3.8456 - mean_absolute_error: 1.2500 - val_loss: 11.9569 - val_mean_absolute_error: 2.5500\n",
            "Epoch 119/200\n",
            " - 0s - loss: 3.6206 - mean_absolute_error: 1.2464 - val_loss: 9.8726 - val_mean_absolute_error: 2.2370\n",
            "Epoch 120/200\n",
            " - 0s - loss: 3.6320 - mean_absolute_error: 1.1970 - val_loss: 11.5039 - val_mean_absolute_error: 2.4344\n",
            "Epoch 121/200\n",
            " - 0s - loss: 3.6249 - mean_absolute_error: 1.1811 - val_loss: 10.5435 - val_mean_absolute_error: 2.3688\n",
            "Epoch 122/200\n",
            " - 0s - loss: 3.8297 - mean_absolute_error: 1.2687 - val_loss: 9.5563 - val_mean_absolute_error: 2.1784\n",
            "Epoch 123/200\n",
            " - 0s - loss: 3.4389 - mean_absolute_error: 1.2413 - val_loss: 10.0016 - val_mean_absolute_error: 2.2938\n",
            "Epoch 124/200\n",
            " - 0s - loss: 3.5603 - mean_absolute_error: 1.2241 - val_loss: 10.8232 - val_mean_absolute_error: 2.3773\n",
            "Epoch 125/200\n",
            " - 0s - loss: 3.5239 - mean_absolute_error: 1.2080 - val_loss: 10.2243 - val_mean_absolute_error: 2.3245\n",
            "Epoch 126/200\n",
            " - 0s - loss: 3.1723 - mean_absolute_error: 1.1367 - val_loss: 11.4705 - val_mean_absolute_error: 2.4371\n",
            "Epoch 127/200\n",
            " - 0s - loss: 3.4283 - mean_absolute_error: 1.2102 - val_loss: 10.7373 - val_mean_absolute_error: 2.3871\n",
            "Epoch 128/200\n",
            " - 0s - loss: 3.4467 - mean_absolute_error: 1.2194 - val_loss: 10.4631 - val_mean_absolute_error: 2.3514\n",
            "Epoch 129/200\n",
            " - 0s - loss: 3.3968 - mean_absolute_error: 1.1792 - val_loss: 11.7997 - val_mean_absolute_error: 2.5281\n",
            "Epoch 130/200\n",
            " - 0s - loss: 3.3596 - mean_absolute_error: 1.1538 - val_loss: 11.0392 - val_mean_absolute_error: 2.4566\n",
            "Epoch 131/200\n",
            " - 0s - loss: 3.6613 - mean_absolute_error: 1.2319 - val_loss: 9.9456 - val_mean_absolute_error: 2.2249\n",
            "Epoch 132/200\n",
            " - 0s - loss: 3.6326 - mean_absolute_error: 1.2080 - val_loss: 9.8074 - val_mean_absolute_error: 2.3076\n",
            "Epoch 133/200\n",
            " - 0s - loss: 3.2822 - mean_absolute_error: 1.1407 - val_loss: 9.9650 - val_mean_absolute_error: 2.3154\n",
            "Epoch 134/200\n",
            " - 0s - loss: 3.4858 - mean_absolute_error: 1.2185 - val_loss: 10.0477 - val_mean_absolute_error: 2.3088\n",
            "Epoch 135/200\n",
            " - 0s - loss: 3.3537 - mean_absolute_error: 1.1959 - val_loss: 10.8995 - val_mean_absolute_error: 2.4167\n",
            "Epoch 136/200\n",
            " - 0s - loss: 3.2700 - mean_absolute_error: 1.1887 - val_loss: 9.5748 - val_mean_absolute_error: 2.2464\n",
            "Epoch 137/200\n",
            " - 0s - loss: 3.3979 - mean_absolute_error: 1.1863 - val_loss: 9.3849 - val_mean_absolute_error: 2.2243\n",
            "Epoch 138/200\n",
            " - 0s - loss: 3.0971 - mean_absolute_error: 1.1493 - val_loss: 9.8515 - val_mean_absolute_error: 2.3289\n",
            "Epoch 139/200\n",
            " - 0s - loss: 3.4175 - mean_absolute_error: 1.1832 - val_loss: 10.2000 - val_mean_absolute_error: 2.3947\n",
            "Epoch 140/200\n",
            " - 0s - loss: 3.2808 - mean_absolute_error: 1.2152 - val_loss: 9.6594 - val_mean_absolute_error: 2.2778\n",
            "Epoch 141/200\n",
            " - 0s - loss: 3.2935 - mean_absolute_error: 1.1460 - val_loss: 10.7852 - val_mean_absolute_error: 2.5039\n",
            "Epoch 142/200\n",
            " - 0s - loss: 3.1671 - mean_absolute_error: 1.1294 - val_loss: 9.2535 - val_mean_absolute_error: 2.1921\n",
            "Epoch 143/200\n",
            " - 0s - loss: 3.1315 - mean_absolute_error: 1.1472 - val_loss: 10.7699 - val_mean_absolute_error: 2.4164\n",
            "Epoch 144/200\n",
            " - 0s - loss: 3.1102 - mean_absolute_error: 1.1620 - val_loss: 10.1444 - val_mean_absolute_error: 2.3447\n",
            "Epoch 145/200\n",
            " - 0s - loss: 3.2492 - mean_absolute_error: 1.1502 - val_loss: 10.2494 - val_mean_absolute_error: 2.4051\n",
            "Epoch 146/200\n",
            " - 0s - loss: 2.7100 - mean_absolute_error: 1.1521 - val_loss: 10.5209 - val_mean_absolute_error: 2.4196\n",
            "Epoch 147/200\n",
            " - 0s - loss: 2.9608 - mean_absolute_error: 1.1361 - val_loss: 9.5494 - val_mean_absolute_error: 2.2123\n",
            "Epoch 148/200\n",
            " - 0s - loss: 2.9709 - mean_absolute_error: 1.1390 - val_loss: 9.7548 - val_mean_absolute_error: 2.2798\n",
            "Epoch 149/200\n",
            " - 0s - loss: 3.2008 - mean_absolute_error: 1.1402 - val_loss: 9.7103 - val_mean_absolute_error: 2.3336\n",
            "Epoch 150/200\n",
            " - 0s - loss: 2.8576 - mean_absolute_error: 1.1019 - val_loss: 10.8210 - val_mean_absolute_error: 2.3620\n",
            "Epoch 151/200\n",
            " - 0s - loss: 3.1664 - mean_absolute_error: 1.1231 - val_loss: 9.7343 - val_mean_absolute_error: 2.2486\n",
            "Epoch 152/200\n",
            " - 0s - loss: 3.0566 - mean_absolute_error: 1.1386 - val_loss: 9.9916 - val_mean_absolute_error: 2.3537\n",
            "Epoch 153/200\n",
            " - 0s - loss: 2.7332 - mean_absolute_error: 1.1141 - val_loss: 10.7791 - val_mean_absolute_error: 2.4423\n",
            "Epoch 154/200\n",
            " - 0s - loss: 3.2846 - mean_absolute_error: 1.1554 - val_loss: 9.9984 - val_mean_absolute_error: 2.3177\n",
            "Epoch 155/200\n",
            " - 0s - loss: 2.9586 - mean_absolute_error: 1.0946 - val_loss: 10.5989 - val_mean_absolute_error: 2.4602\n",
            "Epoch 156/200\n",
            " - 0s - loss: 3.0703 - mean_absolute_error: 1.1016 - val_loss: 10.0886 - val_mean_absolute_error: 2.3931\n",
            "Epoch 157/200\n",
            " - 0s - loss: 2.8786 - mean_absolute_error: 1.1059 - val_loss: 11.0618 - val_mean_absolute_error: 2.4282\n",
            "Epoch 158/200\n",
            " - 0s - loss: 2.9069 - mean_absolute_error: 1.0856 - val_loss: 9.8094 - val_mean_absolute_error: 2.2845\n",
            "Epoch 159/200\n",
            " - 0s - loss: 3.1275 - mean_absolute_error: 1.0868 - val_loss: 10.9092 - val_mean_absolute_error: 2.4719\n",
            "Epoch 160/200\n",
            " - 0s - loss: 2.8674 - mean_absolute_error: 1.1209 - val_loss: 9.5739 - val_mean_absolute_error: 2.2655\n",
            "Epoch 161/200\n",
            " - 0s - loss: 2.9082 - mean_absolute_error: 1.0991 - val_loss: 9.4237 - val_mean_absolute_error: 2.3347\n",
            "Epoch 162/200\n",
            " - 0s - loss: 2.9396 - mean_absolute_error: 1.1002 - val_loss: 9.4920 - val_mean_absolute_error: 2.2286\n",
            "Epoch 163/200\n",
            " - 0s - loss: 2.7850 - mean_absolute_error: 1.0752 - val_loss: 9.7717 - val_mean_absolute_error: 2.3048\n",
            "Epoch 164/200\n",
            " - 0s - loss: 2.8841 - mean_absolute_error: 1.0964 - val_loss: 10.4641 - val_mean_absolute_error: 2.4047\n",
            "Epoch 165/200\n",
            " - 0s - loss: 2.7599 - mean_absolute_error: 1.0833 - val_loss: 12.8521 - val_mean_absolute_error: 2.6317\n",
            "Epoch 166/200\n",
            " - 0s - loss: 2.8566 - mean_absolute_error: 1.0742 - val_loss: 11.6367 - val_mean_absolute_error: 2.4746\n",
            "Epoch 167/200\n",
            " - 0s - loss: 2.7098 - mean_absolute_error: 1.0788 - val_loss: 11.5362 - val_mean_absolute_error: 2.4768\n",
            "Epoch 168/200\n",
            " - 0s - loss: 2.9119 - mean_absolute_error: 1.1179 - val_loss: 10.8972 - val_mean_absolute_error: 2.4037\n",
            "Epoch 169/200\n",
            " - 0s - loss: 2.9367 - mean_absolute_error: 1.0833 - val_loss: 10.4698 - val_mean_absolute_error: 2.3578\n",
            "Epoch 170/200\n",
            " - 0s - loss: 2.7181 - mean_absolute_error: 1.0469 - val_loss: 10.7075 - val_mean_absolute_error: 2.4084\n",
            "Epoch 171/200\n",
            " - 0s - loss: 2.6234 - mean_absolute_error: 1.0698 - val_loss: 10.5824 - val_mean_absolute_error: 2.4073\n",
            "Epoch 172/200\n",
            " - 0s - loss: 2.8766 - mean_absolute_error: 1.1006 - val_loss: 10.5230 - val_mean_absolute_error: 2.4198\n",
            "Epoch 173/200\n",
            " - 0s - loss: 2.5586 - mean_absolute_error: 1.0237 - val_loss: 11.3660 - val_mean_absolute_error: 2.5692\n",
            "Epoch 174/200\n",
            " - 0s - loss: 2.7412 - mean_absolute_error: 1.0771 - val_loss: 10.7835 - val_mean_absolute_error: 2.4153\n",
            "Epoch 175/200\n",
            " - 0s - loss: 2.5629 - mean_absolute_error: 1.0526 - val_loss: 10.3215 - val_mean_absolute_error: 2.3536\n",
            "Epoch 176/200\n",
            " - 0s - loss: 2.5288 - mean_absolute_error: 0.9953 - val_loss: 10.3219 - val_mean_absolute_error: 2.3368\n",
            "Epoch 177/200\n",
            " - 0s - loss: 2.5580 - mean_absolute_error: 1.0521 - val_loss: 10.6633 - val_mean_absolute_error: 2.3552\n",
            "Epoch 178/200\n",
            " - 0s - loss: 2.8472 - mean_absolute_error: 1.1233 - val_loss: 10.3667 - val_mean_absolute_error: 2.3439\n",
            "Epoch 179/200\n",
            " - 0s - loss: 2.7217 - mean_absolute_error: 1.0341 - val_loss: 10.7960 - val_mean_absolute_error: 2.3752\n",
            "Epoch 180/200\n",
            " - 0s - loss: 2.4780 - mean_absolute_error: 1.0360 - val_loss: 10.1194 - val_mean_absolute_error: 2.3422\n",
            "Epoch 181/200\n",
            " - 0s - loss: 2.6703 - mean_absolute_error: 1.0311 - val_loss: 10.6701 - val_mean_absolute_error: 2.4021\n",
            "Epoch 182/200\n",
            " - 0s - loss: 2.6137 - mean_absolute_error: 1.0705 - val_loss: 10.6704 - val_mean_absolute_error: 2.3690\n",
            "Epoch 183/200\n",
            " - 0s - loss: 2.4510 - mean_absolute_error: 1.0499 - val_loss: 10.3779 - val_mean_absolute_error: 2.3828\n",
            "Epoch 184/200\n",
            " - 0s - loss: 2.7125 - mean_absolute_error: 1.0358 - val_loss: 10.6611 - val_mean_absolute_error: 2.4305\n",
            "Epoch 185/200\n",
            " - 0s - loss: 2.4981 - mean_absolute_error: 1.0899 - val_loss: 9.9307 - val_mean_absolute_error: 2.3011\n",
            "Epoch 186/200\n",
            " - 0s - loss: 2.4886 - mean_absolute_error: 1.0193 - val_loss: 10.9885 - val_mean_absolute_error: 2.4845\n",
            "Epoch 187/200\n",
            " - 0s - loss: 2.6163 - mean_absolute_error: 1.0719 - val_loss: 10.9448 - val_mean_absolute_error: 2.3972\n",
            "Epoch 188/200\n",
            " - 0s - loss: 2.3542 - mean_absolute_error: 0.9962 - val_loss: 10.4954 - val_mean_absolute_error: 2.3414\n",
            "Epoch 189/200\n",
            " - 0s - loss: 2.5293 - mean_absolute_error: 1.0878 - val_loss: 10.9852 - val_mean_absolute_error: 2.4203\n",
            "Epoch 190/200\n",
            " - 0s - loss: 2.5281 - mean_absolute_error: 1.0294 - val_loss: 10.6668 - val_mean_absolute_error: 2.3889\n",
            "Epoch 191/200\n",
            " - 0s - loss: 2.4307 - mean_absolute_error: 1.0228 - val_loss: 10.5321 - val_mean_absolute_error: 2.3363\n",
            "Epoch 192/200\n",
            " - 0s - loss: 2.3637 - mean_absolute_error: 1.0391 - val_loss: 11.5982 - val_mean_absolute_error: 2.4816\n",
            "Epoch 193/200\n",
            " - 0s - loss: 2.3665 - mean_absolute_error: 1.0734 - val_loss: 11.8028 - val_mean_absolute_error: 2.6114\n",
            "Epoch 194/200\n",
            " - 0s - loss: 2.5936 - mean_absolute_error: 1.0902 - val_loss: 11.1712 - val_mean_absolute_error: 2.5172\n",
            "Epoch 195/200\n",
            " - 0s - loss: 2.3252 - mean_absolute_error: 1.0427 - val_loss: 10.9012 - val_mean_absolute_error: 2.4337\n",
            "Epoch 196/200\n",
            " - 0s - loss: 2.4401 - mean_absolute_error: 1.0443 - val_loss: 10.8584 - val_mean_absolute_error: 2.3628\n",
            "Epoch 197/200\n",
            " - 0s - loss: 2.3738 - mean_absolute_error: 1.0416 - val_loss: 10.7202 - val_mean_absolute_error: 2.4143\n",
            "Epoch 198/200\n",
            " - 0s - loss: 2.5348 - mean_absolute_error: 1.0420 - val_loss: 10.8902 - val_mean_absolute_error: 2.4813\n",
            "Epoch 199/200\n",
            " - 0s - loss: 2.2688 - mean_absolute_error: 1.0503 - val_loss: 12.4475 - val_mean_absolute_error: 2.5336\n",
            "Epoch 200/200\n",
            " - 0s - loss: 2.3543 - mean_absolute_error: 0.9994 - val_loss: 10.9971 - val_mean_absolute_error: 2.4416\n"
          ],
          "name": "stdout"
        }
      ]
    },
    {
      "cell_type": "code",
      "metadata": {
        "colab_type": "code",
        "id": "g1EJEG6a9Ew-",
        "outputId": "b3d7a3e7-fd48-45d1-f7cf-aad0801d56d9",
        "colab": {
          "base_uri": "https://localhost:8080/",
          "height": 500
        }
      },
      "source": [
        "plt.plot(all_mae_histories[0])\n",
        "plt.plot(all_mae_histories[1])\n",
        "plt.plot(all_mae_histories[2])\n",
        "plt.plot(all_mae_histories[3])\n",
        "plt.title('Validation loss')\n",
        "plt.ylabel('loss')\n",
        "plt.xlabel('epoch')\n",
        "plt.legend(['fold1', 'fold2', 'fold3', 'fold4'], loc = 'best')\n",
        "plt.show()"
      ],
      "execution_count": 48,
      "outputs": [
        {
          "output_type": "display_data",
          "data": {
            "image/png": "[encoded data removed]",
            "text/plain": [
              "<Figure size 750x500 with 1 Axes>"
            ]
          },
          "metadata": {
            "tags": []
          }
        }
      ]
    },
    {
      "cell_type": "markdown",
      "metadata": {
        "colab_type": "text",
        "id": "ARqVvyMX9ExF"
      },
      "source": [
        "#### Takeaways\n",
        "* Regression is usually done using MSE loss and MAE for evaluation\n",
        "* Input data should always be scaled (independent from the test set)\n",
        "* Small datasets:\n",
        "    - Use cross-validation\n",
        "    - Use simple (non-deep) networks\n",
        "    - Smaller batches, more epochs"
      ]
    }
  ]
}